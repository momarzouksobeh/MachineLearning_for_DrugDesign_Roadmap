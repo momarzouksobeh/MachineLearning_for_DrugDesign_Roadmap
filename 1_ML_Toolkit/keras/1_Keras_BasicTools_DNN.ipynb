{
 "cells": [
  {
   "cell_type": "markdown",
   "metadata": {},
   "source": [
    "# Keras Basic Tools for Deep Neural Network (DNN) "
   ]
  },
  {
   "cell_type": "markdown",
   "metadata": {},
   "source": [
    "### What is Keras ?\n",
    "- Keras is a powerful and easy-to-use free open source Python library for developing and evaluating neural networking models.\n",
    "- It is part of the TensorFlow library and allows you to define and train neural network (NN) models in just a few lines of code."
   ]
  },
  {
   "cell_type": "markdown",
   "metadata": {},
   "source": [
    "### What is the version of Keras used in this tutorial ?\n",
    "- **Keras** can be accessed either as a dependent module within **TensorFlow** or independently as a standalone framework. \n",
    "> For this notebook, we are utilizing **TensorFlow** and **Keras**, with versions '2.14.0', and '2.12.0' respectively. "
   ]
  },
  {
   "cell_type": "code",
   "execution_count": 1,
   "metadata": {},
   "outputs": [
    {
     "name": "stdout",
     "output_type": "stream",
     "text": [
      "The version of tensorflow is :  2.14.0\n",
      "The version of keras is :  2.12.0\n"
     ]
    }
   ],
   "source": [
    "import tensorflow as tf\n",
    "# from tensorflow import keras\n",
    "import keras\n",
    "print(\"The version of tensorflow is : \", tf.__version__)\n",
    "print(\"The version of keras is : \", keras.__version__)\n"
   ]
  },
  {
   "cell_type": "markdown",
   "metadata": {},
   "source": [
    "### What are the fundamental steps involved in constructing a neural network (NN) model using Keras? \n",
    "1. Load Data\n",
    "2. Define Keras Model\n",
    "3. Compile Keras Model\n",
    "4. Fit Keras Model\n",
    "5. Evaluate Keras Model\n",
    "6. Make Predictions\n",
    "7. Saving and loading the model architecture\n",
    "8. flowchart for our NN model (Optional)\n",
    "\n",
    "> let's start our journey to build our NN model step by step "
   ]
  },
  {
   "cell_type": "markdown",
   "metadata": {},
   "source": [
    "### 1. Load Data"
   ]
  },
  {
   "cell_type": "markdown",
   "metadata": {},
   "source": [
    "* **MNIST dataset**\n",
    "    * We are using here in this notebook **MNIST dataset** in Keras, which is a widely used benchmark dataset for handwritten digit recognition. \n",
    "    * The dataset encompasses grayscale images of handwritten digits (0 through 9) each image is 28x28 pixels,\n",
    "    * You can use one of other ways to load the dataset from keras or tf.keras "
   ]
  },
  {
   "cell_type": "code",
   "execution_count": 2,
   "metadata": {},
   "outputs": [],
   "source": [
    "mnist = tf.keras.datasets.mnist\n",
    "# Or\n",
    "# mnist = keras.datasets.mnist"
   ]
  },
  {
   "cell_type": "markdown",
   "metadata": {},
   "source": [
    "> We will divide our data into training and testing sets for the purpose of building our model"
   ]
  },
  {
   "cell_type": "code",
   "execution_count": 3,
   "metadata": {},
   "outputs": [
    {
     "name": "stdout",
     "output_type": "stream",
     "text": [
      "X Train Shape is :  (60000, 28, 28)\n",
      "---------------------------------------- \n",
      "X Test Shape is :  (10000, 28, 28)\n",
      "---------------------------------------- \n",
      "y Train Shape is :  (60000,)\n",
      "---------------------------------------- \n",
      "y Test Shape is :  (10000,)\n"
     ]
    }
   ],
   "source": [
    "(x_train, y_train),(x_test, y_test) = mnist.load_data()\n",
    "print('X Train Shape is : ' , x_train.shape)\n",
    "# print('X Train  is : ' , x_train[1])\n",
    "print('---------------------------------------- ')\n",
    "print('X Test Shape is : ' , x_test.shape)\n",
    "# print('X Test  is : ' , x_test[1])\n",
    "print('---------------------------------------- ')\n",
    "print('y Train Shape is : ' , y_train.shape)\n",
    "# print('y Train is : ' , y_train[5])\n",
    "print('---------------------------------------- ')\n",
    "print('y Test Shape is : ' , y_test.shape)\n",
    "# print('y Test  is : ' , y_test[5])"
   ]
  },
  {
   "cell_type": "markdown",
   "metadata": {},
   "source": [
    "### 2. Define Keras Model"
   ]
  },
  {
   "cell_type": "markdown",
   "metadata": {},
   "source": [
    "- The initial stage in constructing your neural network model with Keras involves creating a model object using the **Sequential** class. Subsequently, we incrementally incorporate layers into our model until we achieve the desired architecture for our neural network."
   ]
  },
  {
   "cell_type": "code",
   "execution_count": 4,
   "metadata": {},
   "outputs": [],
   "source": [
    "NN_first_model = tf.keras.models.Sequential()"
   ]
  },
  {
   "cell_type": "markdown",
   "metadata": {},
   "source": [
    "* Add the input layer : using the Flatten class. \n",
    "    * it is named \"Flatten\" layer because it serves the purpose of flattening or reshaping the input data.\n",
    "    * The Flatten layer is typically used to transform multidimensional input into a one-dimensional array.\n",
    "    * This means that each image of our dataset (28x28 pixels images) will be one vector\n",
    "    * make sure that the input layer has the correct number of input features using the argument **input_shape**\n"
   ]
  },
  {
   "cell_type": "code",
   "execution_count": 5,
   "metadata": {},
   "outputs": [],
   "source": [
    "NN_first_model.add(tf.keras.layers.Flatten())"
   ]
  },
  {
   "cell_type": "markdown",
   "metadata": {},
   "source": [
    "* Add Fully connected hidden layers : using the Dense class\n",
    "    * The term \"dense\" refers to a densely connected layer. \n",
    "    * A densely connected layer is a type of layer where each neuron or node in the layer is connected to every neuron in the previous layer.\n",
    "    * A tricky question here is, How do we know the number of layers and their types?\n",
    "    * You can specify the number of neurons or nodes in the layer as the first argument \n",
    "    * Also the activation function can specify using the activation argument (**activation =  softmax  , elu , relu , tanh , sigmoid , linear**)\n",
    "* The activation function: \n",
    "    * It used to be the case that Sigmoid and Tanh activation functions were preferred for all layers. \n",
    "    * These days, better performance is achieved using the **ReLU** activation function. \n",
    "    * Using a sigmoid on the output layer ensures your network output is between 0 and 1 (Binary Classification).\n",
    "    * For Multi Classification we use **softmax** as activation function. "
   ]
  },
  {
   "cell_type": "code",
   "execution_count": 6,
   "metadata": {},
   "outputs": [],
   "source": [
    "NN_first_model.add(tf.keras.layers.Dense(128, activation=tf.nn.relu))"
   ]
  },
  {
   "cell_type": "markdown",
   "metadata": {},
   "source": [
    "* Dropout some of the layers : Using **Dropout** class \n",
    "    * Sometimes, in order to address the issue of **overfitting** in our neural network model, we can mitigate it by selectively dropping out neurons from our network.\n",
    "    * **Overfitting** occurs when a model learns the training data too well, capturing noise or random fluctuations in the data that do not generalize well to new, unseen data. \n",
    "    * The overfitting can lead to a drop in performance when the model is applied to new datasets, a phenomenon typically detected during the testing phase of our NN model.\n",
    "    * **Dropout** is a regularization technique that addresses overfitting by randomly \"dropping out\" a proportion of neurons during training.\n",
    "    * You can control the neurons that will be drop from you NN with a dropout rate argument such as 0.5"
   ]
  },
  {
   "cell_type": "code",
   "execution_count": 7,
   "metadata": {},
   "outputs": [],
   "source": [
    "NN_first_model.add(tf.keras.layers.Dropout(0.2))"
   ]
  },
  {
   "cell_type": "markdown",
   "metadata": {},
   "source": [
    "* Add the output layer : using the Dense class. \n",
    "    * You have to decide the number of nodes in the output layer based on the case of study \n",
    "    * If it is binary classification  between 0 and 1, so better to use **sigmoid** function as activation function \n",
    "    * If it is Multi Classification (Like our current example we have 10 possible outputs), so better to use **softmax** function as activation function "
   ]
  },
  {
   "cell_type": "code",
   "execution_count": 8,
   "metadata": {},
   "outputs": [],
   "source": [
    "NN_first_model.add(tf.keras.layers.Dense(10, activation=tf.nn.softmax))"
   ]
  },
  {
   "cell_type": "markdown",
   "metadata": {},
   "source": [
    "                              \" However, We can define our model one time \""
   ]
  },
  {
   "cell_type": "code",
   "execution_count": 9,
   "metadata": {},
   "outputs": [],
   "source": [
    "NN_first_model = tf.keras.models.Sequential([tf.keras.layers.Flatten(),\n",
    "                                    tf.keras.layers.Dense(128, activation=tf.nn.relu),\n",
    "                                    tf.keras.layers.Dropout(0.2),\n",
    "                                    tf.keras.layers.Dense(10, activation=tf.nn.softmax)\n",
    "                                   ])"
   ]
  },
  {
   "cell_type": "markdown",
   "metadata": {},
   "source": [
    "> --> Once the model has been defined, the next step is to compile it. -->"
   ]
  },
  {
   "cell_type": "markdown",
   "metadata": {},
   "source": [
    "### 3. Compile Keras Model"
   ]
  },
  {
   "cell_type": "markdown",
   "metadata": {},
   "source": [
    "* What does it mean to compile the model?\n",
    "    * Compiling the model mean uses the efficient numerical libraries under the covers (the so-called backend) such as TensorFlow to configure the learning process before training the model. \n",
    "    * The backend automatically chooses the best way to represent the network for training and making predictions to run on your hardware, such as CPU, GPU, or even distributed.\n",
    "* Several parameters that define how the model will learn and adapt to the training data should be adjusted during compiling our model \n",
    "    * **Optimizer** : The optimization algorithm that adjusts the weights of the NN during training. \n",
    "        * Optimizer options :  SGD, Adam, and RMSprop.\n",
    "    * **Loss Function** : It serves as a guide for the optimizer to minimize the error.\n",
    "        * The choice of the loss function depends on the type of problem \\\n",
    "               - for regression --> **mse** \\\n",
    "               - for binary classification  --> **binary_crossentropy** \\\n",
    "               - for multi classification  --> **sparse_categorical_crossentropy**\n",
    "    * **Metrics** : Metrics are used to evaluate the performance of the model during training.\n",
    "        * for regression --> **mae**\n",
    "        * for classification --> **accuracy**\n",
    "* **adam** is the efficient stochastic gradient descent algorithm.\n",
    "    * This is a popular version of gradient descent because it automatically tunes itself and gives good results in a wide range of problems. \n"
   ]
  },
  {
   "cell_type": "code",
   "execution_count": 10,
   "metadata": {},
   "outputs": [],
   "source": [
    "NN_first_model.compile(optimizer='adam', loss='sparse_categorical_crossentropy', metrics=['accuracy'])"
   ]
  },
  {
   "cell_type": "markdown",
   "metadata": {},
   "source": [
    "> --> Once the model is compiled, it is ready for training -->"
   ]
  },
  {
   "cell_type": "markdown",
   "metadata": {},
   "source": [
    "### 4. Fit Keras Model"
   ]
  },
  {
   "cell_type": "markdown",
   "metadata": {},
   "source": [
    "- You have defined your model and compiled it to get ready for efficient computation."
   ]
  },
  {
   "cell_type": "markdown",
   "metadata": {},
   "source": [
    "* What actually happen in the fitting process?\n",
    "    * Fitting the model involves training the NN on a given dataset. \n",
    "    * You can train or fit your model on your loaded data by calling the *fit()* function on the model.\n",
    "    * The *fit* function is used to iteratively adjust the model's weights based on the training data, optimizing it to make accurate predictions.\n",
    "    * Training occurs over epochs, and each epoch is split into batches.\n",
    "        * Epoch: One pass through all of the rows in the training dataset, you can control by *epochs* argument.\n",
    "        * Batch: The number of samples considered by the model within an epoch before weights are updated, you can control by *batch_size* argument.\n",
    "* What does it mean the model convergence ?\n",
    "    * \"convergence\" refers to the point at which the model has reached an optimal or stable state in terms of learning from the training data.\n",
    "    * As a result, we are trying to choose these configurations (epochs, and batch_size) experimentally by trial and error.\n",
    "    * During each iteration (or epoch) of training, the model adjusts its internal parameters (weights and biases) to minimize a defined loss function. \n",
    "    * The concept of convergence is closely related to the optimization process that occurs during model training.\n",
    "    * The optimization algorithm aims to find the optimal set of parameters that result in the best fit to the training data.\n",
    "    * We want to train the model enough so that it learns a good (or good enough) mapping of rows of input data to the output classification. \n",
    "    * The model will always have some error, but the amount of error will level out after some point for a given model configuration.\n",
    "    * When a model converges, it means that further training iterations are unlikely to significantly improve its performance on the training dataset."
   ]
  },
  {
   "cell_type": "code",
   "execution_count": 11,
   "metadata": {},
   "outputs": [
    {
     "name": "stdout",
     "output_type": "stream",
     "text": [
      "Epoch 1/10\n",
      "16/60 [=======>......................] - ETA: 0s - loss: 49.7291 - accuracy: 0.4480 "
     ]
    },
    {
     "name": "stdout",
     "output_type": "stream",
     "text": [
      "60/60 [==============================] - 0s 3ms/step - loss: 17.3571 - accuracy: 0.6857\n",
      "Epoch 2/10\n",
      "60/60 [==============================] - 0s 3ms/step - loss: 1.7123 - accuracy: 0.7602\n",
      "Epoch 3/10\n",
      "60/60 [==============================] - 0s 3ms/step - loss: 1.0673 - accuracy: 0.7810\n",
      "Epoch 4/10\n",
      "60/60 [==============================] - 0s 3ms/step - loss: 0.8478 - accuracy: 0.8107\n",
      "Epoch 5/10\n",
      "60/60 [==============================] - 0s 3ms/step - loss: 0.7106 - accuracy: 0.8319\n",
      "Epoch 6/10\n",
      "60/60 [==============================] - 0s 3ms/step - loss: 0.6197 - accuracy: 0.8468\n",
      "Epoch 7/10\n",
      "60/60 [==============================] - 0s 3ms/step - loss: 0.5624 - accuracy: 0.8573\n",
      "Epoch 8/10\n",
      "60/60 [==============================] - 0s 4ms/step - loss: 0.5021 - accuracy: 0.8695\n",
      "Epoch 9/10\n",
      "60/60 [==============================] - 0s 3ms/step - loss: 0.4574 - accuracy: 0.8796\n",
      "Epoch 10/10\n",
      "60/60 [==============================] - 0s 3ms/step - loss: 0.4232 - accuracy: 0.8881\n"
     ]
    },
    {
     "data": {
      "text/plain": [
       "<keras.callbacks.History at 0x15fa53190>"
      ]
     },
     "execution_count": 11,
     "metadata": {},
     "output_type": "execute_result"
    }
   ],
   "source": [
    "NN_first_model.fit(x_train, y_train, epochs=10,  batch_size=1000)"
   ]
  },
  {
   "cell_type": "markdown",
   "metadata": {},
   "source": [
    "> --> Congratulations!, Once our model has been trained on the data, Now, we can assess its performance on any test data. -->"
   ]
  },
  {
   "cell_type": "markdown",
   "metadata": {},
   "source": [
    "\n",
    "### 5. Evaluate Keras Model\n"
   ]
  },
  {
   "cell_type": "markdown",
   "metadata": {},
   "source": [
    "* What does it mean to evaluate the model?\n",
    "    * Assessing its performance on a separate dataset, typically a validation set or a test set!\n",
    "    * You can evaluate your model on your test dataset using the *evaluate()* function.\n",
    "    * This will generate a prediction for each input and output pair and collect scores, including the average loss and any metrics you have configured, such as accuracy.\n",
    "    * The evaluate() function will return a list with two values. \n",
    "        * The first will be the loss of the model on the dataset. \n",
    "        * The second will be the accuracy of the model on the dataset."
   ]
  },
  {
   "cell_type": "code",
   "execution_count": 12,
   "metadata": {},
   "outputs": [
    {
     "name": "stdout",
     "output_type": "stream",
     "text": [
      "313/313 [==============================] - 0s 399us/step - loss: 0.4355 - accuracy: 0.9117\n",
      "The accuracy of our model on test dataset : 91.17\n",
      "The loss of our model on test dataset : 43.55\n"
     ]
    }
   ],
   "source": [
    "test_loss, test_acc = NN_first_model.evaluate(x_test, y_test)\n",
    "print('The accuracy of our model on test dataset : %.2f' % (test_acc*100))\n",
    "print('The loss of our model on test dataset : %.2f' % (test_loss*100))"
   ]
  },
  {
   "cell_type": "markdown",
   "metadata": {},
   "source": [
    "* our observation on the results:\n",
    "    * The accuracy of the model is low, Why?\n",
    "    * The main reason for that --> we are using the DNN with image related example, while the CNN is the better option of such kind of examples, so in another tutorial we will try the CNN and see what is the difference"
   ]
  },
  {
   "cell_type": "markdown",
   "metadata": {},
   "source": [
    "> After successfully training and evaluating your model, you can leverage it to make predictions on new data. "
   ]
  },
  {
   "cell_type": "markdown",
   "metadata": {},
   "source": [
    "### 6. Make Predictions with our model"
   ]
  },
  {
   "cell_type": "markdown",
   "metadata": {},
   "source": [
    "*  What does it mean to make prediction using your prepared model?\n",
    "     * I use it to generate predictions on a new dataset you have not seen before.\n",
    "     * here, we are using test data as example. \n",
    "     * Making predictions is as easy as calling the predict() function on the model. \n",
    "     * To easily handle the multi prediction for this classification task we can rounding them"
   ]
  },
  {
   "cell_type": "code",
   "execution_count": 13,
   "metadata": {},
   "outputs": [],
   "source": [
    "import numpy as np\n",
    "import matplotlib.pyplot as plt\n",
    "%matplotlib inline"
   ]
  },
  {
   "cell_type": "markdown",
   "metadata": {},
   "source": [
    "> Executing the prediction function once over the entire dataset will generate predictions that can be accessed from the output array"
   ]
  },
  {
   "cell_type": "code",
   "execution_count": 14,
   "metadata": {},
   "outputs": [
    {
     "name": "stdout",
     "output_type": "stream",
     "text": [
      "313/313 [==============================] - 0s 333us/step\n"
     ]
    }
   ],
   "source": [
    "predictions = NN_first_model.predict(x_test)"
   ]
  },
  {
   "cell_type": "markdown",
   "metadata": {},
   "source": [
    "> Let's see some cases and compare! you try any image number here as you want"
   ]
  },
  {
   "cell_type": "code",
   "execution_count": 30,
   "metadata": {},
   "outputs": [
    {
     "name": "stdout",
     "output_type": "stream",
     "text": [
      "The model predict the image as it is number :  9\n",
      "And, the real image as follows \n"
     ]
    },
    {
     "data": {
      "image/png": "[encoded data removed]",
      "text/plain": [
       "<Figure size 640x480 with 1 Axes>"
      ]
     },
     "metadata": {},
     "output_type": "display_data"
    }
   ],
   "source": [
    "image_no = 209 # you can change the image number as you want\n",
    "\n",
    "model_prediction = np.argmax(predictions[image_no])\n",
    "print(\"The model predict the image as it is number : \", model_prediction)\n",
    "print(\"And, the real image as follows \")\n",
    "plt.imshow(x_test[image_no], cmap='gray');"
   ]
  },
  {
   "cell_type": "markdown",
   "metadata": {},
   "source": [
    "> ##### Important Note : \n",
    "Our DNN model is not so good in prediction, already the efficiency is around 50 and we discussed the reason.  \n",
    "We can see an example for the model identified this image as number 2 in some trials\n",
    "\n",
    "\n",
    "|![](images/prediction_DNN.png) |\n",
    "| :--: |\n",
    "| Real Image for Number 3 | \n",
    "\n",
    "&nbsp;"
   ]
  },
  {
   "cell_type": "markdown",
   "metadata": {},
   "source": [
    "> To utilize your well-prepared model in the future, it's essential to save it."
   ]
  },
  {
   "cell_type": "markdown",
   "metadata": {},
   "source": [
    "### 7. Saving and loading the model architecture"
   ]
  },
  {
   "cell_type": "markdown",
   "metadata": {},
   "source": [
    "* After training, validation, and configuration, Why we need to save our model ?\n",
    "    * Load the model when needed for predictions, further training, or sharing with others.\n",
    "* Saving a Keras model in HDF5 format **(.h5 file)** is a common and preferred practice, Why? \\\n",
    "  For many reasons such as : \n",
    "    * Unified Storage : Saving the entire model in a single HDF5 file consolidates both the model architecture and the learned weights into one file. This simplifies storage and management.\n",
    "    * Portability: The HDF5 format is platform-independent and widely supported across different programming languages, which making it portable across different systems.\n",
    "    * Comprehensive Support in Keras: Keras provides a built-in save method that uses the HDF5 format by default. The load_model function in Keras is designed to work seamlessly with models saved in HDF5 format.\n",
    "    * Compatibility with TensorFlow and Other Libraries: TensorFlow, the backend for Keras, also supports the HDF5 format. \n",
    "    * Metadata Storage: HDF5 files can store additional metadata, such as optimizer configuration, training configuration, and compile-time information."
   ]
  },
  {
   "cell_type": "code",
   "execution_count": 16,
   "metadata": {},
   "outputs": [],
   "source": [
    "NN_first_model.save('my_NN_first_model.h5')"
   ]
  },
  {
   "cell_type": "markdown",
   "metadata": {},
   "source": [
    "> Load the model for future use "
   ]
  },
  {
   "cell_type": "code",
   "execution_count": 17,
   "metadata": {},
   "outputs": [],
   "source": [
    "new_model = keras.models.load_model('my_NN_first_model.h5')"
   ]
  },
  {
   "cell_type": "markdown",
   "metadata": {},
   "source": [
    "> Again we can check the model performance for the test dataset "
   ]
  },
  {
   "cell_type": "code",
   "execution_count": 18,
   "metadata": {},
   "outputs": [
    {
     "name": "stdout",
     "output_type": "stream",
     "text": [
      "  1/313 [..............................] - ETA: 14s - loss: 0.0602 - accuracy: 1.0000"
     ]
    },
    {
     "name": "stdout",
     "output_type": "stream",
     "text": [
      "313/313 [==============================] - 0s 446us/step - loss: 0.4355 - accuracy: 0.9117\n",
      "0.43548744916915894\n",
      "0.9117000102996826\n"
     ]
    }
   ],
   "source": [
    "test_loss, test_acc = new_model.evaluate(x_test, y_test)\n",
    "print('The accuracy of our model on test dataset : %.2f' % (test_acc*100))\n",
    "print('The loss of our model on test dataset : %.2f' % (test_loss*100))"
   ]
  },
  {
   "cell_type": "markdown",
   "metadata": {},
   "source": [
    "> Again we can use the loaded model to predict data"
   ]
  },
  {
   "cell_type": "code",
   "execution_count": 19,
   "metadata": {},
   "outputs": [
    {
     "name": "stdout",
     "output_type": "stream",
     "text": [
      "313/313 [==============================] - 0s 348us/step\n"
     ]
    }
   ],
   "source": [
    "new_predictions = new_model.predict(x_test)"
   ]
  },
  {
   "cell_type": "markdown",
   "metadata": {},
   "source": [
    "> Let's see some cases and compare for the new prediction! "
   ]
  },
  {
   "cell_type": "code",
   "execution_count": 20,
   "metadata": {},
   "outputs": [
    {
     "name": "stdout",
     "output_type": "stream",
     "text": [
      "The model predict the image as it is number :  3\n",
      "And, the real image as follows \n"
     ]
    },
    {
     "data": {
      "image/png": "[encoded data removed]",
      "text/plain": [
       "<Figure size 640x480 with 1 Axes>"
      ]
     },
     "metadata": {},
     "output_type": "display_data"
    }
   ],
   "source": [
    "image_no = 200 # you can change the image number as you want\n",
    "\n",
    "model_prediction = np.argmax(predictions[image_no])\n",
    "print(\"The model predict the image as it is number : \", model_prediction)\n",
    "print(\"And, the real image as follows \")\n",
    "plt.imshow(x_test[image_no], cmap='gray');"
   ]
  },
  {
   "cell_type": "markdown",
   "metadata": {},
   "source": [
    "### 8. flowchart for our NN model "
   ]
  },
  {
   "cell_type": "markdown",
   "metadata": {},
   "source": [
    "- How to create a flowchart for your NN model ?\n",
    "    * Using **plot_model** function from Keras, which is part of the **keras.utils** module.\n",
    "    * This function can create a visual representation of your model architecture which built by CNN or DNN \n",
    "- what is the important parameters for this plot function?\n",
    "    * **model**: A Keras model instance\n",
    "    * **to_file**: File name of the plot image.\n",
    "    * **show_shapes**: whether to display shape information.\n",
    "    * **show_layer_names**: whether to display layer names.\n",
    "    * **rankdir**: '*TB*' creates a vertical plot; '*LR*' creates a horizontal plot.\n",
    "    * **dpi**: Dots per inch.\n",
    "    * **show_layer_activations**: Display layer activations.\n",
    "\n"
   ]
  },
  {
   "cell_type": "code",
   "execution_count": 21,
   "metadata": {},
   "outputs": [],
   "source": [
    "from keras.utils import plot_model"
   ]
  },
  {
   "cell_type": "code",
   "execution_count": 22,
   "metadata": {},
   "outputs": [
    {
     "data": {
      "image/png": "[encoded data removed]",
      "text/plain": [
       "<IPython.core.display.Image object>"
      ]
     },
     "execution_count": 22,
     "metadata": {},
     "output_type": "execute_result"
    }
   ],
   "source": [
    "plot_model(NN_first_model, to_file='model_plot1.png', show_shapes=True, show_layer_names=True)"
   ]
  },
  {
   "cell_type": "markdown",
   "metadata": {},
   "source": [
    "> **Last Note** : \n",
    "* Neural networks are stochastic algorithms, meaning that the same algorithm on the same data can train a different model with different skill each time the code is run. This is a feature, not a bug."
   ]
  },
  {
   "cell_type": "markdown",
   "metadata": {},
   "source": [
    "&nbsp;\n",
    "\n",
    "### Further Keras Applications for DNN \n",
    "--------------------------------------\n",
    "[Case Study No 1](DNN_case_studies/Keras_CaseStudy_no1.ipynb) : To understand how to apply rescaling to data.\n",
    "\n",
    "[Case Study No 2](DNN_case_studies/Keras_CaseStudy_no2.ipynb) : To observe the impact of increasing the number of hidden layers on the model's accuracy.\n",
    "\n",
    "[Case Study No 3](DNN_case_studies/Keras_CaseStudy_no3.ipynb) : For image classification tasks involving fashion items, a challenging dataset is employed. \n",
    "\n",
    "[Case Study No 4](DNN_case_studies/Keras_CaseStudy_no4.ipynb) : Utilizing Keras to construct a DNN for a regression model allows for the observation of early stopping in action.\n",
    "\n",
    "[Case Study No 5](DNN_case_studies/Keras_CaseStudy_no5.ipynb) : Dogs & Cats classifications to assess whether DNN  can effectively handle the image data or not! "
   ]
  },
  {
   "cell_type": "markdown",
   "metadata": {},
   "source": [
    "&nbsp;\n",
    "\n",
    "### Refrences\n",
    "--------------------------\n",
    "- <a rel=\"keras_website\" href=\"https://keras.io\"> Keras Official Website. </a>\n",
    "- <a rel=\"article read\" href=\"https://machinelearningmastery.com/tutorial-first-neural-network-python-keras/\"> Your First Deep Learning Project in Python with Keras Step-by-Step, Machine Learning Mastery. </a>\n",
    "- <a rel=\"the code used\" href=\"https://www.youtube.com/watch?v=ohyn_MzS_hE&list=PL6-3IRz2XF5VbuU2T0gS_mFhCpKmLxvCP\"> Playlist for Keras in Arabic by Hesham Asem. </a>\n",
    "- <a rel=\"the code used2\" href=\"https://github.com/HeshamAsem?tab=repositories\"> Hesham Asem GitHub for ML tools. </a>\n",
    "\n"
   ]
  }
 ],
 "metadata": {
  "kernelspec": {
   "display_name": "Python 3",
   "language": "python",
   "name": "python3"
  },
  "language_info": {
   "codemirror_mode": {
    "name": "ipython",
    "version": 3
   },
   "file_extension": ".py",
   "mimetype": "text/x-python",
   "name": "python",
   "nbconvert_exporter": "python",
   "pygments_lexer": "ipython3",
   "version": "3.11.5"
  }
 },
 "nbformat": 4,
 "nbformat_minor": 2
}
