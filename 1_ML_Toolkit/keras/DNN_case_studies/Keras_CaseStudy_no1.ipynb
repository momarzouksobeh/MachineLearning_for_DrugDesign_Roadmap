{
 "cells": [
  {
   "cell_type": "markdown",
   "metadata": {},
   "source": [
    "# Example No 1 : DNN model by Keras for handwritten digit recognition dataset "
   ]
  },
  {
   "cell_type": "markdown",
   "metadata": {},
   "source": [
    "### What is the new we will learn in this example ?\n",
    "- We will use the same dataset stored in Keras itself for handwritten digit recognition, **MNIST dataset**. \n",
    "- However, in this example we will see the importance of applying rescaling for the data (both training and test) before we build our model. "
   ]
  },
  {
   "cell_type": "markdown",
   "metadata": {},
   "source": [
    "### What are the basic steps to build our NN model ?\n",
    "> The same life cycle for any NN model as we mentioned in the previous tutorial. \n",
    "1. Load Data\n",
    "2. Scaling data \n",
    "3. Define Keras Model\n",
    "4. Compile Keras Model\n",
    "5. Fit Keras Model\n",
    "6. Evaluate Keras Model\n",
    "4. Make Predictions"
   ]
  },
  {
   "cell_type": "markdown",
   "metadata": {},
   "source": [
    "### 1. Load Data"
   ]
  },
  {
   "cell_type": "code",
   "execution_count": 9,
   "metadata": {},
   "outputs": [],
   "source": [
    "import numpy as np\n",
    "import matplotlib.pyplot as plt\n",
    "%matplotlib inline\n",
    "import tensorflow as tf\n",
    "mnist = tf.keras.datasets.mnist\n"
   ]
  },
  {
   "cell_type": "markdown",
   "metadata": {},
   "source": [
    "> We will divide our data into training and testing sets for the purpose of building our model."
   ]
  },
  {
   "cell_type": "code",
   "execution_count": 3,
   "metadata": {},
   "outputs": [],
   "source": [
    "(x_train, y_train),(x_test, y_test) = mnist.load_data()"
   ]
  },
  {
   "cell_type": "markdown",
   "metadata": {},
   "source": [
    "### 2. Scaling data "
   ]
  },
  {
   "cell_type": "markdown",
   "metadata": {},
   "source": [
    "* What does it mean to scale our data?\n",
    "    * Scaling the data refer to the process of transforming the feature values of your dataset to a similar scale. \n",
    "    * This is important because many ML algorithms, including NN in Keras, perform better when the input features are on a similar scale. \n",
    "    * Scaling helps prevent certain features from dominating others and ensures that the optimization process converges more smoothly.\n",
    "    * We can do Scaling or Normalization by many methods as example here just divide over 255 as this is the maximum value. \n",
    "    * We can normalize the data also by normalization function *tf.keras.utils.normalize*, we will take about it later "
   ]
  },
  {
   "cell_type": "code",
   "execution_count": 4,
   "metadata": {},
   "outputs": [],
   "source": [
    "x_train, x_test = x_train / 255.0, x_test / 255.0"
   ]
  },
  {
   "cell_type": "markdown",
   "metadata": {},
   "source": [
    "### 3. Define Keras Model\n"
   ]
  },
  {
   "cell_type": "code",
   "execution_count": 5,
   "metadata": {},
   "outputs": [],
   "source": [
    "model = tf.keras.models.Sequential([\n",
    "  tf.keras.layers.Flatten(input_shape=(28, 28)),\n",
    "  tf.keras.layers.Dense(512, activation=tf.nn.relu),\n",
    "  tf.keras.layers.Dropout(0.2),\n",
    "  tf.keras.layers.Dense(10, activation=tf.nn.softmax)\n",
    "])"
   ]
  },
  {
   "cell_type": "markdown",
   "metadata": {},
   "source": [
    "### 4. Compile Keras Model\n"
   ]
  },
  {
   "cell_type": "code",
   "execution_count": 6,
   "metadata": {},
   "outputs": [],
   "source": [
    "model.compile(optimizer='adam',\n",
    "              loss='sparse_categorical_crossentropy',\n",
    "              metrics=['accuracy'])"
   ]
  },
  {
   "cell_type": "markdown",
   "metadata": {},
   "source": [
    "### 5. Fit Keras Model\n"
   ]
  },
  {
   "cell_type": "code",
   "execution_count": 7,
   "metadata": {},
   "outputs": [
    {
     "name": "stdout",
     "output_type": "stream",
     "text": [
      "Epoch 1/10\n",
      "60/60 [==============================] - 0s 6ms/step - loss: 0.5634 - accuracy: 0.8453\n",
      "Epoch 2/10\n",
      "60/60 [==============================] - 0s 6ms/step - loss: 0.2405 - accuracy: 0.9320\n",
      "Epoch 3/10\n",
      "60/60 [==============================] - 0s 6ms/step - loss: 0.1832 - accuracy: 0.9482\n",
      "Epoch 4/10\n",
      "60/60 [==============================] - 0s 6ms/step - loss: 0.1465 - accuracy: 0.9589\n",
      "Epoch 5/10\n",
      "60/60 [==============================] - 0s 7ms/step - loss: 0.1224 - accuracy: 0.9649\n",
      "Epoch 6/10\n",
      "60/60 [==============================] - 0s 6ms/step - loss: 0.1040 - accuracy: 0.9705\n",
      "Epoch 7/10\n",
      "60/60 [==============================] - 0s 7ms/step - loss: 0.0899 - accuracy: 0.9743\n",
      "Epoch 8/10\n",
      "60/60 [==============================] - 0s 6ms/step - loss: 0.0786 - accuracy: 0.9776\n",
      "Epoch 9/10\n",
      "60/60 [==============================] - 0s 7ms/step - loss: 0.0703 - accuracy: 0.9797\n",
      "Epoch 10/10\n",
      "60/60 [==============================] - 0s 7ms/step - loss: 0.0623 - accuracy: 0.9828\n"
     ]
    },
    {
     "data": {
      "text/plain": [
       "<keras.callbacks.History at 0x17d4ba950>"
      ]
     },
     "execution_count": 7,
     "metadata": {},
     "output_type": "execute_result"
    }
   ],
   "source": [
    "model.fit(x_train, y_train, epochs=10, batch_size=1000)"
   ]
  },
  {
   "cell_type": "markdown",
   "metadata": {},
   "source": [
    "### 6. Evaluate Keras Model\n"
   ]
  },
  {
   "cell_type": "code",
   "execution_count": 8,
   "metadata": {},
   "outputs": [
    {
     "name": "stdout",
     "output_type": "stream",
     "text": [
      "313/313 [==============================] - 0s 656us/step - loss: 0.0742 - accuracy: 0.9767\n",
      "The accuracy of our model on test dataset : 97.67\n",
      "The loss of our model on test dataset : 7.42\n"
     ]
    }
   ],
   "source": [
    "val_loss, val_acc = model.evaluate(x_test, y_test)\n",
    "print('The accuracy of our model on test dataset : %.2f' % (val_acc*100))\n",
    "print('The loss of our model on test dataset : %.2f' % (val_loss*100))"
   ]
  },
  {
   "cell_type": "markdown",
   "metadata": {},
   "source": [
    "> Compare this value with the one obtained from the model without scaling!"
   ]
  },
  {
   "cell_type": "markdown",
   "metadata": {},
   "source": [
    "* You can notice that the accuracy in the current case (with data scaling), 98% almost, while for the other case (without data scaling) it was around 90%. \n",
    "* Also the loss become much lower after scaling the data.\n",
    "* As a result, the scaling enhance the efficiency of the NN model "
   ]
  },
  {
   "cell_type": "markdown",
   "metadata": {},
   "source": [
    "### 7. Make Predictions"
   ]
  },
  {
   "cell_type": "markdown",
   "metadata": {},
   "source": [
    "> Executing the prediction function once over the entire dataset."
   ]
  },
  {
   "cell_type": "code",
   "execution_count": 10,
   "metadata": {},
   "outputs": [
    {
     "name": "stdout",
     "output_type": "stream",
     "text": [
      "313/313 [==============================] - 0s 481us/step\n"
     ]
    }
   ],
   "source": [
    "predictions = model.predict(x_test)"
   ]
  },
  {
   "cell_type": "markdown",
   "metadata": {},
   "source": [
    "> Let's see some cases and compare! you try any image number here as you want"
   ]
  },
  {
   "cell_type": "code",
   "execution_count": 15,
   "metadata": {},
   "outputs": [
    {
     "name": "stdout",
     "output_type": "stream",
     "text": [
      "The model predict the image as it is number :  5\n",
      "And, the real image as follows \n"
     ]
    },
    {
     "data": {
      "image/png": "[encoded data removed]",
      "text/plain": [
       "<Figure size 640x480 with 1 Axes>"
      ]
     },
     "metadata": {},
     "output_type": "display_data"
    }
   ],
   "source": [
    "image_no = 8 # you can change the image number as you want\n",
    "\n",
    "model_prediction = np.argmax(predictions[image_no])\n",
    "print(\"The model predict the image as it is number : \", model_prediction)\n",
    "print(\"And, the real image as follows \")\n",
    "plt.imshow(x_test[image_no], cmap='gray');"
   ]
  },
  {
   "cell_type": "markdown",
   "metadata": {},
   "source": [
    "&nbsp;\n",
    "\n",
    "### For Keras basic tools & other examples\n",
    "--------------------------------------\n",
    "[Keras Basic Tools for DNN](../1_Keras_BasicTools_DNN.ipynb)\n",
    "\n",
    "[Case Study No 2](Keras_CaseStudy_no2.ipynb) : To observe the impact of increasing the number of hidden layers on the model's accuracy.\n",
    "\n",
    "[Case Study No 3](Keras_CaseStudy_no3.ipynb) : For image classification tasks involving fashion items, a challenging dataset is employed. \n",
    "\n",
    "[Case Study No 4](Keras_CaseStudy_no4.ipynb) : Utilizing Keras to construct a DNN for a regression model allows for the observation of early stopping in action.\n",
    "\n",
    "[Case Study No 5](Keras_CaseStudy_no5.ipynb) : Dogs & Cats classifications to assess whether DNN  can effectively handle the image data or not! "
   ]
  },
  {
   "cell_type": "markdown",
   "metadata": {},
   "source": [
    "&nbsp;\n",
    "\n",
    "### Refrences\n",
    "--------------------------\n",
    "- <a rel=\"keras_website\" href=\"https://keras.io\"> Keras Official Website. </a>\n",
    "- <a rel=\"the code used\" href=\"https://www.youtube.com/watch?v=ohyn_MzS_hE&list=PL6-3IRz2XF5VbuU2T0gS_mFhCpKmLxvCP\"> Playlist for Keras in Arabic by Hesham Asem. </a>\n",
    "- <a rel=\"the code used2\" href=\"https://github.com/HeshamAsem?tab=repositories\"> Hesham Asem GitHub for ML tools. </a>"
   ]
  },
  {
   "cell_type": "markdown",
   "metadata": {},
   "source": []
  }
 ],
 "metadata": {
  "kernelspec": {
   "display_name": "Python 3",
   "language": "python",
   "name": "python3"
  },
  "language_info": {
   "codemirror_mode": {
    "name": "ipython",
    "version": 3
   },
   "file_extension": ".py",
   "mimetype": "text/x-python",
   "name": "python",
   "nbconvert_exporter": "python",
   "pygments_lexer": "ipython3",
   "version": "3.11.5"
  }
 },
 "nbformat": 4,
 "nbformat_minor": 2
}
