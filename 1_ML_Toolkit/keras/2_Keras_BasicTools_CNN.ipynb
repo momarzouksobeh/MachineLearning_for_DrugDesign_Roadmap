{
 "cells": [
  {
   "cell_type": "markdown",
   "metadata": {},
   "source": [
    "# Keras Tools for Convolutional Neural Network (CNN)"
   ]
  },
  {
   "cell_type": "markdown",
   "metadata": {},
   "source": [
    "#### Dr. Mohamed Marzouk Sobaih, Postdoctoral Researcher\n",
    "#### [Twitter](https://twitter.com/mohamedmarzouk2) | [GitHub](https://github.com/momarzouksobeh) | [GoogleScholar](https://scholar.google.com/citations?hl=en&user=OWIaK9sAAAAJ) | [Website](https://momarzouksobeh.github.io) | [LinkedIn](http://www.linkedin.com/in/momarzouksobeh/)"
   ]
  },
  {
   "cell_type": "markdown",
   "metadata": {},
   "source": [
    "# Table of Content \n",
    "- [1 - Introduction ](#intro)\n",
    "    - [1.1 What is CNN ? and Why it is important? ](#CNN)\n",
    "    - [1.2 What will we cover in this tutorial? ](#tutorial_imp)\n",
    "    - [1.3 Load the required libraries ](#import)\n",
    "    - [1.4 What is the version of Keras used in this tutorial? ](#tf_version)\n",
    "- [2 - Data preparation ](#preparation)\n",
    "    - [2.1 Load data ](#load_data)\n",
    "    - [2.2 Split data for training and test set ](#split)\n",
    "    - [2.3 Data Normalization](#normalization)\n",
    "- [3- Build CNN model ](#CNN_model)\n",
    "    - [3.1 What is the main difference between DNN & CNN? ](#DNN_CNN_difference)\n",
    "    - [3.2 What are the various types of layers that can be incorporated into a CNN? ](#CNN_layers)\n",
    "    - [3.3 How can we add a Convolutional Layer into our CNN model using **TensorFlow** (**Keras**)?](#add_Convolutional_layers)\n",
    "    - [3.4 How can we add a Pooling Layer into our CNN model using **TensorFlow** (**Keras**)?](#add_pooling_layers)\n",
    "    - [3.5 How can we add a Batch Normalization layer  into our CNN model using **TensorFlow** (**Keras**)?](#add_normalization_layer)\n",
    "    - [3.6 The summary for defining our CNN model in Keras ](#buildmodel_summary)\n",
    "    - [3.7 Define our CNN model by Keras ](#define_model)\n",
    "    - [3.8 Information about the defined model ](#model_info)\n",
    "    - [3.9 Compile our Model ](#model_compile)\n",
    "- [4- Train & Evaluate the model](#train_evaluate)\n",
    "    - [4.1 Train (Fit) our CNN Model ](#train_model)\n",
    "    - [4.2 The history of model learning on training data ](#model_history)\n",
    "    - [4.3 Evaluate our CNN Model ](#evaluate_model)\n",
    "- [5- Prediction ](#prediction)\n",
    "    - [5.1 Make Predictions using our trained model ](#make_prediction)\n",
    "    - [5.2 Visualize correct and incorrect predictions ](#correct_incorrect)\n",
    "-  [6- Model Saving ](#saving)\n",
    "    - [6.1 Save the entire model ](#model_saving)\n",
    "    - [6.2 Save the layers weights ](#weights_saving)\n",
    "    - [6.3 Reload the weights again in a new model ](#reload_weights)\n",
    "-  [ Further TensorFlow (Keras) Applications for CNN ](#other_apps)\n",
    "-  [ Key Resources Utilized in Crafting This Notebook](#resources)\n"
   ]
  },
  {
   "cell_type": "markdown",
   "metadata": {},
   "source": [
    "<a name=\"intro\"></a>\n",
    "## 1 - Introduction"
   ]
  },
  {
   "cell_type": "markdown",
   "metadata": {},
   "source": [
    "<a name=\"CNN\"></a>\n",
    "### 1.1 What is CNN ? and Why it is important? \n",
    "**Convolutional Neural Network (CNN)** : are a type of artificial neural network that has been particularly successful in the fields of computer vision, image recognition, and other visual tasks.\n",
    "* It is important, Because it has been used to achieve state-of-the-art results in a wide range of image recognition tasks, including:\n",
    "    * Image classification\n",
    "    * Object detection\n",
    "    * Image segmentation\n",
    "    * Medical image analysis"
   ]
  },
  {
   "cell_type": "markdown",
   "metadata": {},
   "source": [
    "<a name=\"tutorial_imp\"></a>\n",
    "### 1.2 What will we cover in this tutorial?\n",
    "We will build a CNN model for the **MNIST** handwritten digit recognition dataset, which is readily available in Keras. This tutorial will provide hands-on practice to cover the key components of CNNs.\n",
    "* Key Points to Remember:\n",
    "    * The **MNIST dataset** encompasses grayscale images of handwritten digits (0 through 9) each image is 28x28 pixels. \n",
    "    * We have previously constructed a deep neural network (DNN) model for the **MNIST** dataset. The model achieved an accuracy of 90% without normalization and 97% with normalization of the data.\n",
    "    * To look at the details of the previous tutorial follow this [link](). #TODO add the link"
   ]
  },
  {
   "cell_type": "markdown",
   "metadata": {},
   "source": [
    "<a name=\"import\"></a>\n",
    "### 1.3 Load the required libraries"
   ]
  },
  {
   "cell_type": "markdown",
   "metadata": {},
   "source": [
    "<!-- We will need some standard packages. These should have been installed with Anaconda 3.\n",
    "* [numpy](https://numpy.org/): To generate arrays <br>\n",
    "* [matplotlib](https://matplotlib.org/): Vilsualization purpose <br>\n",
    "* sklearn: for model metrics, confusion matrices, one hot encoder\n",
    "\n",
    "We also will need tensor flow, this will require an install as it is not available in Anaconda\n",
    "* [tensorflow > 2.0.0](https://www.tensorflow.org/learn): Design, compile and train neural network models -->"
   ]
  },
  {
   "cell_type": "code",
   "execution_count": 1,
   "metadata": {},
   "outputs": [],
   "source": [
    "import tensorflow as tf\n",
    "import keras\n",
    "import matplotlib.pyplot as plt\n",
    "import numpy as np\n",
    "import matplotlib as mpl\n",
    "import warnings\n",
    "from matplotlib import cm\n",
    "from matplotlib.patches import FancyArrowPatch\n",
    "from matplotlib.colors import ListedColormap, LinearSegmentedColormap\n",
    "import matplotlib.colors as colors\n",
    "from matplotlib import cm\n",
    "import matplotlib.pyplot as plt\n",
    "%matplotlib inline"
   ]
  },
  {
   "cell_type": "markdown",
   "metadata": {},
   "source": [
    "<a name=\"tf_version\"></a>\n",
    "### 1.4 What is the version of Keras used in this tutorial ?\n",
    "- **Keras** can be accessed either as a dependent module within **TensorFlow** or independently as a standalone framework. \n",
    "> For this notebook, we are utilizing **TensorFlow** and **Keras**, with versions '2.14.0', and '2.12.0' respectively. "
   ]
  },
  {
   "cell_type": "code",
   "execution_count": 2,
   "metadata": {},
   "outputs": [
    {
     "name": "stdout",
     "output_type": "stream",
     "text": [
      "The version of tensorflow is :  2.14.0\n",
      "The version of keras is :  2.12.0\n"
     ]
    }
   ],
   "source": [
    "print(\"The version of tensorflow is : \", tf.__version__)\n",
    "print(\"The version of keras is : \", keras.__version__)"
   ]
  },
  {
   "cell_type": "markdown",
   "metadata": {},
   "source": [
    "<a name=\"preparation\"></a>\n",
    "## 2 - Data preparation "
   ]
  },
  {
   "cell_type": "markdown",
   "metadata": {},
   "source": [
    "<a name=\"load_data\"></a>\n",
    "### 2.1 Load Data\n",
    "> You can use one of other ways to load the dataset from keras or tf.keras "
   ]
  },
  {
   "cell_type": "code",
   "execution_count": 3,
   "metadata": {},
   "outputs": [],
   "source": [
    "mnist = tf.keras.datasets.mnist\n",
    "# Or\n",
    "# mnist = keras.datasets.mnist"
   ]
  },
  {
   "cell_type": "markdown",
   "metadata": {},
   "source": [
    "<a name=\"split\"></a>\n",
    "### 2.2 Split data for training and test set"
   ]
  },
  {
   "cell_type": "code",
   "execution_count": 4,
   "metadata": {},
   "outputs": [
    {
     "name": "stdout",
     "output_type": "stream",
     "text": [
      "X Train Shape is :  (60000, 28, 28)\n",
      "---------------------------------------- \n",
      "X Test Shape is :  (10000, 28, 28)\n",
      "---------------------------------------- \n",
      "y Train Shape is :  (60000,)\n",
      "---------------------------------------- \n",
      "y Test Shape is :  (10000,)\n"
     ]
    }
   ],
   "source": [
    "(x_train, y_train),(x_test, y_test) = mnist.load_data()\n",
    "print('X Train Shape is : ' , x_train.shape)\n",
    "# print('X Train  is : ' , x_train[1])\n",
    "print('---------------------------------------- ')\n",
    "print('X Test Shape is : ' , x_test.shape)\n",
    "# print('X Test  is : ' , x_test[1])\n",
    "print('---------------------------------------- ')\n",
    "print('y Train Shape is : ' , y_train.shape)\n",
    "# print('y Train is : ' , y_train[5])\n",
    "print('---------------------------------------- ')\n",
    "print('y Test Shape is : ' , y_test.shape)\n",
    "# print('y Test  is : ' , y_test[5])"
   ]
  },
  {
   "cell_type": "markdown",
   "metadata": {},
   "source": [
    "<a name=\"normalization\"></a>\n",
    "### 2.3 Data Normalization\n",
    "* We can do Scaling or Normalization by many methods as example here just divide over 255 as this is the maximum value. \n",
    "* We can normalize the data also by normalization function *tf.keras.utils.normalize*, we will take about it later "
   ]
  },
  {
   "cell_type": "code",
   "execution_count": 5,
   "metadata": {},
   "outputs": [],
   "source": [
    "x_train, x_test = x_train / 255.0, x_test / 255.0"
   ]
  },
  {
   "cell_type": "markdown",
   "metadata": {},
   "source": [
    "> Look at one of the images "
   ]
  },
  {
   "cell_type": "code",
   "execution_count": 6,
   "metadata": {},
   "outputs": [
    {
     "data": {
      "image/png": "[encoded data removed]",
      "text/plain": [
       "<Figure size 640x480 with 1 Axes>"
      ]
     },
     "metadata": {},
     "output_type": "display_data"
    }
   ],
   "source": [
    "image_no =209\n",
    "plt.imshow(x_test[image_no], cmap='gray');"
   ]
  },
  {
   "cell_type": "markdown",
   "metadata": {},
   "source": [
    "<a name=\"CNN_model\"></a>\n",
    "## 3- Build CNN model "
   ]
  },
  {
   "cell_type": "markdown",
   "metadata": {},
   "source": [
    "<a name=\"DNN_CNN_difference\"></a>\n",
    "### 3.1 What is the main difference between DNN & CNN? "
   ]
  },
  {
   "cell_type": "markdown",
   "metadata": {},
   "source": [
    "* The main difference between DNNs and CNNs lies in their architecture and the types of layers they use as you can see in this diagram.\n",
    "\n",
    "   * DNNs commonly employ fully connected layers, wherein every neuron in a given layer is connected to each neuron in the subsequent layer. However, this connectivity pattern can lead to significant computational demands during both the training and utilization phases of DNNs.\n",
    "\n",
    "    * CNNs utilize multiple convolution layers and pooling layers, specifically designed to extract features from localized regions within the input data. This design enhances the efficiency of CNNs, rendering them less computationally intensive during both training and utilization compared to DNNs."
   ]
  },
  {
   "cell_type": "markdown",
   "metadata": {},
   "source": [
    " <div style=\"text-align:center\">\n",
    "    <img src=\"images/CNN_DNN.jpg\" alt=\"DNN&CNN\" />\n",
    "    <p style=\"font-style: normal; margin-top:10px;\">DNN and CNN architecture</p>\n",
    "</div>"
   ]
  },
  {
   "cell_type": "markdown",
   "metadata": {},
   "source": [
    "- Simply you think in CNN like this diagram\n",
    " <div style=\"text-align:center\">\n",
    "    <img src=\"images/CNN_arch.png\" alt=\"CNN_arch\" />\n",
    "    <p style=\"font-style: normal; margin-top:10px;\">The CNN architecture</p>\n",
    "</div>"
   ]
  },
  {
   "cell_type": "markdown",
   "metadata": {},
   "source": [
    "<a name=\"CNN_layers\"></a>\n",
    "### 3.2 What are the various types of layers that can be incorporated into a CNN?"
   ]
  },
  {
   "cell_type": "markdown",
   "metadata": {},
   "source": [
    "\n",
    "* [**Convolutional Layer**]() :  (Extract features from the input image)\n",
    "    * The convolutional layer is the basic building block of a CNN. \n",
    "    * It is responsible for extracting features from the input image. \n",
    "    * The convolutional layer takes an input image and a kernel (also known as a filter) as input. \n",
    "    * The filter is a small square matrix of weights that is slid across the input image. \n",
    "    * By sliding the filter over the input image, the dot product is taken between the filter and the parts of the input image with respect to the size of the filter.\n",
    "    * The output is termed as the Feature map which gives us information about the image such as the corners and edges.\n",
    "    \n",
    "    * Later, this feature map is fed to other layers to learn several other features of the input image.\n",
    "\n",
    "    \n",
    "* [**Pooling Layer**]() : (Reduce the dimensionality of the feature maps)\n",
    "    * In most cases, a Convolutional Layer is followed by a Pooling Layer.\n",
    "    * The primary aim of this layer is to decrease the size of the convolved feature map to reduce the computational costs.\n",
    "    * It works by taking the maximum (Max Pooling) or average (Average Pooling) value of a subregion of the input feature map and using that value as the output of the pooling operation. \n",
    "    * Depending upon method used, there are several types of Pooling operations.\n",
    "    * It basically summaries the features generated by a convolution layer.\n",
    "    * The pooling layer can also have a stride, which is the number of pixels that the pooling window is moved by each time it is applied to the input feature map.\n",
    "    \n",
    "    * The Pooling Layer usually serves as a bridge between the Convolutional Layer and the FC Layer.\n",
    "\n",
    "\n",
    "* [**Batch Normalization Layer** ](): (Normalize the activations of the layers in the CNN)\n",
    "    * The batch normalization layer is used to normalize the activations of the layers in the CNN. This helps to improve the training and generalization performance of the network. \n",
    "    \n",
    "    * The batch normalization layer works by normalizing the mean and variance of the activations of each layer in the network. \n",
    "\n",
    "\n",
    "* [**Fully Connected Layer** ](): (Classify the input image)\n",
    "    * These layers are usually placed before the output layer and form the last few layers of a CNN Architecture.\n",
    "    * The fully connected (FC)layer is used to classify the input image. \n",
    "    * In this, the input image from the last pooling layer are flattened and fed to the FC layer. The flattened vector then undergoes few more FC layers where the mathematical functions operations usually take place. In this stage, the classification process begins to take place.\n",
    "    * The fully connected layer also has an activation function, such as softmax, that is applied to the output of the layer. \n",
    "    \n",
    "    * The softmax activation function converts the output of the fully connected layer into a probability distribution, where the probability of each class is equal to the output of the corresponding neuron in the fully connected layer.\n",
    "\n",
    "\n",
    "* [**Dropout Layer**]() : (Prevent overfitting)\n",
    "    * Usually, when all the features are connected to the FC layer, it can cause overfitting in the training dataset. \n",
    "    * Overfitting occurs when a particular model works so well on the training data causing a negative impact in the model’s performance when used on a new data.\n",
    "    * To overcome this problem, a dropout layer is utilized wherein a few neurons are dropped randomly from the neural network during training process resulting in reduced size of the model.\n",
    "    * On passing a dropout of 0.3, 30% of the nodes are dropped out randomly from the neural network.\n",
    "    \n",
    "    * This helps to prevent the network from learning too much from the training data and can improve the generalization performance of the network.\n",
    "  "
   ]
  },
  {
   "cell_type": "markdown",
   "metadata": {},
   "source": [
    "<a name=\"add_Convolutional_layers\"></a>\n",
    "### 3.3 How can we add a Convolutional Layer into our CNN model using **TensorFlow** (**Keras**)?"
   ]
  },
  {
   "cell_type": "markdown",
   "metadata": {},
   "source": [
    "Note : I just added some values as examples, but in practical applications we can decide based on the case under study. "
   ]
  },
  {
   "cell_type": "markdown",
   "metadata": {},
   "source": [
    "> The function used : **Conv2D()** \n",
    "* **The important arguments** : \n",
    "  * **filters**=`32` : This is the number of filters (kernels) to use in the convolutional layer. A filter is a small window that is slid across the input image to extract features.\n",
    "  * kernel_size=(3,3) : This is the size of the kernel. In this example, the kernel is 3 pixels wide and 3 pixels tall.\n",
    "  * **strides**=`(1,1)`: The stride is the number of pixels that the kernel is moved by each time it is applied to the input image. In this example, the kernel is moved by 1 pixel in each direction(horizontally and vertically).\n",
    "  * **padding**=`'same'`: The padding mode determines how the input image is padded before the convolution operation is performed. In this example, the input image is padded with zeros so that the output image has the same dimensions as the input image. The other option is \n",
    "  * **activation**=`'relu'`: The activation function is a non-linear function that is applied to the output of the convolution operation. \n",
    "  * **input_shape**=`(28,28,1)`: The input shape is a tuple that specifies the height, width, and channel depth of the input image. In this example, the input image is 28 pixels tall, 28 pixels wide, and 1 channel deep (grayscale). You have to add the input shape of your input data based on the case under study. \n",
    "  \n",
    "  <details>\n",
    "  <summary><font size=\"3\" color=\"darkgreen\"><b>Show code example to add Convolutional layer for CNN</b></font></summary>\n",
    "  \n",
    "  ```python\n",
    "    model.add(tf.keras.layers.Conv2D(32,kernel_size=(3,3),strides=(1,1),padding=\"same\",\n",
    "      activation='relu',input_shape=(28,28,1)))\n",
    "  ```"
   ]
  },
  {
   "cell_type": "markdown",
   "metadata": {},
   "source": [
    "<a name=\"add_pooling_layers\"></a>\n",
    "### 3.4 How can we add a Pooling Layer into our CNN model using **TensorFlow** (**Keras**)?"
   ]
  },
  {
   "cell_type": "markdown",
   "metadata": {},
   "source": [
    "> The function used : **MaxPool2D()**\n",
    "* The important arguments :\n",
    "     * **pool_size**=`(2,2)` : The pooling window is a small region of the input feature map that is used to compute the maximum value. In this case, the pooling window is 2 pixels wide and 2 pixels tall.\n",
    "     * **strides**=`(2,2)` : The stride of the pooling window.\n",
    "\n",
    "    <details>\n",
    "      <summary><font size=\"3\" color=\"darkgreen\"><b>Show code example to add max pooling layer for CNN</b></font></summary>\n",
    "\n",
    "\n",
    "    ```python\n",
    "      model.add(tf.keras.layers.MaxPool2D(pool_size=(2,2), strides=(2,2)))\n",
    "    ```"
   ]
  },
  {
   "cell_type": "markdown",
   "metadata": {},
   "source": [
    "<a name=\"add_normalization_layer\"></a>\n",
    "### 3.5 How can we add a Batch Normalization layer  into our CNN model using **TensorFlow** (**Keras**)?"
   ]
  },
  {
   "cell_type": "markdown",
   "metadata": {},
   "source": [
    "> Normalize the activations of the layers in the CNN \\\n",
    "> The function used : **BatchNormalization()**\n",
    "* The important arguments : \n",
    "    - **axis**: The axis of the input tensor to normalize. The default value is -1, which means that the layer will normalize all axes.\n",
    "    <details>\n",
    "    <summary><font size=\"3\" color=\"darkgreen\"><b>Show code example to add batch Normalization layer for CNN</b></font></summary>\n",
    "\n",
    "\n",
    "    ```python\n",
    "      model.add(tf.keras.layers.BatchNormalization())\n",
    "    ```"
   ]
  },
  {
   "cell_type": "markdown",
   "metadata": {},
   "source": [
    "<a name=\"buildmodel_summary\"></a>\n",
    "### 3.6 The summary for defining our CNN model in Keras "
   ]
  },
  {
   "cell_type": "markdown",
   "metadata": {},
   "source": [
    "* Create a sequential model in Keras to establish a linear stack of layers for building the CNN.\n",
    "* We typically use a sequence ,feature extractor, of convolutional layers and pooling layers that work together to extract and refine relevant features from the input data.\n",
    "* Convolutional layers extract features from the input data, while pooling layers downsample the feature maps produced by the convolutional layers. \n",
    "\n",
    "* This process of convolution and pooling is repeated multiple times, gradually extracting increasingly abstract and more complex features from the input data.\n",
    "* Flatten the output from the convolutional and pooling layers into a one-dimensional array to prepare it for the FC layers.\n",
    "* Build the FClayers that serve as the final stages of the neural network. These layers use the extracted features to generate the desired output.\n",
    "* Compile the entire CNN model by specifying the optimizer, loss function, and evaluation metric. This step prepares the model for training.\n"
   ]
  },
  {
   "cell_type": "markdown",
   "metadata": {},
   "source": [
    "<a name=\"define_model\"></a>\n",
    "### 3.7 Define our CNN model by Keras "
   ]
  },
  {
   "cell_type": "code",
   "execution_count": 7,
   "metadata": {},
   "outputs": [],
   "source": [
    "model = tf.keras.models.Sequential()\n",
    "#start the model with convolutional layer followed by max pooling layer \n",
    "model.add(tf.keras.layers.Conv2D(68,kernel_size=(3,3),strides=(1,1),padding=\"same\",activation='relu',input_shape=(28,28,1),name=\"conv1\"))\n",
    "model.add(tf.keras.layers.BatchNormalization())\n",
    "model.add(tf.keras.layers.MaxPool2D(pool_size=(2,2), strides=(2,2),name=\"maxpool1\"))\n",
    "model.add(tf.keras.layers.Dropout(0.2))\n",
    "# another convolutional layer followed by max pooling layer \n",
    "model.add(tf.keras.layers.Conv2D(32,kernel_size=(3,3),strides=(1,1),padding=\"same\",activation='relu',name=\"conv2\"))\n",
    "model.add(tf.keras.layers.MaxPool2D(pool_size=(2,2), strides=(2,2),name=\"maxpool2\"))\n",
    "model.add(tf.keras.layers.Dropout(0.2))\n",
    "# Flatten the output from feature extractor then build the FC layers to get the desired output \n",
    "model.add(tf.keras.layers.Flatten())\n",
    "model.add(tf.keras.layers.Dense(128, activation=tf.nn.relu, name=\"layer1\"))\n",
    "model.add(tf.keras.layers.Dropout(0.2))\n",
    "model.add(tf.keras.layers.Dense(10, activation=\"linear\",name=\"layer2\"))"
   ]
  },
  {
   "cell_type": "markdown",
   "metadata": {},
   "source": [
    "\n",
    "  <details>\n",
    "  <summary><font size=\"3\" color=\"darkgreen\"><b>We can also define our CNN model one time</b></font></summary>\n",
    "  \n",
    "  ```python\n",
    "     model = tf.keras.models.Sequential([\n",
    "                                    # one convolutional layer followed by max pooling layer \n",
    "                                    tf.keras.layers.Conv2D(68,kernel_size=(3,3),strides=(1,1),padding=\"same\",activation='relu',input_shape=(28,28,1)),\n",
    "                                    tf.keras.layers.BatchNormalization(), \n",
    "                                    tf.keras.layers.MaxPool2D(pool_size=(2,2), strides=(2,2)),\n",
    "                                    tf.keras.layers.Dropout(0.2),\n",
    "                                    # another convolutional layer followed by max pooling layer \n",
    "                                    tf.keras.layers.Conv2D(32,kernel_size=(3,3),strides=(1,1),padding=\"same\",activation='relu'),\n",
    "                                    tf.keras.layers.MaxPool2D(pool_size=(2,2), strides=(2,2)),\n",
    "                                    tf.keras.layers.Dropout(0.2),\n",
    "                                    # Flatten the output from feature extractor then build the FC layers to get the desired output \n",
    "                                    tf.keras.layers.Flatten(),\n",
    "                                    tf.keras.layers.Dense(128, activation=tf.nn.relu, name=\"L1\"),\n",
    "                                    tf.keras.layers.Dropout(0.2),\n",
    "                                    tf.keras.layers.Dense(10, activation=\"linear\",name=\"L2\")\n",
    "                                   ])\n",
    "  ```"
   ]
  },
  {
   "cell_type": "markdown",
   "metadata": {},
   "source": [
    "<a name=\"model_info\"></a>\n",
    "### 3.8 Information about the defined model"
   ]
  },
  {
   "cell_type": "markdown",
   "metadata": {},
   "source": [
    "####  A) Model Summary"
   ]
  },
  {
   "cell_type": "markdown",
   "metadata": {},
   "source": [
    "> To display a summary of the architecture of a neural network model; use **summary()** function. \n",
    "* In particular, you can retrieve the number of parameters in each layer as well as the total number of trainable parameters to anticipate the computational cost of your model.\n"
   ]
  },
  {
   "cell_type": "code",
   "execution_count": 8,
   "metadata": {},
   "outputs": [
    {
     "name": "stdout",
     "output_type": "stream",
     "text": [
      "Model: \"sequential\"\n",
      "_________________________________________________________________\n",
      " Layer (type)                Output Shape              Param #   \n",
      "=================================================================\n",
      " conv1 (Conv2D)              (None, 28, 28, 68)        680       \n",
      "                                                                 \n",
      " batch_normalization (BatchN  (None, 28, 28, 68)       272       \n",
      " ormalization)                                                   \n",
      "                                                                 \n",
      " maxpool1 (MaxPooling2D)     (None, 14, 14, 68)        0         \n",
      "                                                                 \n",
      " dropout (Dropout)           (None, 14, 14, 68)        0         \n",
      "                                                                 \n",
      " conv2 (Conv2D)              (None, 14, 14, 32)        19616     \n",
      "                                                                 \n",
      " maxpool2 (MaxPooling2D)     (None, 7, 7, 32)          0         \n",
      "                                                                 \n",
      " dropout_1 (Dropout)         (None, 7, 7, 32)          0         \n",
      "                                                                 \n",
      " flatten (Flatten)           (None, 1568)              0         \n",
      "                                                                 \n",
      " layer1 (Dense)              (None, 128)               200832    \n",
      "                                                                 \n",
      " dropout_2 (Dropout)         (None, 128)               0         \n",
      "                                                                 \n",
      " layer2 (Dense)              (None, 10)                1290      \n",
      "                                                                 \n",
      "=================================================================\n",
      "Total params: 222,690\n",
      "Trainable params: 222,554\n",
      "Non-trainable params: 136\n",
      "_________________________________________________________________\n"
     ]
    }
   ],
   "source": [
    "model.summary()"
   ]
  },
  {
   "cell_type": "markdown",
   "metadata": {},
   "source": [
    "####  B) Model Layers"
   ]
  },
  {
   "cell_type": "code",
   "execution_count": 9,
   "metadata": {},
   "outputs": [
    {
     "data": {
      "text/plain": [
       "[<keras.layers.convolutional.conv2d.Conv2D at 0x28fcbed90>,\n",
       " <keras.layers.normalization.batch_normalization.BatchNormalization at 0x2a26a5e50>,\n",
       " <keras.layers.pooling.max_pooling2d.MaxPooling2D at 0x28fd0f050>,\n",
       " <keras.layers.regularization.dropout.Dropout at 0x28fd88fd0>,\n",
       " <keras.layers.convolutional.conv2d.Conv2D at 0x28fd54310>,\n",
       " <keras.layers.pooling.max_pooling2d.MaxPooling2D at 0x28faccb10>,\n",
       " <keras.layers.regularization.dropout.Dropout at 0x2a270bd90>,\n",
       " <keras.layers.reshaping.flatten.Flatten at 0x28ea8ec50>,\n",
       " <keras.layers.core.dense.Dense at 0x2a2718e10>,\n",
       " <keras.layers.regularization.dropout.Dropout at 0x2a2719810>,\n",
       " <keras.layers.core.dense.Dense at 0x28eb68d90>]"
      ]
     },
     "execution_count": 9,
     "metadata": {},
     "output_type": "execute_result"
    }
   ],
   "source": [
    "model.layers"
   ]
  },
  {
   "cell_type": "code",
   "execution_count": 10,
   "metadata": {},
   "outputs": [],
   "source": [
    "[conv1, batch ,maxpool1, dropout1, conv2, maxpool2, dropout2, flatten,layer1, dropout3, layer2 ] = model.layers"
   ]
  },
  {
   "cell_type": "markdown",
   "metadata": {},
   "source": [
    "####  C) Model initial wights\n",
    "> The initial wights proposed by keras can be accessed and later we can see how it is updated during the fitting process "
   ]
  },
  {
   "cell_type": "code",
   "execution_count": 11,
   "metadata": {},
   "outputs": [
    {
     "name": "stdout",
     "output_type": "stream",
     "text": [
      "W1 shape = (3, 3, 1, 68), b1 shape = (68,)\n",
      "W2 shape = (3, 3, 68, 32), b2 shape = (32,)\n"
     ]
    }
   ],
   "source": [
    "W1,b1 = conv1.get_weights() \n",
    "W2,b2 = conv2.get_weights() \n",
    "print(f\"W1 shape = {W1.shape}, b1 shape = {b1.shape}\")\n",
    "print(f\"W2 shape = {W2.shape}, b2 shape = {b2.shape}\")"
   ]
  },
  {
   "cell_type": "markdown",
   "metadata": {},
   "source": [
    "> --> Once the model has been defined, the next step is to compile it. -->"
   ]
  },
  {
   "cell_type": "markdown",
   "metadata": {},
   "source": [
    "<a name=\"model_compile\"></a>\n",
    "### 3.9 Compile our Model"
   ]
  },
  {
   "cell_type": "code",
   "execution_count": 12,
   "metadata": {},
   "outputs": [],
   "source": [
    "model.compile(loss=tf.keras.losses.SparseCategoricalCrossentropy(from_logits=True),\n",
    "    optimizer=tf.keras.optimizers.legacy.Adam(0.01), metrics=['accuracy'])"
   ]
  },
  {
   "cell_type": "markdown",
   "metadata": {},
   "source": [
    "> --> Once the model is compiled, it is ready for training -->"
   ]
  },
  {
   "cell_type": "markdown",
   "metadata": {},
   "source": [
    "<a name=\"train_evaluate\"></a>\n",
    "## 4- Train & Evaluate the model"
   ]
  },
  {
   "cell_type": "markdown",
   "metadata": {},
   "source": [
    "* Train the CNN model using the training dataset. \n",
    "* Adjust the model's weights iteratively to minimize the defined loss function and enhance its ability to make accurate predictions.\n",
    "* Evaluate the trained model on a separate validation dataset to assess its generalization performance.\n"
   ]
  },
  {
   "cell_type": "markdown",
   "metadata": {},
   "source": [
    "<a name=\"train_model\"></a>\n",
    "### 4.1 Train (Fit) our CNN Model"
   ]
  },
  {
   "cell_type": "code",
   "execution_count": 13,
   "metadata": {},
   "outputs": [
    {
     "name": "stdout",
     "output_type": "stream",
     "text": [
      "Epoch 1/20\n",
      " 1/60 [..............................] - ETA: 1:13 - loss: 3.2182 - accuracy: 0.1020"
     ]
    },
    {
     "name": "stdout",
     "output_type": "stream",
     "text": [
      "60/60 [==============================] - 43s 706ms/step - loss: 1.2482 - accuracy: 0.6971\n",
      "Epoch 2/20\n",
      "60/60 [==============================] - 33s 551ms/step - loss: 0.1621 - accuracy: 0.9510\n",
      "Epoch 3/20\n",
      "60/60 [==============================] - 32s 533ms/step - loss: 0.1160 - accuracy: 0.9649\n",
      "Epoch 4/20\n",
      "60/60 [==============================] - 29s 485ms/step - loss: 0.0928 - accuracy: 0.9716\n",
      "Epoch 5/20\n",
      "60/60 [==============================] - 36s 601ms/step - loss: 0.0882 - accuracy: 0.9735\n",
      "Epoch 6/20\n",
      "60/60 [==============================] - 31s 511ms/step - loss: 0.0792 - accuracy: 0.9759\n",
      "Epoch 7/20\n",
      "60/60 [==============================] - 30s 500ms/step - loss: 0.0722 - accuracy: 0.9778\n",
      "Epoch 8/20\n",
      "60/60 [==============================] - 30s 499ms/step - loss: 0.0674 - accuracy: 0.9792\n",
      "Epoch 9/20\n",
      "60/60 [==============================] - 31s 525ms/step - loss: 0.0665 - accuracy: 0.9794\n",
      "Epoch 10/20\n",
      "60/60 [==============================] - 33s 549ms/step - loss: 0.0646 - accuracy: 0.9789\n",
      "Epoch 11/20\n",
      "60/60 [==============================] - 34s 558ms/step - loss: 0.0602 - accuracy: 0.9807\n",
      "Epoch 12/20\n",
      "60/60 [==============================] - 33s 541ms/step - loss: 0.0566 - accuracy: 0.9820\n",
      "Epoch 13/20\n",
      "60/60 [==============================] - 30s 492ms/step - loss: 0.0570 - accuracy: 0.9821\n",
      "Epoch 14/20\n",
      "60/60 [==============================] - 31s 515ms/step - loss: 0.0529 - accuracy: 0.9832\n",
      "Epoch 15/20\n",
      "60/60 [==============================] - 31s 515ms/step - loss: 0.0493 - accuracy: 0.9845\n",
      "Epoch 16/20\n",
      "60/60 [==============================] - 31s 517ms/step - loss: 0.0497 - accuracy: 0.9850\n",
      "Epoch 17/20\n",
      "60/60 [==============================] - 32s 535ms/step - loss: 0.0518 - accuracy: 0.9837\n",
      "Epoch 18/20\n",
      "60/60 [==============================] - 34s 570ms/step - loss: 0.0487 - accuracy: 0.9846\n",
      "Epoch 19/20\n",
      "60/60 [==============================] - 31s 522ms/step - loss: 0.0472 - accuracy: 0.9848\n",
      "Epoch 20/20\n",
      "60/60 [==============================] - 31s 521ms/step - loss: 0.0473 - accuracy: 0.9854\n"
     ]
    }
   ],
   "source": [
    "history=model.fit(x_train, y_train, epochs=20,  batch_size=1000)"
   ]
  },
  {
   "cell_type": "markdown",
   "metadata": {},
   "source": [
    "<a name=\"model_history\"></a>\n",
    "### 4.2 The history of model learning on training data "
   ]
  },
  {
   "cell_type": "markdown",
   "metadata": {},
   "source": [
    "* In keras we can keep the history of the model during training and at the end you plot relation between the cost function (in keras loss is cost).\n",
    "* Ideally, the cost will decrease as the number of iterations of the algorithm increases. \n",
    "* The **history** object returned by the **fit** method in Keras contains information about the training process. \n",
    "* It's a dictionary that includes the training **loss**, as well as any specified metrics (such as **accuracy** in this example), for each epoch during the training.\n",
    "\n",
    "> How we can see the process of model learning during the fit method: \n",
    "\n",
    "* A) The Loss Vs Epochs during the training \n",
    "* B) The Accuracy Vs Epochs during the training "
   ]
  },
  {
   "cell_type": "markdown",
   "metadata": {},
   "source": [
    "#### A) The Loss Vs Epochs during the training "
   ]
  },
  {
   "cell_type": "code",
   "execution_count": 14,
   "metadata": {},
   "outputs": [],
   "source": [
    "def plot_loss_tf(history):\n",
    "    fig,ax = plt.subplots(1,1, figsize = (4,3))\n",
    "    fig.canvas.toolbar_visible = False\n",
    "    fig.canvas.header_visible = False\n",
    "    fig.canvas.footer_visible = False\n",
    "    ax.plot(history.history['loss'], label='loss')\n",
    "    ax.set_ylim([0, 2])\n",
    "    ax.set_xlabel('Epoch')\n",
    "    ax.set_ylabel('loss (cost)')\n",
    "    ax.legend()\n",
    "    ax.grid(True)\n",
    "    plt.show()\n"
   ]
  },
  {
   "cell_type": "code",
   "execution_count": 15,
   "metadata": {},
   "outputs": [
    {
     "data": {
      "image/png": "[encoded data removed]",
      "text/plain": [
       "<Figure size 400x300 with 1 Axes>"
      ]
     },
     "metadata": {},
     "output_type": "display_data"
    }
   ],
   "source": [
    "plot_loss_tf(history)"
   ]
  },
  {
   "cell_type": "markdown",
   "metadata": {},
   "source": [
    "#### B) The Accuracy Vs Epochs during the training "
   ]
  },
  {
   "cell_type": "code",
   "execution_count": 16,
   "metadata": {},
   "outputs": [],
   "source": [
    "def plot_accuracy_tf(history):\n",
    "    fig,ax = plt.subplots(1,1, figsize = (4,3))\n",
    "    fig.canvas.toolbar_visible = False\n",
    "    fig.canvas.header_visible = False\n",
    "    fig.canvas.footer_visible = False\n",
    "    ax.plot(history.history['accuracy'], label='Accuracy')\n",
    "    ax.set_ylim([0, 2])\n",
    "    ax.set_xlabel('Epoch')\n",
    "    ax.set_ylabel('Accuracy')\n",
    "    ax.legend()\n",
    "    ax.grid(True)\n",
    "    plt.show()"
   ]
  },
  {
   "cell_type": "code",
   "execution_count": 17,
   "metadata": {},
   "outputs": [
    {
     "data": {
      "image/png": "[encoded data removed]",
      "text/plain": [
       "<Figure size 400x300 with 1 Axes>"
      ]
     },
     "metadata": {},
     "output_type": "display_data"
    }
   ],
   "source": [
    "plot_accuracy_tf(history)"
   ]
  },
  {
   "cell_type": "markdown",
   "metadata": {},
   "source": [
    "#### Important Note: What if you have cross validation data with the training? **Double click **to see what you should do! \n",
    "\n",
    "<!--\n",
    "#To adjust the history for both\n",
    "# Train the model and obtain the history object\n",
    "history = model.fit(x_train, y_train, epochs=10, batch_size=1000, validation_data=(x_val, y_val))\n",
    "\n",
    "# Access training loss values\n",
    "training_loss = history.history['loss']\n",
    "\n",
    "# Access validation loss values\n",
    "validation_loss = history.history['val_loss']\n",
    "\n",
    "# Access additional metrics if specified, e.g., accuracy\n",
    "training_accuracy = history.history['accuracy']\n",
    "validation_accuracy = history.history['val_accuracy']\n",
    "\n",
    "# To Plot the two figures for both \n",
    "# Plot the loss and accuracy curves for training and validation \n",
    "fig, ax = plt.subplots(2,1)\n",
    "ax[0].plot(history.history['loss'], color='b', label=\"Training loss\")\n",
    "# ax[0].plot(history.history['val_loss'], color='r', label=\"validation loss\",axes =ax[0])\n",
    "legend = ax[0].legend(loc='best', shadow=True)\n",
    "\n",
    "ax[1].plot(history.history['accuracy'], color='b', label=\"Training accuracy\")\n",
    "# ax[1].plot(history.history['val_acc'], color='r',label=\"Validation accuracy\")\n",
    "legend = ax[1].legend(loc='best', shadow=True)\n",
    "-->\n",
    "\n"
   ]
  },
  {
   "cell_type": "markdown",
   "metadata": {},
   "source": [
    "> --> Congratulations!, Once our model has been trained on the data, Now, we can assess its performance on any test data. -->"
   ]
  },
  {
   "cell_type": "markdown",
   "metadata": {},
   "source": [
    "<a name=\"evaluate_model\"></a>\n",
    "### 4.3 Evaluate our CNN Model\n"
   ]
  },
  {
   "cell_type": "markdown",
   "metadata": {},
   "source": [
    "* Assessing its performance on a separate dataset, typically a validation set or a test set!\n",
    "* in our example : we use training and test as we don't have cross validation set \n",
    "    * The evaluate() function will return a list with two values. \n",
    "        * The first will be the loss of the model on the dataset. \n",
    "        * The second will be the accuracy of the model on the dataset.\n",
    "* we will compare the accuracy of our CNN model for the test dataset with the previously built DNN model   "
   ]
  },
  {
   "cell_type": "code",
   "execution_count": 18,
   "metadata": {},
   "outputs": [
    {
     "name": "stdout",
     "output_type": "stream",
     "text": [
      "The accuracy of our model on Training dataset : 99.62\n",
      "The loss of our model on Training dataset : 1.25\n",
      "The accuracy of our model on Test dataset : 99.19\n",
      "The loss of our model on Test dataset : 2.79\n"
     ]
    }
   ],
   "source": [
    "training_loss, training_acc = model.evaluate(x_train, y_train, verbose=0)\n",
    "test_loss, test_acc = model.evaluate(x_test, y_test, verbose=0)\n",
    "print('The accuracy of our model on Training dataset : %.2f' % (training_acc*100))\n",
    "print('The loss of our model on Training dataset : %.2f' % (training_loss*100))\n",
    "print('The accuracy of our model on Test dataset : %.2f' % (test_acc*100))\n",
    "print('The loss of our model on Test dataset : %.2f' % (test_loss*100))"
   ]
  },
  {
   "cell_type": "markdown",
   "metadata": {},
   "source": [
    "#### Our Observation on the model performance"
   ]
  },
  {
   "cell_type": "markdown",
   "metadata": {},
   "source": [
    "* Flashback :\n",
    "\n",
    "    * While a simple DNN could achieve a respectable 91% test accuracy on our dataset, a CNNs proved to be the superior choice. \n",
    "    * This is because CNNs are specifically designed for image analysis, boasting a built-in feature extractor. Unlike a DNN, which treats images as flat data, a CNN can dissect the image into its individual components, like edges, shapes, and textures. This detailed understanding allows the CNN to pick up on subtle details that a DNN might miss, ultimately leading to more accurate and robust image recognition."
   ]
  },
  {
   "cell_type": "markdown",
   "metadata": {},
   "source": [
    "> After successfully training and evaluating your model, you can leverage it to make predictions on new data. "
   ]
  },
  {
   "cell_type": "markdown",
   "metadata": {},
   "source": [
    "* Optionally,(if you have cross validation dataset)\n",
    "    * fine-tune the hyperparameters or architecture based on the validation results to improve the model's overall performance.\n",
    "    * Once satisfied with the model's performance, deploy it for making predictions on new, unseen data."
   ]
  },
  {
   "cell_type": "markdown",
   "metadata": {},
   "source": [
    "<a name=\"prediction\"></a>\n",
    "## 5- Prediction"
   ]
  },
  {
   "cell_type": "markdown",
   "metadata": {},
   "source": [
    "<a name=\"make_prediction\"></a>\n",
    "### 5.1 Make Predictions using our trained model"
   ]
  },
  {
   "cell_type": "markdown",
   "metadata": {},
   "source": [
    "> here, we are using test data as example to predict, as we don't have cross validation and test datasets "
   ]
  },
  {
   "cell_type": "markdown",
   "metadata": {},
   "source": [
    "> Executing the prediction function once over the entire dataset will generate predictions that can be accessed from the output array"
   ]
  },
  {
   "cell_type": "code",
   "execution_count": 19,
   "metadata": {},
   "outputs": [
    {
     "name": "stdout",
     "output_type": "stream",
     "text": [
      "313/313 [==============================] - 2s 7ms/step\n"
     ]
    }
   ],
   "source": [
    "predictions = model.predict(x_test)"
   ]
  },
  {
   "cell_type": "markdown",
   "metadata": {},
   "source": [
    "> Let's see some cases and compare! you try any image number here as you want"
   ]
  },
  {
   "cell_type": "markdown",
   "metadata": {},
   "source": [
    "<a name=\"correct_incorrect\"></a>\n",
    "### 5.2 Visualize correct and incorrect predictions"
   ]
  },
  {
   "cell_type": "markdown",
   "metadata": {},
   "source": [
    "* Let's look at instances of both correct and incorrect predictions made by our model."
   ]
  },
  {
   "cell_type": "code",
   "execution_count": 20,
   "metadata": {},
   "outputs": [],
   "source": [
    "#get the predictions indices for the test data\n",
    "predicted_indices = np.argmax(predictions, axis=1)\n",
    "#get the indices to be plotted\n",
    "correct = np.nonzero(predicted_indices==y_test)[0]\n",
    "incorrect = np.nonzero(predicted_indices!=y_test)[0]"
   ]
  },
  {
   "cell_type": "markdown",
   "metadata": {},
   "source": [
    "TODO Later : Make one function to plot the prediction then if it is correct or not correct dynamically get the values **DoubleClick**\n",
    "\n",
    "<!-- def plot_prediction(case):\n",
    "    \"\"\" \n",
    "    This function to plot random 12 case of the prediction in both cases correct and incorrect\n",
    "    \"\"\"\n",
    "    predictions = model.predict(x_test)\n",
    "    #get the predictions indices for the test data\n",
    "    predicted_indices = np.argmax(predictions, axis=1)\n",
    "\n",
    "    fig, axes = plt.subplots(3, 4, figsize=(12, 8))\n",
    "    fig.tight_layout(pad=0.1, rect=[0, 0.03, 1, 0.92]) \n",
    "    for i, ax in enumerate(axes.flat):\n",
    "        # get random index from the incorrect indexes that already found \n",
    "        random_index = case[np.random.randint(len(case))]\n",
    "        # Display the image after reshape \n",
    "        ax.imshow(x_test[random_index].reshape(28, 28), cmap='gray', interpolation='none')\n",
    "        # Display the label above the image\n",
    "        ax.set_title(\"Predicted {}, Real {}\".format(predicted_indices[random_index], y_test[random_index]))\n",
    "        ax.set_axis_off() \n",
    "    fig.suptitle(\"The prediction Vs the real\", fontsize=16) \n",
    "    plt.show()\n",
    "# TODO : continue later  -->"
   ]
  },
  {
   "cell_type": "markdown",
   "metadata": {},
   "source": [
    "#### A) Incorrect cases for our model"
   ]
  },
  {
   "cell_type": "code",
   "execution_count": 21,
   "metadata": {},
   "outputs": [
    {
     "data": {
      "image/png": "[encoded data removed]",
      "text/plain": [
       "<Figure size 1200x800 with 12 Axes>"
      ]
     },
     "metadata": {},
     "output_type": "display_data"
    }
   ],
   "source": [
    "fig, axes = plt.subplots(3, 4, figsize=(12, 8))\n",
    "fig.tight_layout(pad=0.1, rect=[0, 0.03, 1, 0.92]) \n",
    "for i, ax in enumerate(axes.flat):\n",
    "    # get random index from the incorrect indexes that already found \n",
    "    random_index = incorrect[np.random.randint(len(incorrect))]\n",
    "    # Display the image after reshape \n",
    "    ax.imshow(x_test[random_index].reshape(28, 28), cmap='gray', interpolation='none')\n",
    "    # Display the label above the image\n",
    "    ax.set_title(\"Predicted {}, Real {}\".format(predicted_indices[random_index], y_test[random_index]))\n",
    "    ax.set_axis_off() \n",
    "fig.suptitle(\"Prediction Vs Real for incorrect\", fontsize=16) \n",
    "plt.show()"
   ]
  },
  {
   "cell_type": "markdown",
   "metadata": {},
   "source": [
    "#### B) Correct cases for our model"
   ]
  },
  {
   "cell_type": "code",
   "execution_count": 22,
   "metadata": {},
   "outputs": [
    {
     "data": {
      "image/png": "[encoded data removed]",
      "text/plain": [
       "<Figure size 1200x800 with 12 Axes>"
      ]
     },
     "metadata": {},
     "output_type": "display_data"
    }
   ],
   "source": [
    "fig, axes = plt.subplots(3, 4, figsize=(12, 8))\n",
    "fig.tight_layout(pad=0.1, rect=[0, 0.03, 1, 0.92]) \n",
    "for i, ax in enumerate(axes.flat):\n",
    "    # get random index from the incorrect indexes that already found \n",
    "    random_index = correct[np.random.randint(len(correct))]\n",
    "    # Display the image after reshape \n",
    "    ax.imshow(x_test[random_index].reshape(28, 28), cmap='gray', interpolation='none')\n",
    "     # Display the label above the image\n",
    "    ax.set_title(\"Predicted {}, Real {}\".format(predicted_indices[random_index], y_test[random_index]))\n",
    "    ax.set_axis_off() \n",
    "fig.suptitle(\"Prediction Vs Real for correct\", fontsize=16) \n",
    "plt.show()"
   ]
  },
  {
   "cell_type": "markdown",
   "metadata": {},
   "source": [
    "<a name=\"saving\"></a>\n",
    "## 6. Model Saving "
   ]
  },
  {
   "cell_type": "markdown",
   "metadata": {},
   "source": [
    "* In keras, we have the option to save either the entire model or the weights of its individual layers after training.\n",
    "* Commonly we save in HDF5 format **(.h5 file)**. "
   ]
  },
  {
   "cell_type": "markdown",
   "metadata": {},
   "source": [
    "<a name=\"model_saving\"></a>\n",
    "### 6.1 Save the entire model "
   ]
  },
  {
   "cell_type": "code",
   "execution_count": 23,
   "metadata": {},
   "outputs": [],
   "source": [
    "model.save('CNN_model_Mnist.h5')"
   ]
  },
  {
   "cell_type": "markdown",
   "metadata": {},
   "source": [
    "> To load the model in future use "
   ]
  },
  {
   "cell_type": "code",
   "execution_count": 24,
   "metadata": {},
   "outputs": [],
   "source": [
    "new_model = keras.models.load_model('CNN_model_Mnist.h5')"
   ]
  },
  {
   "cell_type": "markdown",
   "metadata": {},
   "source": [
    "<a name=\"weights_saving\"></a>\n",
    "### 6.2 Save the layers weights"
   ]
  },
  {
   "cell_type": "markdown",
   "metadata": {},
   "source": [
    "> Note: For max pooling layers, there are typically no learnable parameters, so the weights will be an empty list."
   ]
  },
  {
   "cell_type": "markdown",
   "metadata": {},
   "source": [
    "#### A) Access information of the layers **Option 1** "
   ]
  },
  {
   "cell_type": "code",
   "execution_count": 25,
   "metadata": {},
   "outputs": [
    {
     "data": {
      "text/plain": [
       "[<tf.Variable 'batch_normalization/gamma:0' shape=(68,) dtype=float32, numpy=\n",
       " array([0.9192927 , 0.9195976 , 0.90406054, 0.9313124 , 0.52385217,\n",
       "        0.8154638 , 0.6573224 , 0.8351286 , 0.9190288 , 0.9181476 ,\n",
       "        0.90677804, 0.9122169 , 0.9168813 , 0.44388503, 0.9152441 ,\n",
       "        0.9197333 , 0.7543455 , 0.91872203, 0.90988255, 0.78609896,\n",
       "        0.92778975, 0.92484635, 0.90776545, 0.9308869 , 0.49145553,\n",
       "        0.84365135, 0.51826036, 0.9062222 , 0.56892246, 0.93417686,\n",
       "        0.92453414, 0.9058621 , 0.9074107 , 0.925804  , 0.92523104,\n",
       "        0.92262125, 0.66982806, 0.906279  , 0.9105036 , 0.93020815,\n",
       "        0.9067253 , 0.5755086 , 0.8911713 , 0.9155911 , 0.7335693 ,\n",
       "        0.83820844, 0.92154354, 0.74596584, 0.9025695 , 0.8416256 ,\n",
       "        0.9439746 , 0.91773945, 0.9301992 , 0.7488229 , 0.93220633,\n",
       "        0.8005434 , 0.45340177, 0.9062831 , 0.90841746, 0.8037278 ,\n",
       "        0.8996308 , 0.9175331 , 0.8787093 , 0.287162  , 0.9088281 ,\n",
       "        0.7329531 , 0.89147073, 0.90908235], dtype=float32)>,\n",
       " <tf.Variable 'batch_normalization/beta:0' shape=(68,) dtype=float32, numpy=\n",
       " array([ 0.10528579,  0.046986  ,  0.08158403,  0.08771564,  0.02387949,\n",
       "         0.0647854 ,  0.04894649,  0.1376618 ,  0.0992884 ,  0.05404852,\n",
       "         0.04718965,  0.00229515,  0.1075056 , -0.02154626,  0.11014908,\n",
       "         0.08920289,  0.00706162,  0.08065973,  0.04285566,  0.26664275,\n",
       "         0.10193942,  0.03637022,  0.05270009,  0.00401238,  0.03949923,\n",
       "         0.14258955, -0.10839907,  0.06990924,  0.10947693, -0.00969033,\n",
       "         0.0931374 ,  0.0416726 ,  0.04666264,  0.09176761,  0.00856149,\n",
       "         0.10980106,  0.10456482,  0.07078421,  0.07689885,  0.07633612,\n",
       "         0.05815119,  0.10054269,  0.04785439, -0.06280862, -0.06833098,\n",
       "         0.14781815,  0.11120201,  0.00601751,  0.09200258,  0.14531583,\n",
       "         0.00782518,  0.01463819,  0.02223771, -0.00067176,  0.09877264,\n",
       "         0.16239126,  0.01190112,  0.0657322 ,  0.06049294,  0.20397055,\n",
       "         0.08915248,  0.06249269,  0.10421362,  0.02176108, -0.06206638,\n",
       "         0.10578419,  0.11518007,  0.01283832], dtype=float32)>,\n",
       " <tf.Variable 'batch_normalization/moving_mean:0' shape=(68,) dtype=float32, numpy=\n",
       " array([6.7416167e-10, 4.6641968e-10, 2.3625285e-10, 2.6587281e-02,\n",
       "        3.9887495e-02, 1.7758735e-03, 3.6310010e-02, 2.5962885e-02,\n",
       "        2.1256754e-09, 3.2455572e-10, 4.9711907e-10, 1.7612803e-09,\n",
       "        2.0821037e-10, 5.5758343e-03, 2.3589541e-10, 5.8429837e-06,\n",
       "        9.1677783e-03, 2.9432445e-09, 1.9162736e-09, 2.8257582e-02,\n",
       "        1.0223133e-08, 1.8028001e-10, 1.6605496e-09, 9.2622653e-11,\n",
       "        2.1859489e-02, 4.9260754e-02, 6.0581439e-03, 5.3728426e-09,\n",
       "        1.5262661e-02, 9.4761610e-10, 2.1854560e-09, 6.1021876e-10,\n",
       "        4.4663730e-09, 7.1914541e-10, 1.9416009e-10, 1.1927991e-09,\n",
       "        2.7072662e-02, 3.4304499e-08, 1.9599512e-10, 3.4626474e-10,\n",
       "        7.6637435e-10, 1.7376138e-02, 2.9441765e-09, 4.6072139e-11,\n",
       "        6.9531061e-02, 1.9987287e-02, 3.8309381e-10, 1.3662095e-01,\n",
       "        1.0013947e-09, 1.3725017e-02, 2.6242508e-10, 6.6226291e-10,\n",
       "        5.0689283e-11, 8.3864659e-02, 7.0922352e-09, 2.8116917e-02,\n",
       "        4.6462691e-03, 3.9943066e-10, 1.4644322e-09, 5.1337175e-02,\n",
       "        3.9358476e-09, 4.4394372e-10, 6.3261773e-08, 7.4451384e-03,\n",
       "        5.2995958e-10, 2.3192972e-02, 7.2848366e-10, 9.8403119e-10],\n",
       "       dtype=float32)>,\n",
       " <tf.Variable 'batch_normalization/moving_variance:0' shape=(68,) dtype=float32, numpy=\n",
       " array([5.78417666e-06, 5.78416075e-06, 5.78414438e-06, 3.86149914e-04,\n",
       "        2.91639543e-03, 1.01352365e-04, 6.04537781e-04, 2.22683986e-04,\n",
       "        5.78431309e-06, 5.78414438e-06, 5.78416939e-06, 5.78426307e-06,\n",
       "        5.78414438e-06, 8.40668101e-04, 5.78414438e-06, 5.82719667e-06,\n",
       "        1.89606799e-03, 5.78438448e-06, 5.78430536e-06, 3.20584339e-04,\n",
       "        5.78431991e-06, 5.78414438e-06, 5.78423396e-06, 5.78413938e-06,\n",
       "        5.29121491e-04, 8.06559925e-04, 5.14304906e-04, 5.78480740e-06,\n",
       "        3.29608418e-04, 5.78420850e-06, 5.78425897e-06, 5.78417666e-06,\n",
       "        5.78469599e-06, 5.78419713e-06, 5.78414438e-06, 5.78420850e-06,\n",
       "        6.36649725e-04, 5.78443678e-06, 5.78414438e-06, 5.78413983e-06,\n",
       "        5.78420031e-06, 6.95663795e-04, 5.78440859e-06, 5.78413938e-06,\n",
       "        3.74910864e-03, 1.81307900e-04, 5.78416075e-06, 3.56002874e-03,\n",
       "        5.78420850e-06, 1.02874837e-04, 5.78414438e-06, 5.78417666e-06,\n",
       "        5.78413938e-06, 6.97425054e-03, 5.78420850e-06, 4.80831077e-04,\n",
       "        6.47114066e-04, 5.78416075e-06, 5.78423169e-06, 9.49423178e-04,\n",
       "        5.78455001e-06, 5.78416075e-06, 5.78464733e-06, 8.13950435e-04,\n",
       "        5.78416939e-06, 2.59335968e-04, 5.78416939e-06, 5.78420850e-06],\n",
       "       dtype=float32)>]"
      ]
     },
     "execution_count": 25,
     "metadata": {},
     "output_type": "execute_result"
    }
   ],
   "source": [
    "model.layers[1].weights # 1 is the first convolutional layer "
   ]
  },
  {
   "cell_type": "markdown",
   "metadata": {},
   "source": [
    "#### B) Access information of the layers **Option 2** "
   ]
  },
  {
   "cell_type": "code",
   "execution_count": 26,
   "metadata": {},
   "outputs": [],
   "source": [
    "[conv1, batch ,maxpool1, dropout1, conv2, maxpool2, dropout2, flatten,layer1, dropout3, layer2 ] = model.layers"
   ]
  },
  {
   "cell_type": "markdown",
   "metadata": {},
   "source": [
    "> Example : Access the weights of the convolutional layers"
   ]
  },
  {
   "cell_type": "code",
   "execution_count": 27,
   "metadata": {},
   "outputs": [
    {
     "name": "stdout",
     "output_type": "stream",
     "text": [
      "W1 shape = (3, 3, 1, 68), b1 shape = (68,)\n",
      "W2 shape = (3, 3, 68, 32), b2 shape = (32,)\n"
     ]
    }
   ],
   "source": [
    "W1,b1 = conv1.get_weights() \n",
    "W2,b2 = conv2.get_weights() \n",
    "print(f\"W1 shape = {W1.shape}, b1 shape = {b1.shape}\")\n",
    "print(f\"W2 shape = {W2.shape}, b2 shape = {b2.shape}\")"
   ]
  },
  {
   "cell_type": "markdown",
   "metadata": {},
   "source": [
    "> Example : Access the weights of the first max pooling layer"
   ]
  },
  {
   "cell_type": "code",
   "execution_count": 28,
   "metadata": {},
   "outputs": [
    {
     "name": "stdout",
     "output_type": "stream",
     "text": [
      "MaxPool1 Weights: []\n"
     ]
    }
   ],
   "source": [
    "maxpool1_layer = model.get_layer(\"maxpool1\")\n",
    "maxpool1_weights = maxpool1_layer.get_weights()\n",
    "print(\"MaxPool1 Weights:\", maxpool1_weights)"
   ]
  },
  {
   "cell_type": "markdown",
   "metadata": {},
   "source": [
    "#### C) Save layers Weights to use it later"
   ]
  },
  {
   "cell_type": "code",
   "execution_count": 29,
   "metadata": {},
   "outputs": [],
   "source": [
    "model.save_weights('CNN_model_weights.h5')"
   ]
  },
  {
   "cell_type": "markdown",
   "metadata": {},
   "source": [
    "<a name=\"reload_weights\"></a>\n",
    "### 6.3 Reload the weights again in a new model "
   ]
  },
  {
   "cell_type": "markdown",
   "metadata": {},
   "source": [
    "#### A) Load the entire model weights one time  "
   ]
  },
  {
   "cell_type": "code",
   "execution_count": 30,
   "metadata": {},
   "outputs": [],
   "source": [
    "New_loaded_model = tf.keras.models.Sequential()\n",
    "#start the model with convolutional layer followed by max pooling layer \n",
    "New_loaded_model.add(tf.keras.layers.Conv2D(68,kernel_size=(3,3),strides=(1,1),padding=\"same\",activation='relu',input_shape=(28,28,1),name=\"conv1_loaded\"))\n",
    "New_loaded_model.add(tf.keras.layers.BatchNormalization())\n",
    "New_loaded_model.add(tf.keras.layers.MaxPool2D(pool_size=(2,2), strides=(2,2),name=\"maxpool1_loaded\"))\n",
    "New_loaded_model.add(tf.keras.layers.Dropout(0.2))\n",
    "# another convolutional layer followed by max pooling layer \n",
    "New_loaded_model.add(tf.keras.layers.Conv2D(32,kernel_size=(3,3),strides=(1,1),padding=\"same\",activation='relu',name=\"conv2_loaded\"))\n",
    "New_loaded_model.add(tf.keras.layers.MaxPool2D(pool_size=(2,2), strides=(2,2),name=\"maxpool2_loaded\"))\n",
    "New_loaded_model.add(tf.keras.layers.Dropout(0.2))\n",
    "# Flatten the output from feature extractor then build the FC layers to get the desired output \n",
    "New_loaded_model.add(tf.keras.layers.Flatten())\n",
    "New_loaded_model.add(tf.keras.layers.Dense(128, activation=tf.nn.relu, name=\"layer1_loaded\"))\n",
    "New_loaded_model.add(tf.keras.layers.Dropout(0.2))\n",
    "New_loaded_model.add(tf.keras.layers.Dense(10, activation=\"linear\",name=\"layer2_loaded\"))\n",
    "\n",
    "# Load the weights of the old model\n",
    "New_loaded_model.load_weights('CNN_model_weights.h5')"
   ]
  },
  {
   "cell_type": "markdown",
   "metadata": {},
   "source": [
    "> Now, the New_loaded_model has the same weights as the original model, which save a lot of time for future use. "
   ]
  },
  {
   "cell_type": "markdown",
   "metadata": {},
   "source": [
    "- Let's Check the weights of the layers "
   ]
  },
  {
   "cell_type": "code",
   "execution_count": 31,
   "metadata": {},
   "outputs": [
    {
     "name": "stdout",
     "output_type": "stream",
     "text": [
      "W1 shape = (3, 3, 1, 68), b1 shape = (68,)\n",
      "W2 shape = (3, 3, 68, 32), b2 shape = (32,)\n"
     ]
    }
   ],
   "source": [
    "conv1_loaded = New_loaded_model.get_layer(\"conv1_loaded\")\n",
    "conv2_loaded = New_loaded_model.get_layer(\"conv2_loaded\")\n",
    "\n",
    "W1,b1 = conv1_loaded.get_weights() \n",
    "W2,b2 = conv2_loaded.get_weights() \n",
    "\n",
    "print(f\"W1 shape = {W1.shape}, b1 shape = {b1.shape}\")\n",
    "print(f\"W2 shape = {W2.shape}, b2 shape = {b2.shape}\")"
   ]
  },
  {
   "cell_type": "markdown",
   "metadata": {},
   "source": [
    "To do it Just one time **Double Click**\n",
    "<!-- New_loaded_model.load_weights('CNN_model_weights.h5')\n",
    "W1,b1=New_loaded_model.get_layer(\"conv1_loaded\").get_weights() \n",
    "W2,b2=New_loaded_model.get_layer(\"conv2_loaded\").get_weights() \n",
    "print(f\"W1 shape = {W1.shape}, b1 shape = {b1.shape}\")\n",
    "print(f\"W2 shape = {W2.shape}, b2 shape = {b2.shape}\") -->"
   ]
  },
  {
   "cell_type": "markdown",
   "metadata": {},
   "source": [
    "#### B) We can set the weights layer by layer"
   ]
  },
  {
   "cell_type": "code",
   "execution_count": 32,
   "metadata": {},
   "outputs": [],
   "source": [
    "New_loaded_model.get_layer(\"conv1_loaded\").set_weights([W1,b1])"
   ]
  },
  {
   "cell_type": "markdown",
   "metadata": {},
   "source": [
    "&nbsp;\n",
    "\n",
    "<a name=\"other_apps\"></a>\n",
    "## Further TensorFlow (Keras) Applications for CNN \n",
    "---------\n",
    "[Example No 1](CNN_case_studies/Example_No_1_images_6categories.ipynb) : 6 Categories Images Classification.\n",
    "\n",
    "[Example No 2](CNN_case_studies/Example_No_2_mnist_dataset_acc99.ipynb) : MNIST dataset (Acc 0.997).\n",
    "\n",
    "[Example No 3](CNN_case_studies/Example_No_3_fashion_related_dataset.ipynb) : fashion-related dataset. \n",
    "\n",
    "[Example No 4](CNN_case_studies/Example_No_4_cats_dogs_classification.ipynb) : Cats & Dogs Classification. \n",
    "\n",
    "[Example No 5](CNN_case_studies/Example_No_5_Cats_Dogs_classifer.ipynb) : Cats & Dogs classifier and compare to the DNN model. "
   ]
  },
  {
   "cell_type": "markdown",
   "metadata": {},
   "source": [
    "&nbsp;\n",
    "<a name=\"resources\"></a>\n",
    "## Key Resources Utilized in Crafting This Notebook :\n",
    "--------------------------\n",
    "- <a rel=\"keras_website\" href=\"https://keras.io\"> Keras Official Website. </a>\n",
    "- <a rel=\"the code used\" href=\"https://www.youtube.com/watch?v=ohyn_MzS_hE&list=PL6-3IRz2XF5VbuU2T0gS_mFhCpKmLxvCP\"> Playlist for Keras in Arabic by Hesham Asem. </a>\n",
    "- <a rel=\"the code used2\" href=\"https://github.com/HeshamAsem/CNN\"> Hesham Asem GitHub for ML tools. </a>\n",
    "\n"
   ]
  }
 ],
 "metadata": {
  "kernelspec": {
   "display_name": "tensorflow",
   "language": "python",
   "name": "tensorflow"
  },
  "language_info": {
   "codemirror_mode": {
    "name": "ipython",
    "version": 3
   },
   "file_extension": ".py",
   "mimetype": "text/x-python",
   "name": "python",
   "nbconvert_exporter": "python",
   "pygments_lexer": "ipython3",
   "version": "3.11.0"
  }
 },
 "nbformat": 4,
 "nbformat_minor": 2
}
