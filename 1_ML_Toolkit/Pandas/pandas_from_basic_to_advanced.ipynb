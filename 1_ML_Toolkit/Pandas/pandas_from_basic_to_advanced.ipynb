{
 "cells": [
  {
   "cell_type": "markdown",
   "metadata": {},
   "source": [
    "# Pandas from basic to advanced"
   ]
  },
  {
   "cell_type": "markdown",
   "metadata": {},
   "source": [
    "#### Dr. Mohamed Marzouk Sobaih, Postdoctoral Researcher\n",
    "#### [Twitter](https://twitter.com/mohamedmarzouk2) | [GitHub](https://github.com/momarzouksobeh) | [GoogleScholar](https://scholar.google.com/citations?hl=en&user=OWIaK9sAAAAJ) | [Website](https://momarzouksobeh.github.io) | [LinkedIn](http://www.linkedin.com/in/momarzouksobeh/)"
   ]
  },
  {
   "cell_type": "markdown",
   "metadata": {},
   "source": [
    "## Table of Content \n",
    "<div class=\"alert alert-block alert-info\" style=\"margin-top: 20px\">\n",
    "\n",
    "<font size = 4> \n",
    "\n",
    "1. <a href=\"#intro\"> Introduction </a> <br>\n",
    "    1.1 <a href=\"#tutorial_imp\"> What is pandas? and Why it is important?</a> <br>\n",
    "\n",
    "    1.2 <a href=\"#version\"> What is the version of pandas used in this notebook?  </a><br>\n",
    " \n",
    "2. <a href=\"#basic_operation\"> Pandas' fundamental operations </a> <br>\n",
    "    2.1 <a href=\"#series\"> Series  </a> <br>\n",
    "       - 2.1.1 <a href=\"#create_series\"> Create series  </a> <br>\n",
    "       - 2.1.2 <a href=\"#get_series_info\"> Info. about the series  </a> <br>\n",
    "       - 2.1.3 <a href=\"#access_slice_series\"> How to access and slice data in a Series? </a> <br>\n",
    "       - 2.1.4 <a href=\"#adjust_index\"> Customize the index </a> <br>\n",
    "\n",
    "    2.2 <a href=\"#create_list\"> List and List operations by Pandas   </a> <br>\n",
    "  \n",
    "\n",
    "3. <a href=\"#plotting\"> Data Visualization with Pandas </a> <br>\n",
    "\n",
    "4. <a href=\"#df\"> DataFrames </a> <br>\n",
    "    4.1 <a href=\"#create_df\"> Creating DataFrame </a> <br>\n",
    "        - 4.1.1 <a href=\"#create_df_array\"> Creating DF from array </a> <br>\n",
    "        - 4.1.2 <a href=\"#create_df_list\"> Creating DF from list </a> <br>\n",
    "        - 4.1.3 <a href=\"#create_df_series\"> Creating DF from many Series </a> <br>\n",
    "        - 4.1.4 <a href=\"#create_df_dic\"> Creating DF by Dictionary Method  </a> <br>\n",
    "        - 4.1.5 <a href=\"#create_df_function\"> Creating DF by function (advanced method) </a> <br>\n",
    "\n",
    "    4.2 <a href=\"#basic_op_df\"> Basic Operations on DataFrame   </a> <br>\n",
    "        - 4.2.1 <a href=\"#slice_df\"> Slicing or accessing columns in the DF   </a> <br>\n",
    "        - 4.2.2 <a href=\"#transpose_df\"> Transpose the DF  </a> <br>\n",
    "        - 4.2.3 <a href=\"#call_keys\"> Accessing only keys or values from the DF </a> <br>\n",
    "        - 4.2.4 <a href=\"#conditions_keys\"> Applying conditions to specific keys or values in the DF </a> <br>\n",
    "        - 4.2.5 <a href=\"#create_df_function\"> Vertical representation of elements with keys and values </a> <br>\n",
    "        - 4.2.6 <a href=\"#loc_elements\"> Locating specific elements for slicing and searching within the DF </a> <br>\n",
    "        - 4.2.7 <a href=\"#col_indx_df\"> Access names of all columns and the index in the DF </a> <br>\n",
    "        - 4.2.8 <a href=\"#sort_elements\"> Sort the elements in the DF </a> <br>\n",
    "        - 4.2.9 <a href=\"#df_statistics\"> Statistics for the entire DF or per column </a> <br>\n",
    "        - 4.2.10 <a href=\"#elements_correlation\"> The correlation between elements in the DF </a> <br>\n",
    "        - 4.2.11<a href=\"#skewness\"> The skewness among the elements of each column in the DF </a> <br>\n",
    "        - 4.2.12 <a href=\"#arithmetic_op\"> Arithmetic operations between Columns  </a> <br>\n",
    "        - 4.2.13 <a href=\"#select_row_condition\"> Selecting a Specific Row by Conditions  </a> <br>\n",
    "\n",
    "\n",
    "\n",
    "    4.3 <a href=\"#concat_merge_tables\"> Table Concatenation and Merging </a> <br>\n",
    "        - 4.3.1 <a href=\"#simple_concat\"> Simple Concatenation </a> <br>\n",
    "        - 4.3.2 <a href=\"#logic_on_axes_concat\"> Set logic on the other axes </a> <br>\n",
    "        - 4.3.3 <a href=\"#ignore_index_concat\"> Ignoring indexes on the concatenation axis </a> <br>\n",
    "        - 4.3.4 <a href=\"#merge_dfs\"> Merging DataFrames </a> <br>\n",
    "        - 4.3.5 <a href=\"#logic_on_axes_merge\"> Set logic on the other axes during merging  </a> <br>\n",
    "\n",
    "    4.4 <a href=\"#advanced_op_df\"> Advanced operations on DataFrames  </a> <br>\n",
    "        - 4.4.1 <a href=\"#sta_df\"> Statistics for the entire DF </a> <br>\n",
    "        - 4.4.2 <a href=\"#sta_column\"> Statistics on one Column of the DF </a> <br>\n",
    "        - 4.4.3 <a href=\"#sta_columns\"> Statistics on all columns of the DF  </a> <br>\n",
    "        - 4.4.4 <a href=\"#sat_rows\"> Statistics on all rows of the DF  </a> <br>\n",
    "        - 4.4.5 <a href=\"#describe\"> Statistics on the entire DF using the Describe method </a> <br>\n",
    "        - 4.4.6 <a href=\"#groupby\"> Groupby </a> <br>\n",
    "        - 4.4.7 <a href=\"#groupby_descripe\"> Grouping with the Describe Method </a> <br>\n",
    "\n",
    "    4.5  <a href=\"#data_trans_handling_missing\"> Data Transformation and Handling Missing Data </a> <br>\n",
    "        - 4.5.1 <a href=\"#how_handle_missing\"> How to Address Missing Data ? </a> <br>\n",
    "        - 4.5.2 <a href=\"#drop_data\"> Dropping Unnecessary Data </a> <br>\n",
    "        - 4.5.3 <a href=\"#dropping_rows_with_missingdata\"> Dropping Rows with Any Missing Values </a> <br>\n",
    "        - 4.5.4 <a href=\"#detect_missing\"> Detecting All Missing Values </a> <br>\n",
    "        - 4.5.5 <a href=\"#eliminate_duplicates\"> Eliminating Duplicates  </a> <br>\n",
    "        - 4.5.6 <a href=\"#control_eliminate_duplicates\"> Control Eliminating Duplicates  </a> <br>\n",
    "        - 4.5.7 <a href=\"#transforming_data\"> Transforming Data Using the replace() Function  </a> <br>\n",
    "        - 4.5.8 <a href=\"#categorical_data\"> Analysis of Categorical Data </a> <br>\n",
    "      \n",
    "5. <a href=\"#multindex\"> Multi Index </a> <br>\n",
    "    5.1 <a href=\"#create_3dtable\"> Creating a 3D hierarchical table using MultiIndex or other methods. </a> <br>\n",
    "        - 5.1.1 <a href=\"#3dtable_multiinde\"> Creating a hierarchical table with a MultiIndex </a> <br>\n",
    "        - 5.1.2 <a href=\"#3dtable_dataframe\"> Creating a hierarchical table with a DataFrame </a> <br>\n",
    "        - 5.1.3 <a href=\"#3dtable_dictionary\"> Creating a hierarchical table with a dictionary </a> <br>\n",
    "\n",
    "    5.2 <a href=\"#searching_3dtable\"> Searching in the 3D Table by Year </a> <br>\n",
    "\n",
    "    5.3 <a href=\"#backto_regularformate\"> Transforming the hierarchical table to a regular format using the unstack method </a> <br>\n",
    "\n",
    "    5.4 <a href=\"#add_more_columns\"> Adding one more column to the DataFrame </a> <br>\n",
    "\n",
    "    5.5 <a href=\"#complicated_3dtable\"> Examples of Complicated Tables with MultiIndex </a> <br>\n",
    "\n",
    "6. <a href=\"#string\"> Strings in pandas </a> <br>\n",
    "\n",
    "7. <a href=\"#date&time\"> Date & Time </a> <br>\n",
    "    7.1 <a href=\"#write_date\"> Write Date in Pandas </a> <br>\n",
    "\n",
    "    7.2 <a href=\"#date_range\"> Range between past and future dates </a> <br>\n",
    "\n",
    "    7.3 <a href=\"#date_tables\"> Write Dates & Tables  </a> <br>\n",
    "        - 7.3.1 <a href=\"#date_tables_create\"> Creating a Table for Dates </a> <br>\n",
    "        - 7.3.2 <a href=\"#date_tables_filter\"> Filtering based on dates: days, months, or years </a> <br>\n",
    "        - 7.3.3 <a href=\"#date_tables_range\"> Creating a table for dates with a range between two dates or starting from a specific day </a> <br>\n",
    "        - 7.3.4 <a href=\"#date_tables_range_hours\"> Creating a table for dates with a range specified by hours only, excluding dates </a> <br>\n",
    "\n",
    "8. <a href=\"#files\"> File Handling (CSV files) </a> <br>\n",
    "    8.1 <a href=\"#read_files\"> Read CSV or Excel file </a> <br>\n",
    "\n",
    "    8.2 <a href=\"#save_df\"> Save DF as CSV or Excel file </a> <br>\n",
    "    \n",
    "    8.3 <a href=\"#methods_reading_data\"> Applying different methods while reading the DataFrame  </a> <br>\n",
    "        - 8.3.1 <a href=\"#specify_index\"> Specify one column to be the index column  </a> <br>\n",
    "        - 8.3.2 <a href=\"#skip_rows\"> Skip some rows </a> <br>\n",
    "        - 8.3.3 <a href=\"#classify_data\"> Classify Data  </a> <br>\n",
    "        - 8.3.4 <a href=\"#corr_skew\"> Correlation and Skew  </a> <br>\n",
    "\n",
    "9. <a href=\"#resources\"> The Key Resources </a> <br>\n",
    "   \n",
    " </font>\n",
    "    \n",
    "</div>"
   ]
  },
  {
   "cell_type": "markdown",
   "metadata": {},
   "source": [
    "<a id='intro'></a>\n",
    "## 1. Introduction"
   ]
  },
  {
   "cell_type": "markdown",
   "metadata": {},
   "source": [
    "<a id='tutorial_imp'></a>\n",
    "### 1.1 What is pandas? and Why it is important?"
   ]
  },
  {
   "cell_type": "markdown",
   "metadata": {},
   "source": [
    "* Pandas offers an extensive array of tools designed for handling tabular data, encompassing tasks such as data cleaning, aggregation, and visualization. \n",
    "\n",
    "* At the heart of Pandas is its core data structure, the DataFrame (DF), which represents a versatile two-dimensional table with flexible data types and operations. \n",
    "* This structure facilitates efficient data manipulation, allowing for actions like indexing, slicing, and filtering.\n",
    "\n",
    "* This notebook constitutes a component of my preparation for the application of machine learning (ML) models for drug design. Within this notebook, I aim to curate a thorough compilation of commands, spanning from basic to advanced levels, for utilizing the Pandas library."
   ]
  },
  {
   "cell_type": "markdown",
   "metadata": {},
   "source": [
    "The version of pandas used in this notebook is '2.1.4'"
   ]
  },
  {
   "cell_type": "markdown",
   "metadata": {},
   "source": [
    "<a id='version'></a>\n",
    "### 1.2 What is the version of pandas used in this notebook? \n",
    "> The version of pandas used in this notebook is '2.1.4'"
   ]
  },
  {
   "cell_type": "code",
   "execution_count": 245,
   "metadata": {},
   "outputs": [
    {
     "data": {
      "text/plain": [
       "'2.1.4'"
      ]
     },
     "execution_count": 245,
     "metadata": {},
     "output_type": "execute_result"
    }
   ],
   "source": [
    "import pandas as pd\n",
    "pd.__version__"
   ]
  },
  {
   "cell_type": "markdown",
   "metadata": {},
   "source": [
    "<a id='basic_operation'></a>\n",
    "## 2. Pandas' fundamental operations "
   ]
  },
  {
   "cell_type": "markdown",
   "metadata": {},
   "source": [
    "<a id='series'></a>\n",
    "### 2.1 Series "
   ]
  },
  {
   "cell_type": "markdown",
   "metadata": {},
   "source": [
    "* Series in pandas is a one-dimensional labeled array, capable of holding data of any type and facilitating efficient data manipulation.\n",
    "* We use Series to create 1D arrays or vectors, also known as 1D matrices"
   ]
  },
  {
   "cell_type": "markdown",
   "metadata": {},
   "source": [
    "<a id='create_series'></a>\n",
    "#### 2.1.1 Create series "
   ]
  },
  {
   "cell_type": "code",
   "execution_count": 246,
   "metadata": {},
   "outputs": [
    {
     "name": "stdout",
     "output_type": "stream",
     "text": [
      "0    0.25\n",
      "1    0.50\n",
      "2    0.75\n",
      "3    1.00\n",
      "dtype: float64\n"
     ]
    }
   ],
   "source": [
    "data = pd.Series([0.25, 0.5, 0.75, 1.0])\n",
    "print(data)\n"
   ]
  },
  {
   "cell_type": "markdown",
   "metadata": {},
   "source": [
    "<a id='get_series_info'></a>\n",
    "#### 2.1.2 Info. about the series "
   ]
  },
  {
   "cell_type": "markdown",
   "metadata": {},
   "source": [
    "> When seeking information about our data, we can obtain it through:\n",
    "* **value** -->  to retrieve the values within the dataset.\n",
    "* **index** -->  to ascertain the range of indices for all elements in the dataset."
   ]
  },
  {
   "cell_type": "code",
   "execution_count": 247,
   "metadata": {},
   "outputs": [
    {
     "name": "stdout",
     "output_type": "stream",
     "text": [
      "<bound method Series.keys of 0    0.25\n",
      "1    0.50\n",
      "2    0.75\n",
      "3    1.00\n",
      "dtype: float64>\n"
     ]
    }
   ],
   "source": [
    "data = pd.Series((0.25, 0.5, 0.75, 1.0))\n",
    "# print(data.values)\n",
    "# print(data.index)\n",
    "print(data.keys)\n"
   ]
  },
  {
   "cell_type": "markdown",
   "metadata": {},
   "source": [
    "* The `describe` function provides statistical insights into our data, we used to use different function in numpy to obtain such inofrmation, but with pandas employing describe alone is sufficient. \n",
    "\n",
    "* we have the flexibility to tailor the information obtained from describe using the `agg` command based on our specific requirements."
   ]
  },
  {
   "cell_type": "code",
   "execution_count": 248,
   "metadata": {},
   "outputs": [
    {
     "name": "stdout",
     "output_type": "stream",
     "text": [
      "count    11.000000\n",
      "mean      5.363636\n",
      "std       2.292280\n",
      "min       2.000000\n",
      "25%       3.500000\n",
      "50%       5.000000\n",
      "75%       7.000000\n",
      "max       9.000000\n",
      "dtype: float64\n"
     ]
    }
   ],
   "source": [
    "data = pd.Series((3,6,9,8,5,4,2,6,3,5,8))\n",
    "print(data.describe())\n"
   ]
  },
  {
   "cell_type": "code",
   "execution_count": 249,
   "metadata": {},
   "outputs": [
    {
     "name": "stdout",
     "output_type": "stream",
     "text": [
      "max      9.000000\n",
      "min      2.000000\n",
      "sum     59.000000\n",
      "mean     5.363636\n",
      "std      2.292280\n",
      "dtype: float64\n"
     ]
    }
   ],
   "source": [
    "data = pd.Series((3,6,9,8,5,4,2,6,3,5,8))\n",
    "print(data.agg(['max','min','sum','mean','std']))\n"
   ]
  },
  {
   "cell_type": "markdown",
   "metadata": {},
   "source": [
    "<a id='access_slice_series'></a>\n",
    "#### 2.1.3 How to access and slice data in a Series?"
   ]
  },
  {
   "cell_type": "markdown",
   "metadata": {},
   "source": [
    "> 📍 Keep in your mind 🧐 --> data[start : end : steps]"
   ]
  },
  {
   "cell_type": "code",
   "execution_count": 250,
   "metadata": {},
   "outputs": [
    {
     "name": "stdout",
     "output_type": "stream",
     "text": [
      "0.5\n",
      "1    0.50\n",
      "2    0.75\n",
      "dtype: float64\n",
      "1    0.5\n",
      "dtype: float64\n"
     ]
    }
   ],
   "source": [
    "data = pd.Series((0.25, 0.5, 0.75, 1.0))\n",
    "print(data[1])\n",
    "print(data[1:3])\n",
    "print(data[1:3:2])\n"
   ]
  },
  {
   "cell_type": "markdown",
   "metadata": {},
   "source": [
    "<a id='adjust_index'></a>\n",
    "#### 2.1.4 Customize the index"
   ]
  },
  {
   "cell_type": "markdown",
   "metadata": {},
   "source": [
    "> How to manually manage and customize the index in Pandas for those who prefer not to use the default index provided by the library ?\n",
    "\n",
    "* Method 1: List of Index - You can specify the index by providing a list with the number of indexes equal to the number of elements.\n",
    "\n",
    "* Method 2: Dictionary Approach - You can utilize the dictionary format to define the index."
   ]
  },
  {
   "cell_type": "code",
   "execution_count": 251,
   "metadata": {},
   "outputs": [
    {
     "name": "stdout",
     "output_type": "stream",
     "text": [
      "a    1\n",
      "b    2\n",
      "c    3\n",
      "d    4\n",
      "dtype: int64\n",
      "a    1\n",
      "b    2\n",
      "c    3\n",
      "d    4\n",
      "dtype: int64\n"
     ]
    }
   ],
   "source": [
    "data1 = pd.Series([1,2,3,4], index=['a', 'b', 'c', 'd'])\n",
    "\n",
    "data2 = pd.Series({'a':1,'b':2,'c':3,'d':4})\n",
    "\n",
    "print(data1)\n",
    "print(data2)\n"
   ]
  },
  {
   "cell_type": "markdown",
   "metadata": {},
   "source": [
    "> Then, we can access or slice by new indexes"
   ]
  },
  {
   "cell_type": "code",
   "execution_count": 252,
   "metadata": {},
   "outputs": [
    {
     "name": "stdout",
     "output_type": "stream",
     "text": [
      "1\n",
      "2\n"
     ]
    }
   ],
   "source": [
    "import pandas as pd\n",
    "data1 = pd.Series([1,2,3,4], index=['a', 'b', 'c', 'd'])\n",
    "data2 = pd.Series({'a':1,'b':2,'c':3,'d':4})\n",
    "print(data1['a'])\n",
    "print(data2['b'])"
   ]
  },
  {
   "cell_type": "markdown",
   "metadata": {},
   "source": [
    "<a id='create_list'></a>\n",
    "### 2.2 List and List operations by Pandas \n",
    "> In Pandas you can create list by use the `Index` class \n"
   ]
  },
  {
   "cell_type": "code",
   "execution_count": 253,
   "metadata": {},
   "outputs": [
    {
     "name": "stdout",
     "output_type": "stream",
     "text": [
      "Index([2, 3, 5, 7, 11], dtype='int64')\n"
     ]
    }
   ],
   "source": [
    "x = pd.Index([2,3,5,7,11])\n",
    "print(x)\n"
   ]
  },
  {
   "cell_type": "markdown",
   "metadata": {},
   "source": [
    "> Then it is easy to deal with it as list and do other operations such as logic gates "
   ]
  },
  {
   "cell_type": "code",
   "execution_count": 254,
   "metadata": {},
   "outputs": [
    {
     "name": "stdout",
     "output_type": "stream",
     "text": [
      "Index([1, 3, 5, 7, 9], dtype='int64')\n",
      "Index([2, 3, 5, 7, 11], dtype='int64')\n",
      "Index([0, 3, 5, 7, 9], dtype='int64')\n",
      "Index([3, 3, 5, 7, 11], dtype='int64')\n",
      "Index([3, 0, 0, 0, 2], dtype='int64')\n"
     ]
    }
   ],
   "source": [
    "import pandas as pd\n",
    "a = pd.Index([1, 3, 5, 7, 9])\n",
    "b = pd.Index([2, 3, 5, 7, 11])\n",
    "\n",
    "print(a)\n",
    "print(b)\n",
    "print(a & b)\n",
    "print(a | b)\n",
    "print(a ^ b)\n"
   ]
  },
  {
   "cell_type": "markdown",
   "metadata": {},
   "source": [
    "<a id=\"plotting\"></a>\n",
    "## 3. Data Visualization with Pandas"
   ]
  },
  {
   "cell_type": "markdown",
   "metadata": {},
   "source": [
    "**Important Notes**  \n",
    "* When supplying only the 'y' data, Pandas plot will automatically create the x-axis data as 1, 2, 3, ..., aligning with the quantity of input data on the y-axis.\n",
    "* The default **kind** parameter in the plot command is set to **line**. Therefore, if you desire a different plot type, you will need to specify it accordingly."
   ]
  },
  {
   "cell_type": "markdown",
   "metadata": {},
   "source": [
    "- Plot as line "
   ]
  },
  {
   "cell_type": "code",
   "execution_count": 255,
   "metadata": {},
   "outputs": [
    {
     "data": {
      "image/png": "[encoded data removed]",
      "text/plain": [
       "<Figure size 640x480 with 1 Axes>"
      ]
     },
     "metadata": {},
     "output_type": "display_data"
    }
   ],
   "source": [
    "data = pd.Series((3,6,9,8,5,4,2,6,3,5,8))\n",
    "# data.plot()\n",
    "data.plot(kind='line'); "
   ]
  },
  {
   "cell_type": "markdown",
   "metadata": {},
   "source": [
    "- Plot as Pie"
   ]
  },
  {
   "cell_type": "code",
   "execution_count": 256,
   "metadata": {},
   "outputs": [
    {
     "data": {
      "image/png": "[encoded data removed]",
      "text/plain": [
       "<Figure size 640x480 with 1 Axes>"
      ]
     },
     "metadata": {},
     "output_type": "display_data"
    }
   ],
   "source": [
    "import pandas as pd\n",
    "data = pd.Series((3,6,9,8,5,4,2,6,3,5,8))\n",
    "data.plot(kind='pie');  \n"
   ]
  },
  {
   "cell_type": "markdown",
   "metadata": {},
   "source": [
    "- Plot as Bar"
   ]
  },
  {
   "cell_type": "code",
   "execution_count": 257,
   "metadata": {},
   "outputs": [
    {
     "data": {
      "image/png": "[encoded data removed]",
      "text/plain": [
       "<Figure size 640x480 with 1 Axes>"
      ]
     },
     "metadata": {},
     "output_type": "display_data"
    }
   ],
   "source": [
    "import pandas as pd\n",
    "data = pd.Series((3,6,9,8,5,4,2,6,3,5,8))\n",
    "data.plot(kind='bar'); \n"
   ]
  },
  {
   "cell_type": "code",
   "execution_count": 258,
   "metadata": {},
   "outputs": [
    {
     "data": {
      "image/png": "[encoded data removed]",
      "text/plain": [
       "<Figure size 640x480 with 1 Axes>"
      ]
     },
     "metadata": {},
     "output_type": "display_data"
    }
   ],
   "source": [
    "import pandas as pd\n",
    "data = pd.Series((3,6,9,8,5,4,2,6,3,5,8))\n",
    "data.plot(kind='barh');\n"
   ]
  },
  {
   "cell_type": "markdown",
   "metadata": {},
   "source": [
    "* **Plot as Histogram** \n",
    "    * The concept behind a histogram is to determine the frequency of each element in the provided list. \n",
    "    * It requires a single column as input to analyze and display the distribution."
   ]
  },
  {
   "cell_type": "code",
   "execution_count": 259,
   "metadata": {},
   "outputs": [
    {
     "data": {
      "image/png": "[encoded data removed]",
      "text/plain": [
       "<Figure size 640x480 with 1 Axes>"
      ]
     },
     "metadata": {},
     "output_type": "display_data"
    }
   ],
   "source": [
    "import pandas as pd\n",
    "data = pd.Series((3,6,9,8,5,4,2,6,3,5,8))\n",
    "data.plot(kind='hist');\n"
   ]
  },
  {
   "cell_type": "markdown",
   "metadata": {},
   "source": [
    "* Plot as box \n",
    "    * The box plotted based on the maximum, lower, and median for the given data   "
   ]
  },
  {
   "cell_type": "code",
   "execution_count": 260,
   "metadata": {},
   "outputs": [
    {
     "data": {
      "image/png": "[encoded data removed]",
      "text/plain": [
       "<Figure size 640x480 with 1 Axes>"
      ]
     },
     "metadata": {},
     "output_type": "display_data"
    }
   ],
   "source": [
    "\n",
    "data = pd.Series((3,6,9,8,5,4,2,6,3,5,8))\n",
    "data.plot(kind='box');\n"
   ]
  },
  {
   "cell_type": "markdown",
   "metadata": {},
   "source": [
    "* **Plot by KDE** \n",
    "    * It is something related to the density distribution from the number of repetition of each value "
   ]
  },
  {
   "cell_type": "code",
   "execution_count": 261,
   "metadata": {},
   "outputs": [
    {
     "data": {
      "image/png": "[encoded data removed]",
      "text/plain": [
       "<Figure size 640x480 with 1 Axes>"
      ]
     },
     "metadata": {},
     "output_type": "display_data"
    }
   ],
   "source": [
    "\n",
    "data = pd.Series((3,6,9,8,5,4,2,6,3,5,8))\n",
    "data.plot(kind='kde');\n"
   ]
  },
  {
   "cell_type": "code",
   "execution_count": 262,
   "metadata": {},
   "outputs": [
    {
     "data": {
      "image/png": "[encoded data removed]",
      "text/plain": [
       "<Figure size 640x480 with 1 Axes>"
      ]
     },
     "metadata": {},
     "output_type": "display_data"
    }
   ],
   "source": [
    "import pandas as pd\n",
    "data = pd.Series((3,6,9,8,5,4,2,6,3,5,8))\n",
    "\n",
    "data.plot(kind='density');\n"
   ]
  },
  {
   "cell_type": "markdown",
   "metadata": {},
   "source": [
    "* Plot by the area under the curve \n",
    "    * We can plot the area under the curve for our data by the **area** kind in the plot command "
   ]
  },
  {
   "cell_type": "code",
   "execution_count": 263,
   "metadata": {},
   "outputs": [
    {
     "data": {
      "image/png": "[encoded data removed]",
      "text/plain": [
       "<Figure size 640x480 with 1 Axes>"
      ]
     },
     "metadata": {},
     "output_type": "display_data"
    }
   ],
   "source": [
    "data = pd.Series((3,6,9,8,5,4,2,6,3,5,8))\n",
    "data.plot(kind='area');"
   ]
  },
  {
   "cell_type": "markdown",
   "metadata": {},
   "source": [
    "<a id=\"df\"></a>\n",
    "## 4. DataFrames "
   ]
  },
  {
   "cell_type": "markdown",
   "metadata": {},
   "source": [
    "One of the crucial roles played by Pandas is through its DataFrame tool, specifically designed for working with tables and managing  **Big Data** in **Data Science**"
   ]
  },
  {
   "cell_type": "markdown",
   "metadata": {},
   "source": [
    "<a id=\"create_df\"></a>\n",
    "### 4.1 Creating DataFrame \n",
    "* There are various ways to create Data frames (DF) in pandas, including using arrays and series. \n",
    "* We will explore each method in this notebook, but you will notice that the DF class requires several optional parameters, such as index, column names, and others. \n",
    "* However, one parameter is mandatory— the data itself (either an array or a series)"
   ]
  },
  {
   "cell_type": "markdown",
   "metadata": {},
   "source": [
    "<a id=\"create_df_array\"></a>\n",
    "#### 4.1.1 Creating DF from array \n",
    "It's essential to note that the length of the index list should match the number of rows in the data, and similarly, the length of the columns list should correspond to the number of columns in the provided data."
   ]
  },
  {
   "cell_type": "code",
   "execution_count": 264,
   "metadata": {},
   "outputs": [
    {
     "name": "stdout",
     "output_type": "stream",
     "text": [
      "   one  two  three  four  five  six\n",
      "a    6    9      8     5     4    2\n",
      "b    0    2      5     6     3    9\n",
      "c    8    5      4     1     2    3\n",
      "d    6    9      8     5     4    2\n",
      "e    0    5      3     6     9    8\n",
      "f    8    7      4     5     2    3\n"
     ]
    }
   ],
   "source": [
    "import pandas as pd\n",
    "import numpy as np\n",
    "myarray = np.array([[6,9,8,5,4,2],[0,2,5,6,3,9],\n",
    "                    [8,5,4,1,2,3],[6,9,8,5,4,2],\n",
    "                    [0,5,3,6,9,8],[8,7,4,5,2,3]])\n",
    "row_names = ['a', 'b','c','d','e','f']\n",
    "col_names = ['one', 'two', 'three','four','five','six']\n",
    "df = pd.DataFrame(myarray, index=row_names, columns=col_names)\n",
    "print(df)\n"
   ]
  },
  {
   "cell_type": "markdown",
   "metadata": {},
   "source": [
    "<a id=\"create_df_list\"></a>\n",
    "#### 4.1.2 Creating DF from list"
   ]
  },
  {
   "cell_type": "code",
   "execution_count": 265,
   "metadata": {},
   "outputs": [
    {
     "name": "stdout",
     "output_type": "stream",
     "text": [
      "      Name  Age      Occupation\n",
      "0    Alice   25        Engineer\n",
      "1      Bob   30  Data Scientist\n",
      "2  Charlie   28        Designer\n"
     ]
    }
   ],
   "source": [
    "import pandas as pd\n",
    "\n",
    "# Example list of lists\n",
    "data_list = [\n",
    "    ['Alice', 25, 'Engineer'],\n",
    "    ['Bob', 30, 'Data Scientist'],\n",
    "    ['Charlie', 28, 'Designer']\n",
    "]\n",
    "\n",
    "# Define column names\n",
    "columns = ['Name', 'Age', 'Occupation']\n",
    "\n",
    "# Create DataFrame\n",
    "df = pd.DataFrame(data_list, columns=columns)\n",
    "\n",
    "# Display the DataFrame\n",
    "print(df)\n"
   ]
  },
  {
   "cell_type": "markdown",
   "metadata": {},
   "source": [
    "<a id=\"create_df_series\"></a>\n",
    "#### 4.1.3 Create DF from many Series \n",
    "As previously mentioned, a Series is essentially a 1D matrix. If you have multiple Series, you can combine them to create a DataFrame."
   ]
  },
  {
   "cell_type": "code",
   "execution_count": 266,
   "metadata": {},
   "outputs": [
    {
     "name": "stdout",
     "output_type": "stream",
     "text": [
      "   Math  Physics  French  Chemistry\n",
      "a     1        6      11         16\n",
      "b     2        7      12         17\n",
      "c     3        8      13         18\n",
      "d     4        9      14         19\n",
      "e     5       10      15         20\n"
     ]
    }
   ],
   "source": [
    "import pandas as pd\n",
    "w = pd.Series({'a':1 ,'b':2 ,'c':3 ,'d':4 ,'e':5})\n",
    "x = pd.Series({'a':6 ,'b':7 ,'c':8 ,'d':9 ,'e':10})\n",
    "y = pd.Series({'a':11 ,'b':12 ,'c':13 ,'d':14 ,'e':15})\n",
    "z = pd.Series({'a':16 ,'b':17 ,'c':18 ,'d':19 ,'e':20})\n",
    "\n",
    "grades = pd.DataFrame({'Math':w,'Physics':x,'French':y,'Chemistry':z})\n",
    "\n",
    "print(grades)\n",
    "\n"
   ]
  },
  {
   "cell_type": "markdown",
   "metadata": {},
   "source": [
    "> Alternatively, in Pandas, you can use a list to serve as the index for your DataFrame."
   ]
  },
  {
   "cell_type": "code",
   "execution_count": 267,
   "metadata": {},
   "outputs": [
    {
     "data": {
      "text/html": [
       "<div>\n",
       "<style scoped>\n",
       "    .dataframe tbody tr th:only-of-type {\n",
       "        vertical-align: middle;\n",
       "    }\n",
       "\n",
       "    .dataframe tbody tr th {\n",
       "        vertical-align: top;\n",
       "    }\n",
       "\n",
       "    .dataframe thead th {\n",
       "        text-align: right;\n",
       "    }\n",
       "</style>\n",
       "<table border=\"1\" class=\"dataframe\">\n",
       "  <thead>\n",
       "    <tr style=\"text-align: right;\">\n",
       "      <th></th>\n",
       "      <th>Column No 1</th>\n",
       "      <th>Column No 2</th>\n",
       "    </tr>\n",
       "  </thead>\n",
       "  <tbody>\n",
       "    <tr>\n",
       "      <th>Row no 1</th>\n",
       "      <td>3</td>\n",
       "      <td>13</td>\n",
       "    </tr>\n",
       "    <tr>\n",
       "      <th>Row no 2</th>\n",
       "      <td>5</td>\n",
       "      <td>15</td>\n",
       "    </tr>\n",
       "    <tr>\n",
       "      <th>Row no 3</th>\n",
       "      <td>6</td>\n",
       "      <td>16</td>\n",
       "    </tr>\n",
       "    <tr>\n",
       "      <th>Row no 4</th>\n",
       "      <td>0</td>\n",
       "      <td>10</td>\n",
       "    </tr>\n",
       "    <tr>\n",
       "      <th>Row no 5</th>\n",
       "      <td>18</td>\n",
       "      <td>118</td>\n",
       "    </tr>\n",
       "    <tr>\n",
       "      <th>Row no 6</th>\n",
       "      <td>38</td>\n",
       "      <td>138</td>\n",
       "    </tr>\n",
       "    <tr>\n",
       "      <th>Row no 7</th>\n",
       "      <td>48</td>\n",
       "      <td>148</td>\n",
       "    </tr>\n",
       "    <tr>\n",
       "      <th>Row no 8</th>\n",
       "      <td>54</td>\n",
       "      <td>154</td>\n",
       "    </tr>\n",
       "    <tr>\n",
       "      <th>Row no 9</th>\n",
       "      <td>3</td>\n",
       "      <td>13</td>\n",
       "    </tr>\n",
       "    <tr>\n",
       "      <th>Row no 10</th>\n",
       "      <td>5</td>\n",
       "      <td>15</td>\n",
       "    </tr>\n",
       "  </tbody>\n",
       "</table>\n",
       "</div>"
      ],
      "text/plain": [
       "            Column No 1  Column No 2\n",
       "Row no 1              3           13\n",
       "Row no 2              5           15\n",
       "Row no 3              6           16\n",
       "Row no 4              0           10\n",
       "Row no 5             18          118\n",
       "Row no 6             38          138\n",
       "Row no 7             48          148\n",
       "Row no 8             54          154\n",
       "Row no 9              3           13\n",
       "Row no 10             5           15"
      ]
     },
     "execution_count": 267,
     "metadata": {},
     "output_type": "execute_result"
    }
   ],
   "source": [
    "import pandas as pd\n",
    "data1 = pd.Index([3,5,6,0,18,38,48,54,3,5])\n",
    "data2 = pd.Index([13,15,16,10,118,138,148,154,13,15])\n",
    "row_names = [\"Row no 1 \", \"Row no 2 \", \"Row no 3 \", \"Row no 4 \", \"Row no 5 \", \"Row no 6 \", \"Row no 7 \", \"Row no 8 \", \"Row no 9 \",  \"Row no 10 \"]\n",
    "df= pd.DataFrame({\"Column No 1\":data1,\"Column No 2\":data2},index=row_names)\n",
    "df"
   ]
  },
  {
   "cell_type": "markdown",
   "metadata": {},
   "source": [
    "<a id=\"create_df_dic\"></a>\n",
    "#### 4.1.4 Creating DF by Dictionary Method  \n",
    "We can create DF by dictionary methods column by column and using the conditions for fill the values"
   ]
  },
  {
   "cell_type": "code",
   "execution_count": 268,
   "metadata": {},
   "outputs": [
    {
     "name": "stdout",
     "output_type": "stream",
     "text": [
      "   square\n",
      "0       0\n",
      "1       1\n",
      "2       4\n",
      "3       9\n",
      "4      16\n",
      "5      25\n",
      "6      36\n",
      "7      49\n",
      "8      64\n",
      "9      81\n"
     ]
    }
   ],
   "source": [
    "import pandas as pd\n",
    "data = [{'square': i**2} for i in range(10)]\n",
    "df = pd.DataFrame(data)\n",
    "print(df)"
   ]
  },
  {
   "cell_type": "code",
   "execution_count": 269,
   "metadata": {},
   "outputs": [
    {
     "name": "stdout",
     "output_type": "stream",
     "text": [
      "   square  cube      root\n",
      "0       0     0  0.000000\n",
      "1       1     1  1.000000\n",
      "2       4     8  1.414214\n",
      "3       9    27  1.732051\n",
      "4      16    64  2.000000\n",
      "5      25   125  2.236068\n",
      "6      36   216  2.449490\n",
      "7      49   343  2.645751\n",
      "8      64   512  2.828427\n",
      "9      81   729  3.000000\n"
     ]
    }
   ],
   "source": [
    "import pandas as pd\n",
    "data = [{'square': i**2,'cube': i**3\n",
    "         ,'root': i**0.5} for i in range(10)]\n",
    "\n",
    "df = pd.DataFrame(data)\n",
    "\n",
    "print(df)\n"
   ]
  },
  {
   "cell_type": "code",
   "execution_count": 270,
   "metadata": {},
   "outputs": [
    {
     "name": "stdout",
     "output_type": "stream",
     "text": [
      "   a  b\n",
      "0  1  2\n",
      "1  3  4\n",
      "2  5  6\n"
     ]
    }
   ],
   "source": [
    "import pandas as pd\n",
    "d = pd.DataFrame([{'a':1,'b':2},{'a':3,'b':4},{'a':5,'b':6}])\n",
    "\n",
    "print(d)\n"
   ]
  },
  {
   "cell_type": "markdown",
   "metadata": {},
   "source": [
    "> Note : if there is value missing for any element will add Nan instead"
   ]
  },
  {
   "cell_type": "code",
   "execution_count": 271,
   "metadata": {},
   "outputs": [
    {
     "name": "stdout",
     "output_type": "stream",
     "text": [
      "     a    b    c    d    e\n",
      "0  1.0  2.0  NaN  NaN  NaN\n",
      "1  NaN  3.0  4.0  NaN  NaN\n",
      "2  NaN  NaN  NaN  5.0  6.0\n"
     ]
    }
   ],
   "source": [
    "import pandas as pd\n",
    "\n",
    "d = pd.DataFrame([{'a':1,'b':2},{'b':3,'c':4},{'d':5,'e':6}])\n",
    "\n",
    "print(d)\n"
   ]
  },
  {
   "cell_type": "code",
   "execution_count": 272,
   "metadata": {},
   "outputs": [
    {
     "name": "stdout",
     "output_type": "stream",
     "text": [
      "       food     drink\n",
      "a  0.903192  0.006704\n",
      "b  0.222576  0.001998\n",
      "c  0.236427  0.224673\n"
     ]
    }
   ],
   "source": [
    "import pandas as pd\n",
    "import numpy as np\n",
    "\n",
    "d =pd.DataFrame(np.random.rand(3, 2),\n",
    "                columns=['food', 'drink'],index=['a', 'b', 'c'])\n",
    "print(d)\n"
   ]
  },
  {
   "cell_type": "markdown",
   "metadata": {},
   "source": [
    "<a id=\"create_df_function\"></a>\n",
    "#### 4.1.5 Creating DF by function (advanced method)"
   ]
  },
  {
   "cell_type": "code",
   "execution_count": 273,
   "metadata": {},
   "outputs": [
    {
     "name": "stdout",
     "output_type": "stream",
     "text": [
      "    A   B   C\n",
      "0  A0  B0  C0\n",
      "1  A1  B1  C1\n",
      "2  A2  B2  C2\n"
     ]
    }
   ],
   "source": [
    "import pandas as pd\n",
    "\n",
    "def make_df(cols, ind):\n",
    "    data = {c: [str(c) + str(i) for i in ind] for c in cols}\n",
    "    return pd.DataFrame(data, ind)\n",
    "\n",
    "print(make_df('ABC', range(3)))\n"
   ]
  },
  {
   "cell_type": "markdown",
   "metadata": {},
   "source": [
    "<a id=\"basic_op_df\"></a>\n",
    "### 4.2 Basic Operations on DataFrame  \n",
    "> You can perform various operations on a DataFrame, including slicing and handling a multitude of tasks."
   ]
  },
  {
   "cell_type": "markdown",
   "metadata": {},
   "source": [
    "<a id=\"slice_df\"></a>\n",
    "#### 4.2.1 Slicing or accessing columns in the DF  \n",
    "When you retrieve a single column, it includes the index. If you prefer excluding the index, you can utilize the keys and values options to precisely customize the output based on your requirements."
   ]
  },
  {
   "cell_type": "code",
   "execution_count": 274,
   "metadata": {},
   "outputs": [
    {
     "name": "stdout",
     "output_type": "stream",
     "text": [
      "   Math  Physics  French  Chemistry\n",
      "a     1        6      11         16\n",
      "b     2        7      12         17\n",
      "c     3        8      13         18\n",
      "d     4        9      14         19\n",
      "e     5       10      15         20\n",
      "a    16\n",
      "b    17\n",
      "c    18\n",
      "d    19\n",
      "e    20\n",
      "Name: Chemistry, dtype: int64\n"
     ]
    }
   ],
   "source": [
    "import pandas as pd\n",
    "w = pd.Series({'a':1 ,'b':2 ,'c':3 ,'d':4 ,'e':5})\n",
    "x = pd.Series({'a':6 ,'b':7 ,'c':8 ,'d':9 ,'e':10})\n",
    "y = pd.Series({'a':11 ,'b':12 ,'c':13 ,'d':14 ,'e':15})\n",
    "z = pd.Series({'a':16 ,'b':17 ,'c':18 ,'d':19 ,'e':20})\n",
    "\n",
    "grades = pd.DataFrame({'Math':w,'Physics':x,'French':y,'Chemistry':z})\n",
    "print(grades)\n",
    "print(grades['Chemistry'])\n"
   ]
  },
  {
   "cell_type": "markdown",
   "metadata": {},
   "source": [
    "<a id=\"transpose_df\"></a>\n",
    "#### 4.2.2 Transpose the DF "
   ]
  },
  {
   "cell_type": "code",
   "execution_count": 275,
   "metadata": {},
   "outputs": [
    {
     "name": "stdout",
     "output_type": "stream",
     "text": [
      "            a   b   c   d   e\n",
      "Math        1   2   3   4   5\n",
      "Physics     6   7   8   9  10\n",
      "French     11  12  13  14  15\n",
      "Chemistry  16  17  18  19  20\n"
     ]
    }
   ],
   "source": [
    "import pandas as pd\n",
    "w = pd.Series({'a':1 ,'b':2 ,'c':3 ,'d':4 ,'e':5})\n",
    "x = pd.Series({'a':6 ,'b':7 ,'c':8 ,'d':9 ,'e':10})\n",
    "y = pd.Series({'a':11 ,'b':12 ,'c':13 ,'d':14 ,'e':15})\n",
    "z = pd.Series({'a':16 ,'b':17 ,'c':18 ,'d':19 ,'e':20})\n",
    "\n",
    "grades = pd.DataFrame({'Math':w,'Physics':x,'French':y,'Chemistry':z})\n",
    "\n",
    "print(grades.T)\n"
   ]
  },
  {
   "cell_type": "markdown",
   "metadata": {},
   "source": [
    "<a id=\"call_keys\"></a>\n",
    "#### 4.2.3 Accessing only keys or values from the DF"
   ]
  },
  {
   "cell_type": "code",
   "execution_count": 276,
   "metadata": {},
   "outputs": [
    {
     "name": "stdout",
     "output_type": "stream",
     "text": [
      "Index(['Math', 'Physics', 'French', 'Chemistry'], dtype='object')\n",
      "[[ 1  6 11 16]\n",
      " [ 2  7 12 17]\n",
      " [ 3  8 13 18]\n",
      " [ 4  9 14 19]\n",
      " [ 5 10 15 20]]\n"
     ]
    }
   ],
   "source": [
    "import pandas as pd\n",
    "\n",
    "w = pd.Series({'a':1 ,'b':2 ,'c':3 ,'d':4 ,'e':5})\n",
    "x = pd.Series({'a':6 ,'b':7 ,'c':8 ,'d':9 ,'e':10})\n",
    "y = pd.Series({'a':11 ,'b':12 ,'c':13 ,'d':14 ,'e':15})\n",
    "z = pd.Series({'a':16 ,'b':17 ,'c':18 ,'d':19 ,'e':20})\n",
    "\n",
    "grades = pd.DataFrame({'Math':w,'Physics':x,'French':y,'Chemistry':z})\n",
    "print(grades.keys())\n",
    "print(grades.values)\n"
   ]
  },
  {
   "cell_type": "markdown",
   "metadata": {},
   "source": [
    "<a id=\"conditions_keys\"></a>\n",
    "#### 4.2.4 Applying conditions to specific keys or values in the DF \n",
    "> **Note** : Keys --> Columns header "
   ]
  },
  {
   "cell_type": "code",
   "execution_count": 277,
   "metadata": {},
   "outputs": [
    {
     "name": "stdout",
     "output_type": "stream",
     "text": [
      "True\n",
      "False\n",
      "True\n",
      "False\n"
     ]
    }
   ],
   "source": [
    "import pandas as pd\n",
    "\n",
    "w = pd.Series({'a':1 ,'b':2 ,'c':3 ,'d':4 ,'e':5})\n",
    "x = pd.Series({'a':6 ,'b':7 ,'c':8 ,'d':9 ,'e':10})\n",
    "y = pd.Series({'a':11 ,'b':12 ,'c':13 ,'d':14 ,'e':15})\n",
    "z = pd.Series({'a':16 ,'b':17 ,'c':18 ,'d':19 ,'e':20})\n",
    "\n",
    "grades = pd.DataFrame({'Math':w,'Physics':x,'French':y,'Chemistry':z})\n",
    "\n",
    "print('Math' in grades.keys())\n",
    "print('math' in grades.keys())\n",
    "print(12 in grades.values)\n",
    "print(55 in grades.values)\n"
   ]
  },
  {
   "cell_type": "markdown",
   "metadata": {},
   "source": [
    "<a id=\"create_df_function\"></a>\n",
    "#### 4.2.5 Vertical representation of elements with keys and values"
   ]
  },
  {
   "cell_type": "code",
   "execution_count": 278,
   "metadata": {},
   "outputs": [
    {
     "name": "stdout",
     "output_type": "stream",
     "text": [
      "a  Math          1\n",
      "   Physics       6\n",
      "   French       11\n",
      "   Chemistry    16\n",
      "b  Math          2\n",
      "   Physics       7\n",
      "   French       12\n",
      "   Chemistry    17\n",
      "c  Math          3\n",
      "   Physics       8\n",
      "   French       13\n",
      "   Chemistry    18\n",
      "d  Math          4\n",
      "   Physics       9\n",
      "   French       14\n",
      "   Chemistry    19\n",
      "e  Math          5\n",
      "   Physics      10\n",
      "   French       15\n",
      "   Chemistry    20\n",
      "dtype: int64\n"
     ]
    }
   ],
   "source": [
    "import pandas as pd\n",
    "\n",
    "w = pd.Series({'a':1 ,'b':2 ,'c':3 ,'d':4 ,'e':5})\n",
    "x = pd.Series({'a':6 ,'b':7 ,'c':8 ,'d':9 ,'e':10})\n",
    "y = pd.Series({'a':11 ,'b':12 ,'c':13 ,'d':14 ,'e':15})\n",
    "z = pd.Series({'a':16 ,'b':17 ,'c':18 ,'d':19 ,'e':20})\n",
    "\n",
    "grades = pd.DataFrame({'Math':w,'Physics':x,'French':y,'Chemistry':z})\n",
    "\n",
    "print(grades.stack())\n"
   ]
  },
  {
   "cell_type": "markdown",
   "metadata": {},
   "source": [
    "<a id=\"loc_elements\"></a>\n",
    "#### 4.2.6 Locating specific elements for slicing and searching within the DF"
   ]
  },
  {
   "cell_type": "markdown",
   "metadata": {},
   "source": [
    "We have two primary methods for this task:\n",
    "\n",
    "**Method 1:** **iloc** (i for index) - It locates the position by index, similar to the method we are familiar with in lists.\n",
    "\n",
    "**Example:** --> iloc[:3, :2]\n",
    "\n",
    "**Method 2:** **loc** - You need to specify the names of the elements, rows, and columns you are searching for.\n",
    "\n",
    "**Example:** --> loc[\"b\":\"c\", \"Math\":]\n",
    "This implies selecting rows from 'b' to 'c' and columns from 'Math' to the end.\n",
    "\n",
    "Note: In this method, you need to reference columns by their names. If the index is numeric, you can use numbers.\n",
    "\n",
    "Example: df.loc[3:6, : \"Square of x\"]           "
   ]
  },
  {
   "cell_type": "code",
   "execution_count": 279,
   "metadata": {},
   "outputs": [
    {
     "name": "stdout",
     "output_type": "stream",
     "text": [
      "   Math  Physics\n",
      "a     1        6\n",
      "b     2        7\n",
      "c     3        8\n"
     ]
    }
   ],
   "source": [
    "import pandas as pd\n",
    "\n",
    "w = pd.Series({'a':1 ,'b':2 ,'c':3 ,'d':4 ,'e':5})\n",
    "x = pd.Series({'a':6 ,'b':7 ,'c':8 ,'d':9 ,'e':10})\n",
    "y = pd.Series({'a':11 ,'b':12 ,'c':13 ,'d':14 ,'e':15})\n",
    "z = pd.Series({'a':16 ,'b':17 ,'c':18 ,'d':19 ,'e':20})\n",
    "\n",
    "grades = pd.DataFrame({'Math':w,'Physics':x,'French':y,'Chemistry':z})\n",
    "print(grades.iloc[:3, :2])\n",
    "\n"
   ]
  },
  {
   "cell_type": "code",
   "execution_count": 280,
   "metadata": {},
   "outputs": [
    {
     "name": "stdout",
     "output_type": "stream",
     "text": [
      "   Math  Physics  French  Chemistry\n",
      "b     2        7      12         17\n",
      "c     3        8      13         18\n"
     ]
    }
   ],
   "source": [
    "import pandas as pd\n",
    "\n",
    "w = pd.Series({'a':1 ,'b':2 ,'c':3 ,'d':4 ,'e':5})\n",
    "x = pd.Series({'a':6 ,'b':7 ,'c':8 ,'d':9 ,'e':10})\n",
    "y = pd.Series({'a':11 ,'b':12 ,'c':13 ,'d':14 ,'e':15})\n",
    "z = pd.Series({'a':16 ,'b':17 ,'c':18 ,'d':19 ,'e':20})\n",
    "\n",
    "grades = pd.DataFrame({'Math':w,'Physics':x,'French':y,'Chemistry':z})\n",
    "\n",
    "print(grades.loc['b':'c', 'Math':])\n"
   ]
  },
  {
   "cell_type": "markdown",
   "metadata": {},
   "source": [
    "> You can apply conditions with **loc** command\n"
   ]
  },
  {
   "cell_type": "code",
   "execution_count": 281,
   "metadata": {},
   "outputs": [
    {
     "name": "stdout",
     "output_type": "stream",
     "text": [
      "   Math  Physics  French  Chemistry\n",
      "d     4        9      14         19\n",
      "e     5       10      15         20\n"
     ]
    }
   ],
   "source": [
    "import pandas as pd\n",
    "\n",
    "w = pd.Series({'a':1 ,'b':2 ,'c':3 ,'d':4 ,'e':5})\n",
    "x = pd.Series({'a':6 ,'b':7 ,'c':8 ,'d':9 ,'e':10})\n",
    "y = pd.Series({'a':11 ,'b':12 ,'c':13 ,'d':14 ,'e':15})\n",
    "z = pd.Series({'a':16 ,'b':17 ,'c':18 ,'d':19 ,'e':20})\n",
    "\n",
    "grades = pd.DataFrame({'Math':w,'Physics':x,'French':y,'Chemistry':z})\n",
    "\n",
    "print(grades.loc[grades.Math >3])\n"
   ]
  },
  {
   "cell_type": "markdown",
   "metadata": {},
   "source": [
    "> Applying conditions to rows and selecting specific columns for display using the loc command."
   ]
  },
  {
   "cell_type": "code",
   "execution_count": 282,
   "metadata": {},
   "outputs": [
    {
     "name": "stdout",
     "output_type": "stream",
     "text": [
      "   French  Math\n",
      "d      14     4\n",
      "e      15     5\n"
     ]
    }
   ],
   "source": [
    "import pandas as pd\n",
    "w = pd.Series({'a':1 ,'b':2 ,'c':3 ,'d':4 ,'e':5})\n",
    "x = pd.Series({'a':6 ,'b':7 ,'c':8 ,'d':9 ,'e':10})\n",
    "y = pd.Series({'a':11 ,'b':12 ,'c':13 ,'d':14 ,'e':15})\n",
    "z = pd.Series({'a':16 ,'b':17 ,'c':18 ,'d':19 ,'e':20})\n",
    "\n",
    "grades = pd.DataFrame({'Math':w,'Physics':x,'French':y,'Chemistry':z})\n",
    "\n",
    "print(grades.loc[grades.Math >3,['French' ,'Math']])\n"
   ]
  },
  {
   "cell_type": "markdown",
   "metadata": {},
   "source": [
    "<a id=\"col_indx_df\"></a>\n",
    "#### 4.2.7 Access names of all columns and the index in the DF"
   ]
  },
  {
   "cell_type": "code",
   "execution_count": 283,
   "metadata": {},
   "outputs": [
    {
     "name": "stdout",
     "output_type": "stream",
     "text": [
      "Index(['Math', 'Physics', 'French', 'Chemistry'], dtype='object')\n",
      "Index(['a', 'b', 'c', 'd', 'e'], dtype='object')\n"
     ]
    }
   ],
   "source": [
    "import pandas as pd\n",
    "\n",
    "w = pd.Series({'a':1 ,'b':2 ,'c':3 ,'d':4 ,'e':5})\n",
    "x = pd.Series({'a':6 ,'b':7 ,'c':8 ,'d':9 ,'e':10})\n",
    "y = pd.Series({'a':11 ,'b':12 ,'c':13 ,'d':14 ,'e':15})\n",
    "z = pd.Series({'a':16 ,'b':17 ,'c':18 ,'d':19 ,'e':20})\n",
    "\n",
    "grades = pd.DataFrame({'Math':w,'Physics':x,'French':y,'Chemistry':z})\n",
    "\n",
    "print(grades.columns)   ## same as df.keys()\n",
    "print(grades.index)\n"
   ]
  },
  {
   "cell_type": "code",
   "execution_count": 284,
   "metadata": {},
   "outputs": [
    {
     "name": "stdout",
     "output_type": "stream",
     "text": [
      "a    1\n",
      "b    2\n",
      "c    3\n",
      "d    4\n",
      "e    5\n",
      "Name: Math, dtype: int64\n"
     ]
    }
   ],
   "source": [
    "import pandas as pd\n",
    "\n",
    "w = pd.Series({'a':1 ,'b':2 ,'c':3 ,'d':4 ,'e':5})\n",
    "x = pd.Series({'a':6 ,'b':7 ,'c':8 ,'d':9 ,'e':10})\n",
    "y = pd.Series({'a':11 ,'b':12 ,'c':13 ,'d':14 ,'e':15})\n",
    "z = pd.Series({'a':16 ,'b':17 ,'c':18 ,'d':19 ,'e':20})\n",
    "\n",
    "grades = pd.DataFrame({'Math':w,'Physics':x,'French':y,'Chemistry':z})\n",
    "\n",
    "print(grades['Math'])\n"
   ]
  },
  {
   "cell_type": "markdown",
   "metadata": {},
   "source": [
    "> Example: Changing the index to one of the columns in the DF"
   ]
  },
  {
   "cell_type": "code",
   "execution_count": 285,
   "metadata": {},
   "outputs": [
    {
     "name": "stdout",
     "output_type": "stream",
     "text": [
      "  employee        group\n",
      "0      Bob   Accounting\n",
      "1     Jake  Engineering\n",
      "2     Lisa  Engineering\n",
      "3      Sue           HR\n",
      "                group\n",
      "employee             \n",
      "Bob        Accounting\n",
      "Jake      Engineering\n",
      "Lisa      Engineering\n",
      "Sue                HR\n"
     ]
    }
   ],
   "source": [
    "import pandas as pd\n",
    "df1 = pd.DataFrame({'employee': ['Bob', 'Jake', 'Lisa', 'Sue'],\n",
    "                    'group': ['Accounting', 'Engineering', \n",
    "                              'Engineering', 'HR']})\n",
    "df2 = pd.DataFrame({'employee': ['Lisa', 'Bob', 'Jake', 'Sue'],\n",
    "                    'hire_date': [2004, 2008, 2012, 2014]})\n",
    "\n",
    "df3 = pd.DataFrame({'name': ['Bob', 'Jake', 'Lisa', 'Sue'],\n",
    "                    'salary': [70000, 80000, 120000, 90000]})\n",
    "\n",
    "print(df1)\n",
    "\n",
    "df2 = df1.set_index('employee')\n",
    "\n",
    "print(df2)\n",
    "\n"
   ]
  },
  {
   "cell_type": "markdown",
   "metadata": {},
   "source": [
    "<a id=\"sort_elements\"></a>\n",
    "#### 4.2.8 Sort the elements in the DF"
   ]
  },
  {
   "cell_type": "markdown",
   "metadata": {},
   "source": [
    "Sorting the DataFrame based on the values of a specific column in ascending or descending order (using the parameter **ascending=False** if needed)."
   ]
  },
  {
   "cell_type": "code",
   "execution_count": 286,
   "metadata": {},
   "outputs": [
    {
     "name": "stdout",
     "output_type": "stream",
     "text": [
      "   Math  Physics  French  Chemistry\n",
      "e     5       10      15         20\n",
      "d     4        9      14         19\n",
      "c     3        8      13         18\n",
      "b     2        7      12         17\n",
      "a     1        6      11         16\n",
      "   Math  Physics  French  Chemistry\n",
      "a     1        6      11         16\n",
      "b     2        7      12         17\n",
      "c     3        8      13         18\n",
      "d     4        9      14         19\n",
      "e     5       10      15         20\n"
     ]
    }
   ],
   "source": [
    "import pandas as pd\n",
    "\n",
    "w = pd.Series({'a':1 ,'b':2 ,'c':3 ,'d':4 ,'e':5})\n",
    "x = pd.Series({'a':6 ,'b':7 ,'c':8 ,'d':9 ,'e':10})\n",
    "y = pd.Series({'a':11 ,'b':12 ,'c':13 ,'d':14 ,'e':15})\n",
    "z = pd.Series({'a':16 ,'b':17 ,'c':18 ,'d':19 ,'e':20})\n",
    "\n",
    "grades = pd.DataFrame({'Math':w,'Physics':x,'French':y,'Chemistry':z})\n",
    "\n",
    "print(grades.sort_values(['Math'],ascending= False))\n",
    "print(grades.sort_values(['French'],ascending= True))\n"
   ]
  },
  {
   "cell_type": "markdown",
   "metadata": {},
   "source": [
    "<a id=\"df_statistics\"></a>\n",
    "#### 4.2.9 Statistics for the entire DF or per column"
   ]
  },
  {
   "cell_type": "code",
   "execution_count": 287,
   "metadata": {},
   "outputs": [
    {
     "name": "stdout",
     "output_type": "stream",
     "text": [
      "The max. for DF all columns\n",
      " Math          5\n",
      "Physics      10\n",
      "French       15\n",
      "Chemistry    20\n",
      "dtype: int64\n",
      "The min. for DF all columns\n",
      "  Math          1\n",
      "Physics       6\n",
      "French       11\n",
      "Chemistry    16\n",
      "dtype: int64\n",
      "The mean for DF all columns\n",
      "  Math          3.0\n",
      "Physics       8.0\n",
      "French       13.0\n",
      "Chemistry    18.0\n",
      "dtype: float64\n",
      "The std. for DF all columns\n",
      "  Math         1.581139\n",
      "Physics      1.581139\n",
      "French       1.581139\n",
      "Chemistry    1.581139\n",
      "dtype: float64\n"
     ]
    }
   ],
   "source": [
    "import pandas as pd\n",
    "\n",
    "w = pd.Series({'a':1 ,'b':2 ,'c':3 ,'d':4 ,'e':5})\n",
    "x = pd.Series({'a':6 ,'b':7 ,'c':8 ,'d':9 ,'e':10})\n",
    "y = pd.Series({'a':11 ,'b':12 ,'c':13 ,'d':14 ,'e':15})\n",
    "z = pd.Series({'a':16 ,'b':17 ,'c':18 ,'d':19 ,'e':20})\n",
    "\n",
    "grades = pd.DataFrame({'Math':w,'Physics':x,'French':y,'Chemistry':z})\n",
    "\n",
    "print(\"The max. for DF all columns\\n\", grades.max())\n",
    "print(\"The min. for DF all columns\\n \",grades.min())\n",
    "print(\"The mean for DF all columns\\n \",grades.mean())\n",
    "print(\"The std. for DF all columns\\n \",grades.std())\n"
   ]
  },
  {
   "cell_type": "code",
   "execution_count": 288,
   "metadata": {},
   "outputs": [
    {
     "name": "stdout",
     "output_type": "stream",
     "text": [
      "5\n",
      "11\n",
      "8.0\n",
      "1.5811388300841898\n"
     ]
    }
   ],
   "source": [
    "import pandas as pd\n",
    "\n",
    "w = pd.Series({'a':1 ,'b':2 ,'c':3 ,'d':4 ,'e':5})\n",
    "x = pd.Series({'a':6 ,'b':7 ,'c':8 ,'d':9 ,'e':10})\n",
    "y = pd.Series({'a':11 ,'b':12 ,'c':13 ,'d':14 ,'e':15})\n",
    "z = pd.Series({'a':16 ,'b':17 ,'c':18 ,'d':19 ,'e':20})\n",
    "\n",
    "grades = pd.DataFrame({'Math':w,'Physics':x,'French':y,'Chemistry':z})\n",
    "\n",
    "print(grades['Math'].max())\n",
    "print(grades['French'].min())\n",
    "print(grades['Physics'].mean())\n",
    "print(grades['Chemistry'].std())\n"
   ]
  },
  {
   "cell_type": "markdown",
   "metadata": {},
   "source": [
    "<a id=\"elements_correlation\"></a>\n",
    "#### 4.2.10 The correlation between elements in the DF"
   ]
  },
  {
   "cell_type": "markdown",
   "metadata": {},
   "source": [
    "When the numbers are closely aligned, the correlation tends to approach 1, and conversely, when they are distant, the correlation tends to be closer to -1."
   ]
  },
  {
   "cell_type": "code",
   "execution_count": 289,
   "metadata": {},
   "outputs": [
    {
     "name": "stdout",
     "output_type": "stream",
     "text": [
      "          A         B         C\n",
      "0  0.124522  0.802319  0.508907\n",
      "1  0.082320  0.473766  0.173403\n",
      "2  0.050012  0.651602  0.569051\n",
      "3  0.926583  0.744118  0.619364\n",
      "4  0.572466  0.403565  0.449702\n",
      "          A         B         C\n",
      "A  1.000000  0.045352  0.455363\n",
      "B  0.045352  1.000000  0.637697\n",
      "C  0.455363  0.637697  1.000000\n"
     ]
    }
   ],
   "source": [
    "import pandas as pd\n",
    "import numpy as np\n",
    "\n",
    "df = pd.DataFrame(np.random.rand(5, 3), columns=['A', 'B', 'C'])\n",
    "\n",
    "print(df)\n",
    "print(df.corr())\n"
   ]
  },
  {
   "cell_type": "markdown",
   "metadata": {},
   "source": [
    "<a id=\"skewness\"></a>\n",
    "#### 4.2.11 The skewness among the elements of each column in the DF\n"
   ]
  },
  {
   "cell_type": "markdown",
   "metadata": {},
   "source": [
    "The `df.skew()` function yields a Series, providing one value for each column in the DataFrame. These Series values represent the skewness of each corresponding column. \n",
    "> Skewness == انحراف "
   ]
  },
  {
   "cell_type": "code",
   "execution_count": 290,
   "metadata": {},
   "outputs": [
    {
     "name": "stdout",
     "output_type": "stream",
     "text": [
      "          A         B         C\n",
      "0  0.235355  0.389166  0.181239\n",
      "1  0.726775  0.072747  0.996716\n",
      "2  0.351588  0.133315  0.599001\n",
      "3  0.510098  0.833063  0.328395\n",
      "4  0.219143  0.561235  0.131055\n",
      "A    0.914599\n",
      "B    0.460093\n",
      "C    1.073441\n",
      "dtype: float64\n"
     ]
    }
   ],
   "source": [
    "import pandas as pd\n",
    "import numpy as np\n",
    "\n",
    "df = pd.DataFrame(np.random.rand(5, 3), columns=['A', 'B', 'C'])\n",
    "\n",
    "print(df)\n",
    "print(df.skew())\n"
   ]
  },
  {
   "cell_type": "markdown",
   "metadata": {},
   "source": [
    "<a id=\"arithmetic_op\"></a>\n",
    "#### 4.2.12 Arithmetic operations between Columns \n"
   ]
  },
  {
   "cell_type": "markdown",
   "metadata": {},
   "source": [
    "> We have two options: \n",
    "- Applying the arithmetic operation directly \n",
    "- Utilizing the DataFrame method (`eval`). \n",
    "> However, please note that when using the pandas method, you need to specify the operation as text."
   ]
  },
  {
   "cell_type": "code",
   "execution_count": 291,
   "metadata": {},
   "outputs": [
    {
     "name": "stdout",
     "output_type": "stream",
     "text": [
      "   Math  Physics  French  Chemistry  Total\n",
      "a     1        6      11         16   0.34\n",
      "b     2        7      12         17   0.38\n",
      "c     3        8      13         18   0.42\n",
      "d     4        9      14         19   0.46\n",
      "e     5       10      15         20   0.50\n"
     ]
    }
   ],
   "source": [
    "import pandas as pd\n",
    "\n",
    "w = pd.Series({'a':1 ,'b':2 ,'c':3 ,'d':4 ,'e':5})\n",
    "x = pd.Series({'a':6 ,'b':7 ,'c':8 ,'d':9 ,'e':10})\n",
    "y = pd.Series({'a':11 ,'b':12 ,'c':13 ,'d':14 ,'e':15})\n",
    "z = pd.Series({'a':16 ,'b':17 ,'c':18 ,'d':19 ,'e':20})\n",
    "\n",
    "grades = pd.DataFrame({'Math':w,'Physics':x,'French':y,'Chemistry':z})\n",
    "\n",
    "grades['Total'] = (grades['Math'] + grades['French'] + \n",
    "      grades['Chemistry']+ grades['Physics']) /100\n",
    "\n",
    "\n",
    "print(grades)\n"
   ]
  },
  {
   "cell_type": "markdown",
   "metadata": {},
   "source": [
    "> Performing calculations through direct arithmetic operations"
   ]
  },
  {
   "cell_type": "code",
   "execution_count": 292,
   "metadata": {},
   "outputs": [
    {
     "name": "stdout",
     "output_type": "stream",
     "text": [
      "          A         B         C\n",
      "0  0.997893  0.933147  0.630340\n",
      "1  0.013309  0.722930  0.126046\n",
      "2  0.372473  0.378301  0.846271\n",
      "3  0.700943  0.540816  0.077703\n",
      "4  0.864855  0.524521  0.439235\n",
      "0   -5.223823\n",
      "1   -0.842422\n",
      "2   -4.883745\n",
      "3   -1.346377\n",
      "4   -2.477642\n",
      "dtype: float64\n"
     ]
    }
   ],
   "source": [
    "import pandas as pd\n",
    "import numpy as np\n",
    "\n",
    "df = pd.DataFrame(np.random.rand(5, 3), columns=['A', 'B', 'C'])\n",
    "\n",
    "result = (df['A'] + df['B']) / (df['C'] - 1)\n",
    "\n",
    "print(df)\n",
    "print(result)\n"
   ]
  },
  {
   "cell_type": "markdown",
   "metadata": {},
   "source": [
    "> Performing calculations using the evaluation method of Pandas"
   ]
  },
  {
   "cell_type": "code",
   "execution_count": 293,
   "metadata": {},
   "outputs": [
    {
     "name": "stdout",
     "output_type": "stream",
     "text": [
      "          A         B         C\n",
      "0  0.192101  0.036617  0.135488\n",
      "1  0.810343  0.320694  0.475438\n",
      "2  0.023259  0.276737  0.777996\n",
      "3  0.399341  0.928936  0.560557\n",
      "4  0.988831  0.058670  0.399062\n",
      "0   -0.264563\n",
      "1   -2.156157\n",
      "2   -1.351307\n",
      "3   -3.022635\n",
      "4   -1.743111\n",
      "dtype: float64\n"
     ]
    }
   ],
   "source": [
    "import pandas as pd\n",
    "import numpy as np\n",
    "\n",
    "df = pd.DataFrame(np.random.rand(5, 3), columns=['A', 'B', 'C'])\n",
    "\n",
    "result = pd.eval(\"(df.A + df.B) / (df.C - 1)\")\n",
    "\n",
    "print(df)\n",
    "print(result)\n"
   ]
  },
  {
   "cell_type": "markdown",
   "metadata": {},
   "source": [
    "<a id=\"select_row_condition\"></a>\n",
    "#### 4.2.13 Selecting a Specific Row by Conditions"
   ]
  },
  {
   "cell_type": "markdown",
   "metadata": {},
   "source": [
    "> Similarly, for selection, you can either do it manually or use the Pandas method (**query**). \n",
    "- However, when utilizing the Pandas method, remember to express the operation as text."
   ]
  },
  {
   "cell_type": "code",
   "execution_count": 294,
   "metadata": {},
   "outputs": [
    {
     "name": "stdout",
     "output_type": "stream",
     "text": [
      "          A         B         C\n",
      "0  0.869640  0.652818  0.211815\n",
      "1  0.549392  0.466400  0.347395\n",
      "2  0.319789  0.239428  0.212668\n",
      "3  0.052973  0.569942  0.686194\n",
      "4  0.730785  0.442917  0.276722\n",
      "          A         B         C\n",
      "2  0.319789  0.239428  0.212668\n"
     ]
    }
   ],
   "source": [
    "import pandas as pd\n",
    "import numpy as np\n",
    "\n",
    "df = pd.DataFrame(np.random.rand(5, 3), columns=['A', 'B', 'C'])\n",
    "\n",
    "result = df.query('A < 0.5 and B < 0.5')\n",
    "\n",
    "print(df)\n",
    "print(result)\n"
   ]
  },
  {
   "cell_type": "code",
   "execution_count": 295,
   "metadata": {},
   "outputs": [
    {
     "name": "stdout",
     "output_type": "stream",
     "text": [
      "          A         B         C\n",
      "0  0.891539  0.142778  0.229673\n",
      "1  0.578983  0.223848  0.746335\n",
      "2  0.114691  0.885383  0.815843\n",
      "3  0.628647  0.439630  0.800615\n",
      "4  0.022767  0.307606  0.918541\n",
      "          A         B         C\n",
      "4  0.022767  0.307606  0.918541\n",
      "          A         B         C\n",
      "4  0.022767  0.307606  0.918541\n",
      "          A         B         C\n",
      "0  0.891539  0.142778  0.229673\n",
      "1  0.578983  0.223848  0.746335\n",
      "2  0.114691  0.885383  0.815843\n",
      "3  0.628647  0.439630  0.800615\n",
      "4  0.022767  0.307606  0.918541\n"
     ]
    }
   ],
   "source": [
    "import pandas as pd\n",
    "import numpy as np\n",
    "\n",
    "df = pd.DataFrame(np.random.rand(5, 3), columns=['A', 'B', 'C'])\n",
    "\n",
    "tmp1 = df.A < 0.5\n",
    "tmp2 = df.B < 0.5\n",
    "tmp3 = tmp1 & tmp2\n",
    "result1 = df[tmp3]\n",
    "result2 = df[(df.A < 0.5) & (df.B < 0.5)]\n",
    "result3 = df[(df.A < 0.5) | (df.B < 0.5)]\n",
    "\n",
    "print(df)\n",
    "print(result1)\n",
    "print(result2)\n",
    "print(result3)\n"
   ]
  },
  {
   "cell_type": "markdown",
   "metadata": {},
   "source": [
    "Note here : this sign \"**|**\" means **\"or\"**  "
   ]
  },
  {
   "cell_type": "code",
   "execution_count": 296,
   "metadata": {},
   "outputs": [
    {
     "name": "stdout",
     "output_type": "stream",
     "text": [
      "          A         B         C\n",
      "0  0.551104  0.540216  0.482121\n",
      "1  0.607297  0.441072  0.829768\n",
      "2  0.360749  0.134419  0.994606\n",
      "3  0.928518  0.858054  0.772040\n",
      "4  0.328330  0.648579  0.807195\n",
      "          A         B         C\n",
      "1  0.607297  0.441072  0.829768\n",
      "2  0.360749  0.134419  0.994606\n",
      "4  0.328330  0.648579  0.807195\n"
     ]
    }
   ],
   "source": [
    "import pandas as pd\n",
    "import numpy as np\n",
    "\n",
    "df = pd.DataFrame(np.random.rand(5, 3), columns=['A', 'B', 'C'])\n",
    "\n",
    "result = df[(df.A < 0.5) | (df.B < 0.5)]\n",
    "\n",
    "print(df)\n",
    "print(result)\n"
   ]
  },
  {
   "cell_type": "markdown",
   "metadata": {},
   "source": [
    "<a id=\"concat_merge_tables\"></a>\n",
    "### 4.3 Table Concatenation and Merging"
   ]
  },
  {
   "cell_type": "markdown",
   "metadata": {},
   "source": [
    "<a id=\"simple_concat\"></a>\n",
    "#### 4.3.1 Simple Concatenation"
   ]
  },
  {
   "cell_type": "markdown",
   "metadata": {},
   "source": [
    "The `concat()` function does all of the heavy lifting of performing concatenation operations along an axis while performing optional set logic (union or intersection) of the indexes (if any) on the other axes."
   ]
  },
  {
   "cell_type": "markdown",
   "metadata": {},
   "source": [
    "> Concatenation simple example"
   ]
  },
  {
   "cell_type": "markdown",
   "metadata": {},
   "source": [
    " <div style=\"text-align:center\">\n",
    "    <img src=\"images/merging_concat_basic.png\" alt=\"conc_basicr\" />\n",
    "    <p style=\"font-style: normal; margin-top:10px;\">How Concatenation working</p>\n",
    "</div>"
   ]
  },
  {
   "cell_type": "code",
   "execution_count": 297,
   "metadata": {},
   "outputs": [
    {
     "data": {
      "text/html": [
       "<div>\n",
       "<style scoped>\n",
       "    .dataframe tbody tr th:only-of-type {\n",
       "        vertical-align: middle;\n",
       "    }\n",
       "\n",
       "    .dataframe tbody tr th {\n",
       "        vertical-align: top;\n",
       "    }\n",
       "\n",
       "    .dataframe thead th {\n",
       "        text-align: right;\n",
       "    }\n",
       "</style>\n",
       "<table border=\"1\" class=\"dataframe\">\n",
       "  <thead>\n",
       "    <tr style=\"text-align: right;\">\n",
       "      <th></th>\n",
       "      <th>A</th>\n",
       "      <th>B</th>\n",
       "      <th>C</th>\n",
       "      <th>D</th>\n",
       "    </tr>\n",
       "  </thead>\n",
       "  <tbody>\n",
       "    <tr>\n",
       "      <th>0</th>\n",
       "      <td>A0</td>\n",
       "      <td>B0</td>\n",
       "      <td>C0</td>\n",
       "      <td>D0</td>\n",
       "    </tr>\n",
       "    <tr>\n",
       "      <th>1</th>\n",
       "      <td>A1</td>\n",
       "      <td>B1</td>\n",
       "      <td>C1</td>\n",
       "      <td>D1</td>\n",
       "    </tr>\n",
       "    <tr>\n",
       "      <th>2</th>\n",
       "      <td>A2</td>\n",
       "      <td>B2</td>\n",
       "      <td>C2</td>\n",
       "      <td>D2</td>\n",
       "    </tr>\n",
       "    <tr>\n",
       "      <th>3</th>\n",
       "      <td>A3</td>\n",
       "      <td>B3</td>\n",
       "      <td>C3</td>\n",
       "      <td>D3</td>\n",
       "    </tr>\n",
       "    <tr>\n",
       "      <th>4</th>\n",
       "      <td>A4</td>\n",
       "      <td>B4</td>\n",
       "      <td>C4</td>\n",
       "      <td>D4</td>\n",
       "    </tr>\n",
       "    <tr>\n",
       "      <th>5</th>\n",
       "      <td>A5</td>\n",
       "      <td>B5</td>\n",
       "      <td>C5</td>\n",
       "      <td>D5</td>\n",
       "    </tr>\n",
       "    <tr>\n",
       "      <th>6</th>\n",
       "      <td>A6</td>\n",
       "      <td>B6</td>\n",
       "      <td>C6</td>\n",
       "      <td>D6</td>\n",
       "    </tr>\n",
       "    <tr>\n",
       "      <th>7</th>\n",
       "      <td>A7</td>\n",
       "      <td>B7</td>\n",
       "      <td>C7</td>\n",
       "      <td>D7</td>\n",
       "    </tr>\n",
       "    <tr>\n",
       "      <th>8</th>\n",
       "      <td>A8</td>\n",
       "      <td>B8</td>\n",
       "      <td>C8</td>\n",
       "      <td>D8</td>\n",
       "    </tr>\n",
       "    <tr>\n",
       "      <th>9</th>\n",
       "      <td>A9</td>\n",
       "      <td>B9</td>\n",
       "      <td>C9</td>\n",
       "      <td>D9</td>\n",
       "    </tr>\n",
       "    <tr>\n",
       "      <th>10</th>\n",
       "      <td>A10</td>\n",
       "      <td>B10</td>\n",
       "      <td>C10</td>\n",
       "      <td>D10</td>\n",
       "    </tr>\n",
       "    <tr>\n",
       "      <th>11</th>\n",
       "      <td>A11</td>\n",
       "      <td>B11</td>\n",
       "      <td>C11</td>\n",
       "      <td>D11</td>\n",
       "    </tr>\n",
       "  </tbody>\n",
       "</table>\n",
       "</div>"
      ],
      "text/plain": [
       "      A    B    C    D\n",
       "0    A0   B0   C0   D0\n",
       "1    A1   B1   C1   D1\n",
       "2    A2   B2   C2   D2\n",
       "3    A3   B3   C3   D3\n",
       "4    A4   B4   C4   D4\n",
       "5    A5   B5   C5   D5\n",
       "6    A6   B6   C6   D6\n",
       "7    A7   B7   C7   D7\n",
       "8    A8   B8   C8   D8\n",
       "9    A9   B9   C9   D9\n",
       "10  A10  B10  C10  D10\n",
       "11  A11  B11  C11  D11"
      ]
     },
     "execution_count": 297,
     "metadata": {},
     "output_type": "execute_result"
    }
   ],
   "source": [
    "df1 = pd.DataFrame(\n",
    "    {\n",
    "        \"A\": [\"A0\", \"A1\", \"A2\", \"A3\"],\n",
    "        \"B\": [\"B0\", \"B1\", \"B2\", \"B3\"],\n",
    "        \"C\": [\"C0\", \"C1\", \"C2\", \"C3\"],\n",
    "        \"D\": [\"D0\", \"D1\", \"D2\", \"D3\"],\n",
    "    },\n",
    "    index=[0, 1, 2, 3],\n",
    ")\n",
    "\n",
    "df2 = pd.DataFrame(\n",
    "    {\n",
    "        \"A\": [\"A4\", \"A5\", \"A6\", \"A7\"],\n",
    "        \"B\": [\"B4\", \"B5\", \"B6\", \"B7\"],\n",
    "        \"C\": [\"C4\", \"C5\", \"C6\", \"C7\"],\n",
    "        \"D\": [\"D4\", \"D5\", \"D6\", \"D7\"],\n",
    "    },\n",
    "    index=[4, 5, 6, 7],\n",
    ")\n",
    "\n",
    "df3 = pd.DataFrame(\n",
    "    {\n",
    "        \"A\": [\"A8\", \"A9\", \"A10\", \"A11\"],\n",
    "        \"B\": [\"B8\", \"B9\", \"B10\", \"B11\"],\n",
    "        \"C\": [\"C8\", \"C9\", \"C10\", \"C11\"],\n",
    "        \"D\": [\"D8\", \"D9\", \"D10\", \"D11\"],\n",
    "    },\n",
    "    index=[8, 9, 10, 11],\n",
    ")\n",
    "\n",
    "frames = [df1, df2, df3]\n",
    "result = pd.concat(frames)\n",
    "result"
   ]
  },
  {
   "cell_type": "markdown",
   "metadata": {},
   "source": [
    "> To add key for each DF in the resultant DF "
   ]
  },
  {
   "cell_type": "code",
   "execution_count": 298,
   "metadata": {},
   "outputs": [
    {
     "data": {
      "text/html": [
       "<div>\n",
       "<style scoped>\n",
       "    .dataframe tbody tr th:only-of-type {\n",
       "        vertical-align: middle;\n",
       "    }\n",
       "\n",
       "    .dataframe tbody tr th {\n",
       "        vertical-align: top;\n",
       "    }\n",
       "\n",
       "    .dataframe thead th {\n",
       "        text-align: right;\n",
       "    }\n",
       "</style>\n",
       "<table border=\"1\" class=\"dataframe\">\n",
       "  <thead>\n",
       "    <tr style=\"text-align: right;\">\n",
       "      <th></th>\n",
       "      <th></th>\n",
       "      <th>A</th>\n",
       "      <th>B</th>\n",
       "      <th>C</th>\n",
       "      <th>D</th>\n",
       "    </tr>\n",
       "  </thead>\n",
       "  <tbody>\n",
       "    <tr>\n",
       "      <th rowspan=\"4\" valign=\"top\">x</th>\n",
       "      <th>0</th>\n",
       "      <td>A0</td>\n",
       "      <td>B0</td>\n",
       "      <td>C0</td>\n",
       "      <td>D0</td>\n",
       "    </tr>\n",
       "    <tr>\n",
       "      <th>1</th>\n",
       "      <td>A1</td>\n",
       "      <td>B1</td>\n",
       "      <td>C1</td>\n",
       "      <td>D1</td>\n",
       "    </tr>\n",
       "    <tr>\n",
       "      <th>2</th>\n",
       "      <td>A2</td>\n",
       "      <td>B2</td>\n",
       "      <td>C2</td>\n",
       "      <td>D2</td>\n",
       "    </tr>\n",
       "    <tr>\n",
       "      <th>3</th>\n",
       "      <td>A3</td>\n",
       "      <td>B3</td>\n",
       "      <td>C3</td>\n",
       "      <td>D3</td>\n",
       "    </tr>\n",
       "    <tr>\n",
       "      <th rowspan=\"4\" valign=\"top\">y</th>\n",
       "      <th>4</th>\n",
       "      <td>A4</td>\n",
       "      <td>B4</td>\n",
       "      <td>C4</td>\n",
       "      <td>D4</td>\n",
       "    </tr>\n",
       "    <tr>\n",
       "      <th>5</th>\n",
       "      <td>A5</td>\n",
       "      <td>B5</td>\n",
       "      <td>C5</td>\n",
       "      <td>D5</td>\n",
       "    </tr>\n",
       "    <tr>\n",
       "      <th>6</th>\n",
       "      <td>A6</td>\n",
       "      <td>B6</td>\n",
       "      <td>C6</td>\n",
       "      <td>D6</td>\n",
       "    </tr>\n",
       "    <tr>\n",
       "      <th>7</th>\n",
       "      <td>A7</td>\n",
       "      <td>B7</td>\n",
       "      <td>C7</td>\n",
       "      <td>D7</td>\n",
       "    </tr>\n",
       "    <tr>\n",
       "      <th rowspan=\"4\" valign=\"top\">z</th>\n",
       "      <th>8</th>\n",
       "      <td>A8</td>\n",
       "      <td>B8</td>\n",
       "      <td>C8</td>\n",
       "      <td>D8</td>\n",
       "    </tr>\n",
       "    <tr>\n",
       "      <th>9</th>\n",
       "      <td>A9</td>\n",
       "      <td>B9</td>\n",
       "      <td>C9</td>\n",
       "      <td>D9</td>\n",
       "    </tr>\n",
       "    <tr>\n",
       "      <th>10</th>\n",
       "      <td>A10</td>\n",
       "      <td>B10</td>\n",
       "      <td>C10</td>\n",
       "      <td>D10</td>\n",
       "    </tr>\n",
       "    <tr>\n",
       "      <th>11</th>\n",
       "      <td>A11</td>\n",
       "      <td>B11</td>\n",
       "      <td>C11</td>\n",
       "      <td>D11</td>\n",
       "    </tr>\n",
       "  </tbody>\n",
       "</table>\n",
       "</div>"
      ],
      "text/plain": [
       "        A    B    C    D\n",
       "x 0    A0   B0   C0   D0\n",
       "  1    A1   B1   C1   D1\n",
       "  2    A2   B2   C2   D2\n",
       "  3    A3   B3   C3   D3\n",
       "y 4    A4   B4   C4   D4\n",
       "  5    A5   B5   C5   D5\n",
       "  6    A6   B6   C6   D6\n",
       "  7    A7   B7   C7   D7\n",
       "z 8    A8   B8   C8   D8\n",
       "  9    A9   B9   C9   D9\n",
       "  10  A10  B10  C10  D10\n",
       "  11  A11  B11  C11  D11"
      ]
     },
     "execution_count": 298,
     "metadata": {},
     "output_type": "execute_result"
    }
   ],
   "source": [
    "result = pd.concat(frames, keys=[\"x\", \"y\", \"z\"])\n",
    "result"
   ]
  },
  {
   "cell_type": "markdown",
   "metadata": {},
   "source": [
    "<a id=\"logic_on_axes_concat\"></a>\n",
    "#### 4.3.2 Set logic on the other axes (join outer and inner) "
   ]
  },
  {
   "cell_type": "markdown",
   "metadata": {},
   "source": [
    "> When gluing together multiple DataFrames, you have a choice of how to handle the other axes (other than the one being concatenated). This can be done in the following two ways:\n",
    "\n",
    "- Take the union of them all, join='outer'. This is the default option as it results in zero information loss.\n",
    "- Take the intersection, join='inner'."
   ]
  },
  {
   "cell_type": "markdown",
   "metadata": {},
   "source": [
    "> Example for the default case, the outer "
   ]
  },
  {
   "cell_type": "markdown",
   "metadata": {},
   "source": [
    " <div style=\"text-align:center\">\n",
    "    <img src=\"images/merging_concat_axis1_outer.png\" alt=\"join_outer\" />\n",
    "    <p style=\"font-style: normal; margin-top:10px;\">How joining outer working</p>\n",
    "</div>"
   ]
  },
  {
   "cell_type": "code",
   "execution_count": 299,
   "metadata": {},
   "outputs": [
    {
     "data": {
      "text/html": [
       "<div>\n",
       "<style scoped>\n",
       "    .dataframe tbody tr th:only-of-type {\n",
       "        vertical-align: middle;\n",
       "    }\n",
       "\n",
       "    .dataframe tbody tr th {\n",
       "        vertical-align: top;\n",
       "    }\n",
       "\n",
       "    .dataframe thead th {\n",
       "        text-align: right;\n",
       "    }\n",
       "</style>\n",
       "<table border=\"1\" class=\"dataframe\">\n",
       "  <thead>\n",
       "    <tr style=\"text-align: right;\">\n",
       "      <th></th>\n",
       "      <th>A</th>\n",
       "      <th>B</th>\n",
       "      <th>C</th>\n",
       "      <th>D</th>\n",
       "      <th>B</th>\n",
       "      <th>D</th>\n",
       "      <th>F</th>\n",
       "    </tr>\n",
       "  </thead>\n",
       "  <tbody>\n",
       "    <tr>\n",
       "      <th>0</th>\n",
       "      <td>A0</td>\n",
       "      <td>B0</td>\n",
       "      <td>C0</td>\n",
       "      <td>D0</td>\n",
       "      <td>NaN</td>\n",
       "      <td>NaN</td>\n",
       "      <td>NaN</td>\n",
       "    </tr>\n",
       "    <tr>\n",
       "      <th>1</th>\n",
       "      <td>A1</td>\n",
       "      <td>B1</td>\n",
       "      <td>C1</td>\n",
       "      <td>D1</td>\n",
       "      <td>NaN</td>\n",
       "      <td>NaN</td>\n",
       "      <td>NaN</td>\n",
       "    </tr>\n",
       "    <tr>\n",
       "      <th>2</th>\n",
       "      <td>A2</td>\n",
       "      <td>B2</td>\n",
       "      <td>C2</td>\n",
       "      <td>D2</td>\n",
       "      <td>B2</td>\n",
       "      <td>D2</td>\n",
       "      <td>F2</td>\n",
       "    </tr>\n",
       "    <tr>\n",
       "      <th>3</th>\n",
       "      <td>A3</td>\n",
       "      <td>B3</td>\n",
       "      <td>C3</td>\n",
       "      <td>D3</td>\n",
       "      <td>B3</td>\n",
       "      <td>D3</td>\n",
       "      <td>F3</td>\n",
       "    </tr>\n",
       "    <tr>\n",
       "      <th>6</th>\n",
       "      <td>NaN</td>\n",
       "      <td>NaN</td>\n",
       "      <td>NaN</td>\n",
       "      <td>NaN</td>\n",
       "      <td>B6</td>\n",
       "      <td>D6</td>\n",
       "      <td>F6</td>\n",
       "    </tr>\n",
       "    <tr>\n",
       "      <th>7</th>\n",
       "      <td>NaN</td>\n",
       "      <td>NaN</td>\n",
       "      <td>NaN</td>\n",
       "      <td>NaN</td>\n",
       "      <td>B7</td>\n",
       "      <td>D7</td>\n",
       "      <td>F7</td>\n",
       "    </tr>\n",
       "  </tbody>\n",
       "</table>\n",
       "</div>"
      ],
      "text/plain": [
       "     A    B    C    D    B    D    F\n",
       "0   A0   B0   C0   D0  NaN  NaN  NaN\n",
       "1   A1   B1   C1   D1  NaN  NaN  NaN\n",
       "2   A2   B2   C2   D2   B2   D2   F2\n",
       "3   A3   B3   C3   D3   B3   D3   F3\n",
       "6  NaN  NaN  NaN  NaN   B6   D6   F6\n",
       "7  NaN  NaN  NaN  NaN   B7   D7   F7"
      ]
     },
     "execution_count": 299,
     "metadata": {},
     "output_type": "execute_result"
    }
   ],
   "source": [
    "df4 = pd.DataFrame(\n",
    "    {\n",
    "        \"B\": [\"B2\", \"B3\", \"B6\", \"B7\"],\n",
    "        \"D\": [\"D2\", \"D3\", \"D6\", \"D7\"],\n",
    "        \"F\": [\"F2\", \"F3\", \"F6\", \"F7\"],\n",
    "    },\n",
    "    index=[2, 3, 6, 7],\n",
    ")\n",
    "\n",
    "result = pd.concat([df1, df4], axis=1)\n",
    "result"
   ]
  },
  {
   "cell_type": "markdown",
   "metadata": {},
   "source": [
    "> Example for the inner case"
   ]
  },
  {
   "cell_type": "markdown",
   "metadata": {},
   "source": [
    " <div style=\"text-align:center\">\n",
    "    <img src=\"images/merging_concat_axis1_inner.png\" alt=\"join_inner\" />\n",
    "    <p style=\"font-style: normal; margin-top:10px;\">How joining inner working</p>\n",
    "</div>"
   ]
  },
  {
   "cell_type": "code",
   "execution_count": 300,
   "metadata": {},
   "outputs": [
    {
     "data": {
      "text/html": [
       "<div>\n",
       "<style scoped>\n",
       "    .dataframe tbody tr th:only-of-type {\n",
       "        vertical-align: middle;\n",
       "    }\n",
       "\n",
       "    .dataframe tbody tr th {\n",
       "        vertical-align: top;\n",
       "    }\n",
       "\n",
       "    .dataframe thead th {\n",
       "        text-align: right;\n",
       "    }\n",
       "</style>\n",
       "<table border=\"1\" class=\"dataframe\">\n",
       "  <thead>\n",
       "    <tr style=\"text-align: right;\">\n",
       "      <th></th>\n",
       "      <th>A</th>\n",
       "      <th>B</th>\n",
       "      <th>C</th>\n",
       "      <th>D</th>\n",
       "      <th>B</th>\n",
       "      <th>D</th>\n",
       "      <th>F</th>\n",
       "    </tr>\n",
       "  </thead>\n",
       "  <tbody>\n",
       "    <tr>\n",
       "      <th>2</th>\n",
       "      <td>A2</td>\n",
       "      <td>B2</td>\n",
       "      <td>C2</td>\n",
       "      <td>D2</td>\n",
       "      <td>B2</td>\n",
       "      <td>D2</td>\n",
       "      <td>F2</td>\n",
       "    </tr>\n",
       "    <tr>\n",
       "      <th>3</th>\n",
       "      <td>A3</td>\n",
       "      <td>B3</td>\n",
       "      <td>C3</td>\n",
       "      <td>D3</td>\n",
       "      <td>B3</td>\n",
       "      <td>D3</td>\n",
       "      <td>F3</td>\n",
       "    </tr>\n",
       "  </tbody>\n",
       "</table>\n",
       "</div>"
      ],
      "text/plain": [
       "    A   B   C   D   B   D   F\n",
       "2  A2  B2  C2  D2  B2  D2  F2\n",
       "3  A3  B3  C3  D3  B3  D3  F3"
      ]
     },
     "execution_count": 300,
     "metadata": {},
     "output_type": "execute_result"
    }
   ],
   "source": [
    "result = pd.concat([df1, df4], axis=1, join=\"inner\")\n",
    "result"
   ]
  },
  {
   "cell_type": "markdown",
   "metadata": {},
   "source": [
    "<a id=\"ignore_index_concat\"></a>\n",
    "#### 4.3.3 Ignoring indexes on the concatenation axis\n",
    "For DataFrame objects which don’t have a meaningful index, you may wish to append them and ignore the fact that they may have overlapping indexes. \n",
    "> To do this, use the ignore_index argument:"
   ]
  },
  {
   "cell_type": "markdown",
   "metadata": {},
   "source": [
    " <div style=\"text-align:center\">\n",
    "    <img src=\"images/merging_concat_ignore_index.png\" alt=\"ignore_index\" />\n",
    "    <p style=\"font-style: normal; margin-top:10px;\">How to ignore index</p>\n",
    "</div>"
   ]
  },
  {
   "cell_type": "code",
   "execution_count": 301,
   "metadata": {},
   "outputs": [
    {
     "data": {
      "text/html": [
       "<div>\n",
       "<style scoped>\n",
       "    .dataframe tbody tr th:only-of-type {\n",
       "        vertical-align: middle;\n",
       "    }\n",
       "\n",
       "    .dataframe tbody tr th {\n",
       "        vertical-align: top;\n",
       "    }\n",
       "\n",
       "    .dataframe thead th {\n",
       "        text-align: right;\n",
       "    }\n",
       "</style>\n",
       "<table border=\"1\" class=\"dataframe\">\n",
       "  <thead>\n",
       "    <tr style=\"text-align: right;\">\n",
       "      <th></th>\n",
       "      <th>A</th>\n",
       "      <th>B</th>\n",
       "      <th>C</th>\n",
       "      <th>D</th>\n",
       "      <th>F</th>\n",
       "    </tr>\n",
       "  </thead>\n",
       "  <tbody>\n",
       "    <tr>\n",
       "      <th>0</th>\n",
       "      <td>A0</td>\n",
       "      <td>B0</td>\n",
       "      <td>C0</td>\n",
       "      <td>D0</td>\n",
       "      <td>NaN</td>\n",
       "    </tr>\n",
       "    <tr>\n",
       "      <th>1</th>\n",
       "      <td>A1</td>\n",
       "      <td>B1</td>\n",
       "      <td>C1</td>\n",
       "      <td>D1</td>\n",
       "      <td>NaN</td>\n",
       "    </tr>\n",
       "    <tr>\n",
       "      <th>2</th>\n",
       "      <td>A2</td>\n",
       "      <td>B2</td>\n",
       "      <td>C2</td>\n",
       "      <td>D2</td>\n",
       "      <td>NaN</td>\n",
       "    </tr>\n",
       "    <tr>\n",
       "      <th>3</th>\n",
       "      <td>A3</td>\n",
       "      <td>B3</td>\n",
       "      <td>C3</td>\n",
       "      <td>D3</td>\n",
       "      <td>NaN</td>\n",
       "    </tr>\n",
       "    <tr>\n",
       "      <th>4</th>\n",
       "      <td>NaN</td>\n",
       "      <td>B2</td>\n",
       "      <td>NaN</td>\n",
       "      <td>D2</td>\n",
       "      <td>F2</td>\n",
       "    </tr>\n",
       "    <tr>\n",
       "      <th>5</th>\n",
       "      <td>NaN</td>\n",
       "      <td>B3</td>\n",
       "      <td>NaN</td>\n",
       "      <td>D3</td>\n",
       "      <td>F3</td>\n",
       "    </tr>\n",
       "    <tr>\n",
       "      <th>6</th>\n",
       "      <td>NaN</td>\n",
       "      <td>B6</td>\n",
       "      <td>NaN</td>\n",
       "      <td>D6</td>\n",
       "      <td>F6</td>\n",
       "    </tr>\n",
       "    <tr>\n",
       "      <th>7</th>\n",
       "      <td>NaN</td>\n",
       "      <td>B7</td>\n",
       "      <td>NaN</td>\n",
       "      <td>D7</td>\n",
       "      <td>F7</td>\n",
       "    </tr>\n",
       "  </tbody>\n",
       "</table>\n",
       "</div>"
      ],
      "text/plain": [
       "     A   B    C   D    F\n",
       "0   A0  B0   C0  D0  NaN\n",
       "1   A1  B1   C1  D1  NaN\n",
       "2   A2  B2   C2  D2  NaN\n",
       "3   A3  B3   C3  D3  NaN\n",
       "4  NaN  B2  NaN  D2   F2\n",
       "5  NaN  B3  NaN  D3   F3\n",
       "6  NaN  B6  NaN  D6   F6\n",
       "7  NaN  B7  NaN  D7   F7"
      ]
     },
     "execution_count": 301,
     "metadata": {},
     "output_type": "execute_result"
    }
   ],
   "source": [
    "result = pd.concat([df1, df4], ignore_index=True, sort=False)\n",
    "result"
   ]
  },
  {
   "cell_type": "markdown",
   "metadata": {},
   "source": [
    "<a id=\"merge_dfs\"></a>\n",
    "#### 4.3.4 Merging DataFrames"
   ]
  },
  {
   "cell_type": "markdown",
   "metadata": {},
   "source": [
    " When merging two DataFrames, Pandas will search for any common column and use it as the basis for the merge. If no common column is found, Pandas will introduce NaN values in the resulting DataFrame."
   ]
  },
  {
   "cell_type": "code",
   "execution_count": 302,
   "metadata": {},
   "outputs": [
    {
     "name": "stdout",
     "output_type": "stream",
     "text": [
      "  employee        group\n",
      "0      Bob   Accounting\n",
      "1     Jake  Engineering\n",
      "2     Lisa  Engineering\n",
      "3      Sue           HR\n",
      "  employee  hire_date\n",
      "0     Lisa       2004\n",
      "1      Bob       2008\n",
      "2     Jake       2012\n",
      "3      Sue       2014\n",
      "--------------------------\n",
      "  employee        group  hire_date\n",
      "0      Bob   Accounting       2008\n",
      "1     Jake  Engineering       2012\n",
      "2     Lisa  Engineering       2004\n",
      "3      Sue           HR       2014\n"
     ]
    }
   ],
   "source": [
    "import pandas as pd\n",
    "\n",
    "df1 = pd.DataFrame({'employee': ['Bob', 'Jake', 'Lisa', 'Sue'],\n",
    "                    'group': ['Accounting', 'Engineering',\n",
    "                              'Engineering', 'HR']})\n",
    "\n",
    "df2 = pd.DataFrame({'employee': ['Lisa', 'Bob', 'Jake', 'Sue'],\n",
    "                    'hire_date': [2004, 2008, 2012, 2014]})\n",
    "print(df1)\n",
    "print(df2)\n",
    "df3 = pd.merge(df1, df2)\n",
    "print('--------------------------')\n",
    "print(df3)\n"
   ]
  },
  {
   "cell_type": "markdown",
   "metadata": {},
   "source": [
    "> Example: Adding more than two DataFrames"
   ]
  },
  {
   "cell_type": "code",
   "execution_count": 303,
   "metadata": {},
   "outputs": [
    {
     "name": "stdout",
     "output_type": "stream",
     "text": [
      "  employee        group  hire_date\n",
      "0      Bob   Accounting       2008\n",
      "1     Jake  Engineering       2012\n",
      "2     Lisa  Engineering       2004\n",
      "3      Sue           HR       2014\n",
      "--------------------------\n",
      "         group supervisor\n",
      "0   Accounting      Carly\n",
      "1  Engineering      Guido\n",
      "2           HR      Steve\n",
      "--------------------------\n",
      "  employee        group  hire_date supervisor\n",
      "0      Bob   Accounting       2008      Carly\n",
      "1     Jake  Engineering       2012      Guido\n",
      "2     Lisa  Engineering       2004      Guido\n",
      "3      Sue           HR       2014      Steve\n"
     ]
    }
   ],
   "source": [
    "import pandas as pd\n",
    "\n",
    "df1 = pd.DataFrame({'employee': ['Bob', 'Jake', 'Lisa', 'Sue'],\n",
    "                    'group': ['Accounting', 'Engineering',\n",
    "                              'Engineering', 'HR']})\n",
    "\n",
    "df2 = pd.DataFrame({'employee': ['Lisa', 'Bob', 'Jake', 'Sue'],\n",
    "                    'hire_date': [2004, 2008, 2012, 2014]})\n",
    "\n",
    "df3 = pd.merge(df1, df2)\n",
    "print(df3)\n",
    "print('--------------------------')\n",
    "\n",
    "df4 = pd.DataFrame({'group': ['Accounting', 'Engineering', 'HR'],\n",
    "                    'supervisor': ['Carly', 'Guido', 'Steve']})\n",
    "df5 = pd.merge(df3, df4)\n",
    "print(df4)\n",
    "print('--------------------------')\n",
    "print(df5)\n"
   ]
  },
  {
   "cell_type": "markdown",
   "metadata": {},
   "source": [
    "> Example: Merging two DataFrames and specifying which one is on the left and which one is on the right."
   ]
  },
  {
   "cell_type": "code",
   "execution_count": 304,
   "metadata": {},
   "outputs": [
    {
     "name": "stdout",
     "output_type": "stream",
     "text": [
      "  employee        group\n",
      "0      Bob   Accounting\n",
      "1     Jake  Engineering\n",
      "2     Lisa  Engineering\n",
      "3      Sue           HR\n",
      "   name  salary\n",
      "0   Bob   70000\n",
      "1  Jake   80000\n",
      "2  Lisa  120000\n",
      "3   Sue   90000\n",
      "  employee        group  name  salary\n",
      "0      Bob   Accounting   Bob   70000\n",
      "1     Jake  Engineering  Jake   80000\n",
      "2     Lisa  Engineering  Lisa  120000\n",
      "3      Sue           HR   Sue   90000\n"
     ]
    }
   ],
   "source": [
    "import pandas as pd\n",
    "df1 = pd.DataFrame({'employee': ['Bob', 'Jake', 'Lisa', 'Sue'],\n",
    "                    'group': ['Accounting', 'Engineering', \n",
    "                              'Engineering', 'HR']})\n",
    "df2 = pd.DataFrame({'employee': ['Lisa', 'Bob', 'Jake', 'Sue'],\n",
    "                    'hire_date': [2004, 2008, 2012, 2014]})\n",
    "\n",
    "df3 = pd.DataFrame({'name': ['Bob', 'Jake', 'Lisa', 'Sue'],\n",
    "                    'salary': [70000, 80000, 120000, 90000]})\n",
    "\n",
    "print(df1)\n",
    "print(df3)\n",
    "print(pd.merge(df1, df3, left_on=\"employee\", right_on=\"name\"))\n"
   ]
  },
  {
   "cell_type": "markdown",
   "metadata": {},
   "source": [
    "<a id=\"logic_on_axes_merge\"></a>\n",
    "#### 4.3.4 Set logic on the other axes during merging "
   ]
  },
  {
   "cell_type": "markdown",
   "metadata": {},
   "source": [
    "**Important Note:** \n",
    "- In pandas axis = 1 parameter specifies that the operation should be performed on the columns of the DataFrame \n",
    "- In pandas axis = 0 parameter specifies that the operation should be performed on the rows of the DataFrame"
   ]
  },
  {
   "cell_type": "code",
   "execution_count": 305,
   "metadata": {},
   "outputs": [
    {
     "name": "stdout",
     "output_type": "stream",
     "text": [
      "  employee        group\n",
      "0      Bob   Accounting\n",
      "1     Jake  Engineering\n",
      "2     Lisa  Engineering\n",
      "3      Sue           HR\n",
      "   name  salary\n",
      "0   Bob   70000\n",
      "1  Jake   80000\n",
      "2  Lisa  120000\n",
      "3   Sue   90000\n",
      "  employee        group  salary\n",
      "0      Bob   Accounting   70000\n",
      "1     Jake  Engineering   80000\n",
      "2     Lisa  Engineering  120000\n",
      "3      Sue           HR   90000\n"
     ]
    }
   ],
   "source": [
    "import pandas as pd\n",
    "df1 = pd.DataFrame({'employee': ['Bob', 'Jake', 'Lisa', 'Sue'],\n",
    "                    'group': ['Accounting', 'Engineering', \n",
    "                              'Engineering', 'HR']})\n",
    "df2 = pd.DataFrame({'employee': ['Lisa', 'Bob', 'Jake', 'Sue'],\n",
    "                    'hire_date': [2004, 2008, 2012, 2014]})\n",
    "\n",
    "df3 = pd.DataFrame({'name': ['Bob', 'Jake', 'Lisa', 'Sue'],\n",
    "                    'salary': [70000, 80000, 120000, 90000]})\n",
    "\n",
    "print(df1)\n",
    "print(df3)\n",
    "print(pd.merge(df1, df3, left_on=\"employee\",\n",
    "               right_on=\"name\").drop('name', axis=1))\n"
   ]
  },
  {
   "cell_type": "markdown",
   "metadata": {},
   "source": [
    "> Example: When merging, only the intersecting elements in the common column will appear in the resulting DataFrame."
   ]
  },
  {
   "cell_type": "code",
   "execution_count": 306,
   "metadata": {},
   "outputs": [
    {
     "name": "stdout",
     "output_type": "stream",
     "text": [
      "    name   food\n",
      "0  Peter   fish\n",
      "1   Paul  beans\n",
      "2   Mary  bread\n",
      "-----------------------------\n",
      "     name drink\n",
      "0    Mary  cola\n",
      "1  Joseph  7 up\n",
      "-----------------------------\n",
      "   name   food drink\n",
      "0  Mary  bread  cola\n"
     ]
    }
   ],
   "source": [
    "import pandas as pd\n",
    "df1 = pd.DataFrame({'name': ['Peter', 'Paul', 'Mary'],\n",
    "                    'food': ['fish', 'beans', 'bread']},\n",
    "                    columns=['name', 'food'])\n",
    "\n",
    "df2 = pd.DataFrame({'name': ['Mary', 'Joseph'],\n",
    "                    'drink': ['cola', '7 up']},\n",
    "                    columns=['name', 'drink'])\n",
    "print(df1)\n",
    "print('-----------------------------')\n",
    "print(df2)\n",
    "print('-----------------------------')\n",
    "df3 = pd.merge(df1, df2)\n",
    "print(df3)\n"
   ]
  },
  {
   "cell_type": "markdown",
   "metadata": {},
   "source": [
    "* Example for the inner case\n",
    "> The same intersection between DataFrames can be achieved by using the **\"inner\"** parameter. \\\n",
    "> It's worth noting that \"inner\" is the default value for the parameter in the Pandas merge method."
   ]
  },
  {
   "cell_type": "code",
   "execution_count": 307,
   "metadata": {},
   "outputs": [
    {
     "name": "stdout",
     "output_type": "stream",
     "text": [
      "    name   food\n",
      "0  Peter   fish\n",
      "1   Paul  beans\n",
      "2   Mary  bread\n",
      "-----------------------------\n",
      "     name drink\n",
      "0    Mary  cola\n",
      "1  Joseph  7 up\n",
      "-----------------------------\n",
      "   name   food drink\n",
      "0  Mary  bread  cola\n"
     ]
    }
   ],
   "source": [
    "import pandas as pd\n",
    "df1 = pd.DataFrame({'name': ['Peter', 'Paul', 'Mary'],\n",
    "                    'food': ['fish', 'beans', 'bread']},\n",
    "                    columns=['name', 'food'])\n",
    "\n",
    "df2 = pd.DataFrame({'name': ['Mary', 'Joseph'],\n",
    "                    'drink': ['cola', '7 up']},\n",
    "                    columns=['name', 'drink'])\n",
    "print(df1)\n",
    "print('-----------------------------')\n",
    "print(df2)\n",
    "print('-----------------------------')\n",
    "df3 = pd.merge(df1, df2, how='inner')\n",
    "print(df3)\n"
   ]
  },
  {
   "cell_type": "markdown",
   "metadata": {},
   "source": [
    "* Example for the outer case\n",
    "> Merging to obtain all elements, with NaN filling in the missing values, using the \"outer\" parameter."
   ]
  },
  {
   "cell_type": "code",
   "execution_count": 308,
   "metadata": {},
   "outputs": [
    {
     "name": "stdout",
     "output_type": "stream",
     "text": [
      "    name   food\n",
      "0  Peter   fish\n",
      "1   Paul  beans\n",
      "2   Mary  bread\n",
      "-----------------------------\n",
      "     name drink\n",
      "0    Mary  cola\n",
      "1  Joseph  7 up\n",
      "-----------------------------\n",
      "     name   food drink\n",
      "0   Peter   fish   NaN\n",
      "1    Paul  beans   NaN\n",
      "2    Mary  bread  cola\n",
      "3  Joseph    NaN  7 up\n"
     ]
    }
   ],
   "source": [
    "import pandas as pd\n",
    "df1 = pd.DataFrame({'name': ['Peter', 'Paul', 'Mary'],\n",
    "                    'food': ['fish', 'beans', 'bread']},\n",
    "                    columns=['name', 'food'])\n",
    "\n",
    "df2 = pd.DataFrame({'name': ['Mary', 'Joseph'],\n",
    "                    'drink': ['cola', '7 up']},\n",
    "                    columns=['name', 'drink'])\n",
    "print(df1)\n",
    "print('-----------------------------')\n",
    "print(df2)\n",
    "print('-----------------------------')\n",
    "df3 = pd.merge(df1, df2, how='outer')\n",
    "print(df3)\n"
   ]
  },
  {
   "cell_type": "markdown",
   "metadata": {},
   "source": [
    "* Example for the right case\n",
    "> Merging to obtain all elements from one DataFrame and filling in missing values in the other DataFrame with NaN, using the \"right\" parameter."
   ]
  },
  {
   "cell_type": "code",
   "execution_count": 309,
   "metadata": {},
   "outputs": [
    {
     "name": "stdout",
     "output_type": "stream",
     "text": [
      "    name   food\n",
      "0  Peter   fish\n",
      "1   Paul  beans\n",
      "2   Mary  bread\n",
      "-----------------------------\n",
      "     name drink\n",
      "0    Mary  cola\n",
      "1  Joseph  7 up\n",
      "-----------------------------\n",
      "     name   food drink\n",
      "0    Mary  bread  cola\n",
      "1  Joseph    NaN  7 up\n"
     ]
    }
   ],
   "source": [
    "import pandas as pd\n",
    "df1 = pd.DataFrame({'name': ['Peter', 'Paul', 'Mary'],\n",
    "                    'food': ['fish', 'beans', 'bread']},\n",
    "                    columns=['name', 'food'])\n",
    "\n",
    "df2 = pd.DataFrame({'name': ['Mary', 'Joseph'],\n",
    "                    'drink': ['cola', '7 up']},\n",
    "                    columns=['name', 'drink'])\n",
    "print(df1)\n",
    "print('-----------------------------')\n",
    "print(df2)\n",
    "print('-----------------------------')\n",
    "df3 = pd.merge(df1, df2, how='right')\n",
    "print(df3)\n"
   ]
  },
  {
   "cell_type": "markdown",
   "metadata": {},
   "source": [
    "* Example for the left case\n",
    "> Merging to obtain all elements from one DataFrame and filling in missing values in the other DataFrame with NaN, using the \"left\" parameter."
   ]
  },
  {
   "cell_type": "code",
   "execution_count": 310,
   "metadata": {},
   "outputs": [
    {
     "name": "stdout",
     "output_type": "stream",
     "text": [
      "    name   food\n",
      "0  Peter   fish\n",
      "1   Paul  beans\n",
      "2   Mary  bread\n",
      "-----------------------------\n",
      "     name drink\n",
      "0    Mary  cola\n",
      "1  Joseph  7 up\n",
      "-----------------------------\n",
      "    name   food drink\n",
      "0  Peter   fish   NaN\n",
      "1   Paul  beans   NaN\n",
      "2   Mary  bread  cola\n"
     ]
    }
   ],
   "source": [
    "import pandas as pd\n",
    "df1 = pd.DataFrame({'name': ['Peter', 'Paul', 'Mary'],\n",
    "                    'food': ['fish', 'beans', 'bread']},\n",
    "                    columns=['name', 'food'])\n",
    "\n",
    "df2 = pd.DataFrame({'name': ['Mary', 'Joseph'],\n",
    "                    'drink': ['cola', '7 up']},\n",
    "                    columns=['name', 'drink'])\n",
    "print(df1)\n",
    "print('-----------------------------')\n",
    "print(df2)\n",
    "print('-----------------------------')\n",
    "df3 = pd.merge(df1, df2, how='left')\n",
    "print(df3)\n"
   ]
  },
  {
   "cell_type": "markdown",
   "metadata": {},
   "source": [
    "<a id=\"advanced_op_df\"></a>\n",
    "### 4.4 Advanced operations on DataFrames "
   ]
  },
  {
   "cell_type": "markdown",
   "metadata": {},
   "source": [
    "<a id=\"sta_df\"></a>\n",
    "#### 4.4.1  Statistics for the entire DF"
   ]
  },
  {
   "cell_type": "code",
   "execution_count": 311,
   "metadata": {},
   "outputs": [
    {
     "name": "stdout",
     "output_type": "stream",
     "text": [
      "          A         B\n",
      "0  0.005275  0.590053\n",
      "1  0.319625  0.230584\n",
      "2  0.937504  0.333223\n",
      "3  0.545917  0.104463\n",
      "4  0.501140  0.597576\n",
      "5  0.998301  0.465496\n",
      "6  0.017465  0.196450\n",
      "7  0.793709  0.366809\n",
      "8  0.879614  0.028697\n",
      "9  0.858705  0.389454\n",
      "------------------------------\n",
      "A    5.857254\n",
      "B    3.302805\n",
      "dtype: float64\n",
      "------------------------------\n",
      "A    0.000005\n",
      "B    0.000001\n",
      "dtype: float64\n",
      "------------------------------\n",
      "A    0.585725\n",
      "B    0.330280\n",
      "dtype: float64\n"
     ]
    }
   ],
   "source": [
    "import pandas as pd\n",
    "import numpy as np\n",
    "\n",
    "df = pd.DataFrame({'A': np.random.rand(10),'B': np.random.rand(10)})\n",
    "print(df)\n",
    "print('------------------------------')\n",
    "print(df.sum())\n",
    "print('------------------------------')\n",
    "print(df.prod())\n",
    "print('------------------------------')\n",
    "print(df.mean())\n"
   ]
  },
  {
   "cell_type": "markdown",
   "metadata": {},
   "source": [
    "<a id=\"sta_column\"></a>\n",
    "#### 4.4.2 Statistics on one Column of the DF"
   ]
  },
  {
   "cell_type": "code",
   "execution_count": 312,
   "metadata": {},
   "outputs": [
    {
     "name": "stdout",
     "output_type": "stream",
     "text": [
      "          A         B\n",
      "0  0.151915  0.384361\n",
      "1  0.157454  0.137242\n",
      "2  0.194169  0.637392\n",
      "3  0.836226  0.316493\n",
      "4  0.235182  0.972446\n",
      "5  0.423518  0.418742\n",
      "6  0.381023  0.182254\n",
      "7  0.143662  0.506586\n",
      "8  0.531885  0.204914\n",
      "9  0.877983  0.488592\n",
      "------------------------------\n",
      "3.9330174514184097\n",
      "------------------------------\n",
      "4.005510831011704e-05\n",
      "------------------------------\n",
      "0.39330174514184096\n"
     ]
    }
   ],
   "source": [
    "import pandas as pd\n",
    "import numpy as np\n",
    "\n",
    "df = pd.DataFrame({'A': np.random.rand(10),'B': np.random.rand(10)})\n",
    "print(df)\n",
    "print('------------------------------')\n",
    "print(df['A'].sum())\n",
    "print('------------------------------')\n",
    "print(df['B'].prod())\n",
    "print('------------------------------')\n",
    "print(df['A'].mean())\n"
   ]
  },
  {
   "cell_type": "markdown",
   "metadata": {},
   "source": [
    "<a id=\"sta_columns\"></a>\n",
    "#### 4.4.3 Statistics on all columns of the DF \n"
   ]
  },
  {
   "cell_type": "markdown",
   "metadata": {},
   "source": [
    "> This is the default behavior, and you can specify to compute by rows. \\\n",
    "> For example, computing the average for all rows will return the average of the elements across the entire column."
   ]
  },
  {
   "cell_type": "code",
   "execution_count": 313,
   "metadata": {},
   "outputs": [
    {
     "name": "stdout",
     "output_type": "stream",
     "text": [
      "          A         B\n",
      "0  0.620815  0.940360\n",
      "1  0.865903  0.801033\n",
      "2  0.374614  0.307738\n",
      "3  0.970911  0.176068\n",
      "4  0.735641  0.536717\n",
      "5  0.369581  0.591873\n",
      "6  0.413798  0.072219\n",
      "7  0.098215  0.288579\n",
      "8  0.144818  0.194250\n",
      "9  0.305043  0.910270\n",
      "------------------------------\n",
      "A    0.489934\n",
      "B    0.481910\n",
      "dtype: float64\n",
      "------------------------------\n",
      "A    10\n",
      "B    10\n",
      "dtype: int64\n",
      "------------------------------\n",
      "A    0.098215\n",
      "B    0.072219\n",
      "dtype: float64\n",
      "------------------------------\n",
      "A    0.970911\n",
      "B    0.940360\n",
      "dtype: float64\n",
      "------------------------------\n",
      "A    0.296368\n",
      "B    0.320148\n",
      "dtype: float64\n",
      "------------------------------\n"
     ]
    }
   ],
   "source": [
    "import pandas as pd\n",
    "import numpy as np\n",
    "\n",
    "df = pd.DataFrame({'A': np.random.rand(10),'B': np.random.rand(10)})\n",
    "print(df)\n",
    "print('------------------------------')\n",
    "print(df.mean(axis='rows'))\n",
    "print('------------------------------')\n",
    "print(df.count())\n",
    "print('------------------------------')\n",
    "print(df.min())\n",
    "print('------------------------------')\n",
    "print(df.max())\n",
    "print('------------------------------')\n",
    "print(df.std())\n",
    "print('------------------------------')\n"
   ]
  },
  {
   "cell_type": "markdown",
   "metadata": {},
   "source": [
    "<a id=\"sat_rows\"></a>\n",
    "#### 4.4.4 Statistics on all rows of the DF \n",
    " "
   ]
  },
  {
   "cell_type": "markdown",
   "metadata": {},
   "source": [
    "> In this case, you need to pass the parameter **axis=\"column\"**. \\\n",
    "> This allows the process to be applied to all elements by column and return results for each row."
   ]
  },
  {
   "cell_type": "code",
   "execution_count": 314,
   "metadata": {},
   "outputs": [
    {
     "name": "stdout",
     "output_type": "stream",
     "text": [
      "          A         B\n",
      "0  0.409199  0.838762\n",
      "1  0.520183  0.080766\n",
      "2  0.928907  0.882454\n",
      "3  0.605618  0.086910\n",
      "4  0.456624  0.702574\n",
      "5  0.620493  0.309700\n",
      "6  0.780535  0.672074\n",
      "7  0.534290  0.996859\n",
      "8  0.247131  0.935650\n",
      "9  0.900387  0.839409\n",
      "------------------------------\n",
      "0    0.623981\n",
      "1    0.300474\n",
      "2    0.905681\n",
      "3    0.346264\n",
      "4    0.579599\n",
      "5    0.465096\n",
      "6    0.726305\n",
      "7    0.765575\n",
      "8    0.591391\n",
      "9    0.869898\n",
      "dtype: float64\n"
     ]
    }
   ],
   "source": [
    "import pandas as pd\n",
    "import numpy as np\n",
    "\n",
    "df = pd.DataFrame({'A': np.random.rand(10),'B': np.random.rand(10)})\n",
    "print(df)\n",
    "print('------------------------------')\n",
    "print(df.mean(axis='columns'))\n"
   ]
  },
  {
   "cell_type": "markdown",
   "metadata": {},
   "source": [
    "<a id=\"describe\"></a>\n",
    "#### 4.4.5 Statistics on the entire DF using the Describe method"
   ]
  },
  {
   "cell_type": "code",
   "execution_count": 315,
   "metadata": {},
   "outputs": [
    {
     "name": "stdout",
     "output_type": "stream",
     "text": [
      "  key  data\n",
      "0   A     0\n",
      "1   B     1\n",
      "2   C     2\n",
      "3   A     3\n",
      "4   B     4\n",
      "5   C     5\n",
      "           data\n",
      "count  6.000000\n",
      "mean   2.500000\n",
      "std    1.870829\n",
      "min    0.000000\n",
      "25%    1.250000\n",
      "50%    2.500000\n",
      "75%    3.750000\n",
      "max    5.000000\n"
     ]
    }
   ],
   "source": [
    "import pandas as pd\n",
    "\n",
    "df = pd.DataFrame({'key':['A','B','C','A','B','C'],\n",
    "                   'data': range(6)},columns=['key', 'data'])\n",
    "\n",
    "print(df)\n",
    "print(df.describe())\n"
   ]
  },
  {
   "cell_type": "markdown",
   "metadata": {},
   "source": [
    "<a id=\"groupby\"></a>\n",
    "#### 4.4.6 **Groupby**  "
   ]
  },
  {
   "cell_type": "markdown",
   "metadata": {},
   "source": [
    "> Groupby is a crucial method in Pandas that facilitates grouping similar elements and applying various operations on each group."
   ]
  },
  {
   "cell_type": "code",
   "execution_count": 316,
   "metadata": {},
   "outputs": [
    {
     "name": "stdout",
     "output_type": "stream",
     "text": [
      "  key  data\n",
      "0   A     0\n",
      "1   B     1\n",
      "2   C     2\n",
      "3   A     3\n",
      "4   B     4\n",
      "5   C     5\n",
      "     data\n",
      "key      \n",
      "A       3\n",
      "B       5\n",
      "C       7\n"
     ]
    }
   ],
   "source": [
    "import pandas as pd\n",
    "\n",
    "df = pd.DataFrame({'key':['A','B','C','A','B','C'],\n",
    "                   'data': range(6)},columns=['key', 'data'])\n",
    "\n",
    "print(df)\n",
    "print(df.groupby('key').sum())"
   ]
  },
  {
   "cell_type": "markdown",
   "metadata": {},
   "source": [
    "<a id=\"groupby_descripe\"></a>\n",
    "#### 4.4.7 Grouping with the Describe Method"
   ]
  },
  {
   "cell_type": "code",
   "execution_count": 317,
   "metadata": {},
   "outputs": [
    {
     "name": "stdout",
     "output_type": "stream",
     "text": [
      "  key  data\n",
      "0   A     0\n",
      "1   B     1\n",
      "2   C     2\n",
      "3   A     3\n",
      "4   B     4\n",
      "5   C     5\n",
      "     data                                         \n",
      "    count mean      std  min   25%  50%   75%  max\n",
      "key                                               \n",
      "A     2.0  1.5  2.12132  0.0  0.75  1.5  2.25  3.0\n",
      "B     2.0  2.5  2.12132  1.0  1.75  2.5  3.25  4.0\n",
      "C     2.0  3.5  2.12132  2.0  2.75  3.5  4.25  5.0\n"
     ]
    }
   ],
   "source": [
    "import pandas as pd\n",
    "\n",
    "df = pd.DataFrame({'key':['A','B','C','A','B','C'],\n",
    "                   'data': range(6)},columns=['key', 'data'])\n",
    "\n",
    "print(df)\n",
    "print(df.groupby('key').describe())\n"
   ]
  },
  {
   "cell_type": "markdown",
   "metadata": {},
   "source": [
    "> Example: **Unstack**  the returned data from the describe method."
   ]
  },
  {
   "cell_type": "code",
   "execution_count": 318,
   "metadata": {},
   "outputs": [
    {
     "name": "stdout",
     "output_type": "stream",
     "text": [
      "  key  data\n",
      "0   A     0\n",
      "1   B     1\n",
      "2   C     2\n",
      "3   A     3\n",
      "4   B     4\n",
      "5   C     5\n",
      "             key\n",
      "data  count  A      2.00000\n",
      "             B      2.00000\n",
      "             C      2.00000\n",
      "      mean   A      1.50000\n",
      "             B      2.50000\n",
      "             C      3.50000\n",
      "      std    A      2.12132\n",
      "             B      2.12132\n",
      "             C      2.12132\n",
      "      min    A      0.00000\n",
      "             B      1.00000\n",
      "             C      2.00000\n",
      "      25%    A      0.75000\n",
      "             B      1.75000\n",
      "             C      2.75000\n",
      "      50%    A      1.50000\n",
      "             B      2.50000\n",
      "             C      3.50000\n",
      "      75%    A      2.25000\n",
      "             B      3.25000\n",
      "             C      4.25000\n",
      "      max    A      3.00000\n",
      "             B      4.00000\n",
      "             C      5.00000\n",
      "dtype: float64\n"
     ]
    }
   ],
   "source": [
    "import pandas as pd\n",
    "\n",
    "df = pd.DataFrame({'key':['A','B','C','A','B','C'],\n",
    "                   'data': range(6)},columns=['key', 'data'])\n",
    "\n",
    "print(df)\n",
    "print(df.groupby('key').describe().unstack())\n"
   ]
  },
  {
   "cell_type": "code",
   "execution_count": 319,
   "metadata": {},
   "outputs": [
    {
     "name": "stdout",
     "output_type": "stream",
     "text": [
      "  key  data1  data2\n",
      "0   A      0      0\n",
      "1   B      1      6\n",
      "2   C      2      6\n",
      "3   A      3      9\n",
      "4   B      4      5\n",
      "5   C      5      1\n",
      "     data1  data2\n",
      "key              \n",
      "A        0      9\n",
      "B        1      6\n",
      "C        2      6\n"
     ]
    }
   ],
   "source": [
    "import pandas as pd\n",
    "import numpy as np\n",
    "\n",
    "df = pd.DataFrame({'key': ['A', 'B', 'C', 'A', 'B', 'C'],\n",
    "                   'data1': range(6),\n",
    "                   'data2': np.random.randint(0, 10, 6)},\n",
    "                    columns = ['key', 'data1', 'data2'])\n",
    "\n",
    "print(df)\n",
    "df2 = df.groupby('key').aggregate({'data1': 'min','data2': 'max'})\n",
    "print(df2)\n"
   ]
  },
  {
   "cell_type": "markdown",
   "metadata": {},
   "source": [
    "> Example: **filter**  the returned data based on function."
   ]
  },
  {
   "cell_type": "code",
   "execution_count": 320,
   "metadata": {},
   "outputs": [
    {
     "name": "stdout",
     "output_type": "stream",
     "text": [
      "  key  data1  data2\n",
      "0   A      0      0\n",
      "1   B      1      6\n",
      "2   C      2      5\n",
      "3   A      3      5\n",
      "4   B      4      1\n",
      "5   C      5      5\n",
      "Empty DataFrame\n",
      "Columns: [key, data1, data2]\n",
      "Index: []\n"
     ]
    }
   ],
   "source": [
    "import pandas as pd\n",
    "import numpy as np\n",
    "\n",
    "df = pd.DataFrame({'key': ['A', 'B', 'C', 'A', 'B', 'C'],\n",
    "                   'data1': range(6),\n",
    "                   'data2': np.random.randint(0, 10, 6)},\n",
    "                    columns = ['key', 'data1', 'data2'])\n",
    "\n",
    "print(df)\n",
    "def filter_func(x):\n",
    "    return x['data2'].std() > 4\n",
    "\n",
    "df2 = df.groupby('key').filter(filter_func)\n",
    "print(df2)\n"
   ]
  },
  {
   "cell_type": "code",
   "execution_count": 321,
   "metadata": {},
   "outputs": [
    {
     "name": "stdout",
     "output_type": "stream",
     "text": [
      "  key  data1  data2\n",
      "0   A      0      9\n",
      "1   B      1      6\n",
      "2   C      2      5\n",
      "3   A      3      1\n",
      "4   B      4      4\n",
      "5   C      5      5\n",
      "   data1  data2\n",
      "0      0     81\n",
      "1      1     36\n",
      "2      4     25\n",
      "3      9      1\n",
      "4     16     16\n",
      "5     25     25\n"
     ]
    }
   ],
   "source": [
    "import pandas as pd\n",
    "import numpy as np\n",
    "\n",
    "df = pd.DataFrame({'key': ['A', 'B', 'C', 'A', 'B', 'C'],\n",
    "                   'data1': range(6),\n",
    "                   'data2': np.random.randint(0, 10, 6)},\n",
    "                    columns = ['key', 'data1', 'data2'])\n",
    "\n",
    "print(df)\n",
    "\n",
    "df2 = df.groupby('key').transform(lambda x: x**2)\n",
    "\n",
    "print(df2)\n"
   ]
  },
  {
   "cell_type": "markdown",
   "metadata": {},
   "source": [
    "<a id=\"data_trans_handling_missing\"></a>\n",
    "### 4.5 Data Transformation and Handling Missing Data"
   ]
  },
  {
   "cell_type": "markdown",
   "metadata": {},
   "source": [
    "<a id=\"how_handle_missing\"></a>\n",
    "#### 4.5.1 How to Address Missing Data ?"
   ]
  },
  {
   "cell_type": "markdown",
   "metadata": {},
   "source": [
    "* Why Handling Missing Data is Essential ?\n",
    "\n",
    "    * Real-world data often contains missing values for various reasons. \n",
    "    * Many machine learning models and statistical methods cannot effectively process data with missing values. \n",
    "    * In such cases, it becomes essential to determine how to handle this missing data.\n",
    "    * When reading data with missing values, Pandas represents them as NaN values.\n",
    "\n",
    "* Options for handling missing data include:\n",
    "\n",
    "    1) Keeping the missing data:\n",
    "        * Pros: Does not manipulate or alter the true data.\n",
    "        * Cons: Many methods or models do not support NaN values.\n",
    "    2) Dropping or Removing the missing data:\n",
    "        * Pros: Easy and can be based on predefined rules.\n",
    "        * Cons: May result in the loss of a significant amount of data or valuable information.\n",
    "    3) Filling the missing data:\n",
    "        * Pros: Has the potential to retain a substantial amount of data for training a model.\n",
    "        * Cons: Can be challenging and somewhat arbitrary, with the potential to lead to false conclusions."
   ]
  },
  {
   "cell_type": "markdown",
   "metadata": {},
   "source": [
    "<a id=\"drop_data\"></a>\n",
    "#### 4.5.2 Dropping Unnecessary Data\n",
    "Dropping helps in focusing on what's essential by removing unneeded data."
   ]
  },
  {
   "cell_type": "markdown",
   "metadata": {},
   "source": [
    "> Example to drop unneeded columns "
   ]
  },
  {
   "cell_type": "code",
   "execution_count": 322,
   "metadata": {},
   "outputs": [
    {
     "name": "stdout",
     "output_type": "stream",
     "text": [
      "Original DataFrame:\n",
      "      Name  Age Unneeded_Column\n",
      "0    Alice   25               A\n",
      "1      Bob   30               B\n",
      "2  Charlie   22               C\n",
      "\n",
      "DataFrame after streamlining data:\n",
      "      Name  Age\n",
      "0    Alice   25\n",
      "1      Bob   30\n",
      "2  Charlie   22\n"
     ]
    }
   ],
   "source": [
    "# Sample DataFrame with unnecessary data\n",
    "data = {'Name': ['Alice', 'Bob', 'Charlie'],\n",
    "        'Age': [25, 30, 22],\n",
    "        'Unneeded_Column': ['A', 'B', 'C']}\n",
    "\n",
    "df = pd.DataFrame(data)\n",
    "\n",
    "# Displaying the original DataFrame\n",
    "print(\"Original DataFrame:\")\n",
    "print(df)\n",
    "\n",
    "# Dropping the unneeded column\n",
    "df = df.drop(columns=['Unneeded_Column'])\n",
    "\n",
    "# Displaying the DataFrame after dropping the column\n",
    "print(\"\\nDataFrame after streamlining data:\")\n",
    "print(df)"
   ]
  },
  {
   "cell_type": "markdown",
   "metadata": {},
   "source": [
    "<a id=\"dropping_rows_with_missingdata\"></a>\n",
    "#### 4.5.3 Dropping Rows with Any Missing Values"
   ]
  },
  {
   "cell_type": "markdown",
   "metadata": {},
   "source": [
    "> Method one : Using **dropna** function. "
   ]
  },
  {
   "cell_type": "code",
   "execution_count": 323,
   "metadata": {},
   "outputs": [
    {
     "name": "stdout",
     "output_type": "stream",
     "text": [
      "Original DataFrame:\n",
      "      Name   Age   Salary\n",
      "0    Alice  25.0  50000.0\n",
      "1      Bob  30.0      NaN\n",
      "2     None   NaN  60000.0\n",
      "3  Charlie  22.0  70000.0\n",
      "\n",
      "DataFrame with all rows without missing value \n",
      "      Name   Age   Salary\n",
      "0    Alice  25.0  50000.0\n",
      "3  Charlie  22.0  70000.0\n"
     ]
    }
   ],
   "source": [
    "import pandas as pd\n",
    "\n",
    "# Sample DataFrame with missing values\n",
    "data = {'Name': ['Alice', 'Bob', None, 'Charlie'],\n",
    "        'Age': [25, 30, None, 22],\n",
    "        'Salary': [50000, None, 60000, 70000]}\n",
    "\n",
    "df = pd.DataFrame(data)\n",
    "\n",
    "# Displaying the original DataFrame\n",
    "print(\"Original DataFrame:\")\n",
    "print(df)\n",
    "\n",
    "# Drop the entire row if there is any one missing data\n",
    "df_clean = df.dropna()\n",
    "print(\"\\nDataFrame with all rows without missing value \")\n",
    "print(df_clean)\n"
   ]
  },
  {
   "cell_type": "markdown",
   "metadata": {},
   "source": [
    "> Another Method : Using **drop** function; Dropping an entire row containing missing values can be achieved by specifying a single label, index, or column"
   ]
  },
  {
   "cell_type": "code",
   "execution_count": 324,
   "metadata": {},
   "outputs": [
    {
     "name": "stdout",
     "output_type": "stream",
     "text": [
      "Original DataFrame:\n",
      "      Name   Age   Salary\n",
      "0    Alice  25.0  50000.0\n",
      "1      Bob  30.0      NaN\n",
      "2     None   NaN  60000.0\n",
      "3  Charlie  22.0  70000.0\n",
      "\n",
      "DataFrame with all rows without missing value \n",
      "      Name   Age   Salary\n",
      "0    Alice  25.0  50000.0\n",
      "1      Bob  30.0      NaN\n",
      "3  Charlie  22.0  70000.0\n"
     ]
    }
   ],
   "source": [
    "import pandas as pd\n",
    "\n",
    "# Sample DataFrame with missing values\n",
    "data = {'Name': ['Alice', 'Bob', None, 'Charlie'],\n",
    "        'Age': [25, 30, None, 22],\n",
    "        'Salary': [50000, None, 60000, 70000]}\n",
    "\n",
    "df = pd.DataFrame(data)\n",
    "\n",
    "# Displaying the original DataFrame\n",
    "print(\"Original DataFrame:\")\n",
    "print(df)\n",
    "\n",
    "# Drop the entire row if there is any one missing data\n",
    "df_clean = df.drop(2,  axis=0)\n",
    "print(\"\\nDataFrame with all rows without missing value \")\n",
    "print(df_clean)"
   ]
  },
  {
   "cell_type": "markdown",
   "metadata": {},
   "source": [
    "<a id=\"detect_missing\"></a>\n",
    "#### 4.5.4 Detecting All Missing Values"
   ]
  },
  {
   "cell_type": "markdown",
   "metadata": {},
   "source": [
    "* Detecting missing values is crucial for maintaining data integrity, and it can be achieved using the **isnull()** function. \n",
    "* Additionally, there is another function named **notnull()**, which, when used in reverse, indicates false wherever there is a missing value."
   ]
  },
  {
   "cell_type": "code",
   "execution_count": 325,
   "metadata": {},
   "outputs": [
    {
     "name": "stdout",
     "output_type": "stream",
     "text": [
      "Original DataFrame:\n",
      "      Name   Age   Salary\n",
      "0    Alice  25.0  50000.0\n",
      "1      Bob  30.0      NaN\n",
      "2     None   NaN  60000.0\n",
      "3  Charlie  22.0  70000.0\n",
      "\n",
      "DataFrame with Missing Value Indicators:\n",
      "    Name    Age  Salary\n",
      "0  False  False   False\n",
      "1  False  False    True\n",
      "2   True   True   False\n",
      "3  False  False   False\n",
      "\n",
      "DataFrame with all rows contain Missing Value \n",
      "  Name   Age  Salary\n",
      "1  Bob  30.0     NaN\n"
     ]
    }
   ],
   "source": [
    "import pandas as pd\n",
    "\n",
    "# Sample DataFrame with missing values\n",
    "data = {'Name': ['Alice', 'Bob', None, 'Charlie'],\n",
    "        'Age': [25, 30, None, 22],\n",
    "        'Salary': [50000, None, 60000, 70000]}\n",
    "\n",
    "df = pd.DataFrame(data)\n",
    "\n",
    "# Displaying the original DataFrame\n",
    "print(\"Original DataFrame:\")\n",
    "print(df)\n",
    "\n",
    "# Checking for missing values\n",
    "missing_values = df.isnull()\n",
    "\n",
    "# Displaying the DataFrame with missing value indicators\n",
    "print(\"\\nDataFrame with Missing Value Indicators:\")\n",
    "print(missing_values)\n",
    "\n",
    "# Show rows where any one of them have missing value in the Salary column \n",
    "rows_with_missing = df[df[\"Salary\"].isnull()]\n",
    "print(\"\\nDataFrame with all rows contain Missing Value \")\n",
    "print(rows_with_missing)\n"
   ]
  },
  {
   "cell_type": "markdown",
   "metadata": {},
   "source": [
    "<a id=\"eliminate_duplicates\"></a>\n",
    "#### 4.5.5 Eliminating Duplicates \n",
    "Duplicate data can distort your analysis. The **drop_duplicates()** function is instrumental in preserving data integrity."
   ]
  },
  {
   "cell_type": "code",
   "execution_count": 326,
   "metadata": {},
   "outputs": [
    {
     "name": "stdout",
     "output_type": "stream",
     "text": [
      "Original DataFrame:\n",
      "      Name  Age  Salary\n",
      "0    Alice   25   50000\n",
      "1      Bob   30   60000\n",
      "2    Alice   25   50000\n",
      "3  Charlie   22   70000\n",
      "4      Bob   30   60000\n",
      "\n",
      "DataFrame after dropping duplicates:\n",
      "      Name  Age  Salary\n",
      "0    Alice   25   50000\n",
      "1      Bob   30   60000\n",
      "3  Charlie   22   70000\n"
     ]
    }
   ],
   "source": [
    "import pandas as pd\n",
    "\n",
    "# Sample DataFrame with duplicate data\n",
    "data = {'Name': ['Alice', 'Bob', 'Alice', 'Charlie', 'Bob'],\n",
    "        'Age': [25, 30, 25, 22, 30],\n",
    "        'Salary': [50000, 60000, 50000, 70000, 60000]}\n",
    "\n",
    "df = pd.DataFrame(data)\n",
    "\n",
    "# Displaying the original DataFrame\n",
    "print(\"Original DataFrame:\")\n",
    "print(df)\n",
    "\n",
    "# Dropping duplicates based on all columns\n",
    "df_no_duplicates = df.drop_duplicates()\n",
    "\n",
    "# Displaying the DataFrame after dropping duplicates\n",
    "print(\"\\nDataFrame after dropping duplicates:\")\n",
    "print(df_no_duplicates)"
   ]
  },
  {
   "cell_type": "markdown",
   "metadata": {},
   "source": [
    "> Another example to eliminating duplicates"
   ]
  },
  {
   "cell_type": "code",
   "execution_count": 327,
   "metadata": {},
   "outputs": [
    {
     "name": "stdout",
     "output_type": "stream",
     "text": [
      "Original DataFrame:\n",
      "    k1  k2\n",
      "0  one   1\n",
      "1  one   1\n",
      "2  one   2\n",
      "3  two   3\n",
      "4  two   3\n",
      "5  two   4\n",
      "6  two   4\n",
      "\n",
      "The duplicate entries :\n",
      "0    False\n",
      "1     True\n",
      "2    False\n",
      "3    False\n",
      "4     True\n",
      "5    False\n",
      "6     True\n",
      "dtype: bool\n",
      "\n",
      "DataFrame after dropping duplicates:\n",
      "    k1  k2\n",
      "0  one   1\n",
      "2  one   2\n",
      "3  two   3\n",
      "5  two   4\n"
     ]
    }
   ],
   "source": [
    "# create DataFrame with duplicate entries\n",
    "df = pd.DataFrame({'k1':['one']*3 + ['two']*4, 'k2':[1,1,2,3,3,4,4]})\n",
    "# Displaying the original DataFrame\n",
    "print(\"Original DataFrame:\")\n",
    "print(df)\n",
    "\n",
    "# see the duplicate entries \n",
    "duplicates = df.duplicated()\n",
    "# Displaying the duplicates to look at them\n",
    "print(\"\\nThe duplicate entries :\")\n",
    "print(duplicates)\n",
    "\n",
    "# Dropping duplicates based on all columns\n",
    "df_no_duplicates = df.drop_duplicates()\n",
    "\n",
    "# Displaying the DataFrame after dropping duplicates\n",
    "print(\"\\nDataFrame after dropping duplicates:\")\n",
    "print(df_no_duplicates)"
   ]
  },
  {
   "cell_type": "markdown",
   "metadata": {},
   "source": [
    "<a id=\"control_eliminate_duplicates\"></a>\n",
    "#### 4.5.6 Control Eliminating Duplicates "
   ]
  },
  {
   "cell_type": "markdown",
   "metadata": {},
   "source": [
    "- Keep The last entry ; \n",
    "> The drop_duplicates command currently removes the last entry. If there is a need to retain the last entry, the 'keep' keyword can be employed. "
   ]
  },
  {
   "cell_type": "code",
   "execution_count": 328,
   "metadata": {},
   "outputs": [
    {
     "data": {
      "text/html": [
       "<div>\n",
       "<style scoped>\n",
       "    .dataframe tbody tr th:only-of-type {\n",
       "        vertical-align: middle;\n",
       "    }\n",
       "\n",
       "    .dataframe tbody tr th {\n",
       "        vertical-align: top;\n",
       "    }\n",
       "\n",
       "    .dataframe thead th {\n",
       "        text-align: right;\n",
       "    }\n",
       "</style>\n",
       "<table border=\"1\" class=\"dataframe\">\n",
       "  <thead>\n",
       "    <tr style=\"text-align: right;\">\n",
       "      <th></th>\n",
       "      <th>k1</th>\n",
       "      <th>k2</th>\n",
       "    </tr>\n",
       "  </thead>\n",
       "  <tbody>\n",
       "    <tr>\n",
       "      <th>1</th>\n",
       "      <td>one</td>\n",
       "      <td>1</td>\n",
       "    </tr>\n",
       "    <tr>\n",
       "      <th>2</th>\n",
       "      <td>one</td>\n",
       "      <td>2</td>\n",
       "    </tr>\n",
       "    <tr>\n",
       "      <th>4</th>\n",
       "      <td>two</td>\n",
       "      <td>3</td>\n",
       "    </tr>\n",
       "    <tr>\n",
       "      <th>6</th>\n",
       "      <td>two</td>\n",
       "      <td>4</td>\n",
       "    </tr>\n",
       "  </tbody>\n",
       "</table>\n",
       "</div>"
      ],
      "text/plain": [
       "    k1  k2\n",
       "1  one   1\n",
       "2  one   2\n",
       "4  two   3\n",
       "6  two   4"
      ]
     },
     "execution_count": 328,
     "metadata": {},
     "output_type": "execute_result"
    }
   ],
   "source": [
    "df.drop_duplicates(keep=\"last\")"
   ]
  },
  {
   "cell_type": "markdown",
   "metadata": {},
   "source": [
    "> We can eliminate all duplicate values based on specific columns as well."
   ]
  },
  {
   "cell_type": "code",
   "execution_count": 329,
   "metadata": {},
   "outputs": [
    {
     "name": "stdout",
     "output_type": "stream",
     "text": [
      "Original DataFrame:\n",
      "    k1  k2\n",
      "0  one   1\n",
      "1  one   1\n",
      "2  one   2\n",
      "3  two   3\n",
      "4  two   3\n",
      "5  two   4\n",
      "6  two   4\n",
      "\n",
      " The DF without duplicate (k1 based) :\n",
      "    k1  k2\n",
      "0  one   1\n",
      "3  two   3\n",
      "\n",
      " The DF without duplicate (k1_k2 based) :\n",
      "    k1  k2\n",
      "0  one   1\n",
      "2  one   2\n",
      "3  two   3\n",
      "5  two   4\n"
     ]
    }
   ],
   "source": [
    "# create DataFrame with duplicate entries\n",
    "df = pd.DataFrame({'k1':['one']*3 + ['two']*4, 'k2':[1,1,2,3,3,4,4]})\n",
    "# Displaying the original DataFrame\n",
    "print(\"Original DataFrame:\")\n",
    "print(df)\n",
    "\n",
    "# drop duplicate entries based on k1 only \n",
    "df_k1 = df.drop_duplicates(['k1'])\n",
    "# Displaying the df after drop the duplicates based on k1  \n",
    "print(\"\\n The DF without duplicate (k1 based) :\")\n",
    "print(df_k1)\n",
    "\n",
    "\n",
    "# drop if k1 and k2 column matched \n",
    "df_k1_k2 =df.drop_duplicates(['k1', 'k2'])\n",
    "# Displaying the df after drop the duplicates based on k1 and k2  \n",
    "print(\"\\n The DF without duplicate (k1_k2 based) :\")\n",
    "print(df_k1_k2)"
   ]
  },
  {
   "cell_type": "markdown",
   "metadata": {},
   "source": [
    "<a id=\"transforming_data\"></a>\n",
    "#### 4.5.7 Transforming Data Using the replace() Function \n",
    "The replace() function can customize your dataset by substituting values. It is commonly used for data cleaning, allowing correction of mislabeled data or handling outliers."
   ]
  },
  {
   "cell_type": "code",
   "execution_count": 330,
   "metadata": {},
   "outputs": [
    {
     "name": "stdout",
     "output_type": "stream",
     "text": [
      "Original DataFrame:\n",
      "    Category  Price\n",
      "0      Fruit    2.5\n",
      "1  Vegetable    1.8\n",
      "2      Fruit    3.0\n",
      "3       Meat    5.5\n",
      "4  Vegetable    2.0\n",
      "5      Fruit    3.2\n",
      "6       Meat    6.0\n",
      "\n",
      "DataFrame after Replacement:\n",
      "        Category  Price\n",
      "0  Healthy Snack    2.5\n",
      "1      Vegetable    1.8\n",
      "2  Healthy Snack    3.0\n",
      "3           Meat    5.5\n",
      "4      Vegetable    2.0\n",
      "5  Healthy Snack    3.2\n",
      "6           Meat    6.0\n"
     ]
    }
   ],
   "source": [
    "import pandas as pd\n",
    "\n",
    "# Sample DataFrame with a column containing specific values to be replaced\n",
    "data = {'Category': ['Fruit', 'Vegetable', 'Fruit', 'Meat', 'Vegetable', 'Fruit', 'Meat'],\n",
    "        'Price': [2.5, 1.8, 3.0, 5.5, 2.0, 3.2, 6.0]}\n",
    "\n",
    "df = pd.DataFrame(data)\n",
    "\n",
    "# Displaying the original DataFrame\n",
    "print(\"Original DataFrame:\")\n",
    "print(df)\n",
    "\n",
    "# Replacing 'Fruit' with 'Healthy Snack' in the 'Category' column\n",
    "df['Category'] = df['Category'].replace('Fruit', 'Healthy Snack')\n",
    "\n",
    "# Displaying the DataFrame after replacement\n",
    "print(\"\\nDataFrame after Replacement:\")\n",
    "print(df)\n"
   ]
  },
  {
   "cell_type": "markdown",
   "metadata": {},
   "source": [
    "> Another example for data transformation by replacing "
   ]
  },
  {
   "cell_type": "code",
   "execution_count": 331,
   "metadata": {},
   "outputs": [
    {
     "name": "stdout",
     "output_type": "stream",
     "text": [
      "Original DataFrame:\n",
      "    k1  k2\n",
      "0  one   1\n",
      "1  one   1\n",
      "2  one   2\n",
      "3  two   3\n",
      "4  two   3\n",
      "5  two   4\n",
      "6  two   4\n",
      "\n",
      "DataFrame after Replacement:\n",
      "    k1  k2\n",
      "0  One   1\n",
      "1  One   1\n",
      "2  One   2\n",
      "3  two  30\n",
      "4  two  30\n",
      "5  two   4\n",
      "6  two   4\n"
     ]
    }
   ],
   "source": [
    "# create DataFrame with duplicate entries\n",
    "df = pd.DataFrame({'k1':['one']*3 + ['two']*4, 'k2':[1,1,2,3,3,4,4]})\n",
    "# Displaying the original DataFrame\n",
    "print(\"Original DataFrame:\")\n",
    "print(df)\n",
    "\n",
    "df_replaced=df.replace(['one', 3], ['One', '30'])\n",
    "# Displaying the DataFrame after replacement\n",
    "print(\"\\nDataFrame after Replacement:\")\n",
    "print(df_replaced)"
   ]
  },
  {
   "cell_type": "markdown",
   "metadata": {},
   "source": [
    "<a id=\"categorical_data\"></a>\n",
    "#### 4.5.8  Analysis of Categorical Data"
   ]
  },
  {
   "cell_type": "markdown",
   "metadata": {},
   "source": [
    "##### A) Identifying Distinct Elements Using unique() \n",
    "\n",
    "The unique function reveals the uniqueness within your data, providing insights into its diversity."
   ]
  },
  {
   "cell_type": "code",
   "execution_count": 332,
   "metadata": {},
   "outputs": [
    {
     "name": "stdout",
     "output_type": "stream",
     "text": [
      "Original DataFrame:\n",
      "    Category\n",
      "0      Fruit\n",
      "1  Vegetable\n",
      "2      Fruit\n",
      "3       Meat\n",
      "4  Vegetable\n",
      "5      Fruit\n",
      "6       Meat\n",
      "\n",
      "Unique Categories:\n",
      "['Fruit' 'Vegetable' 'Meat']\n"
     ]
    }
   ],
   "source": [
    "import pandas as pd\n",
    "\n",
    "# Sample DataFrame with a column containing repeated elements\n",
    "data = {'Category': ['Fruit', 'Vegetable', 'Fruit', 'Meat', 'Vegetable', 'Fruit', 'Meat']}\n",
    "\n",
    "df = pd.DataFrame(data)\n",
    "\n",
    "# Displaying the original DataFrame\n",
    "print(\"Original DataFrame:\")\n",
    "print(df)\n",
    "\n",
    "# Extracting unique elements from the 'Category' column\n",
    "unique_categories = df['Category'].unique()\n",
    "\n",
    "# Displaying the unique elements\n",
    "print(\"\\nUnique Categories:\")\n",
    "print(unique_categories)"
   ]
  },
  {
   "cell_type": "markdown",
   "metadata": {},
   "source": [
    "##### B) Counting Uniqueness with nunique()\n",
    "\n",
    "The **nunique()** function offers a quick method to comprehend the variation within your dataset."
   ]
  },
  {
   "cell_type": "code",
   "execution_count": 333,
   "metadata": {},
   "outputs": [
    {
     "name": "stdout",
     "output_type": "stream",
     "text": [
      "Original DataFrame:\n",
      "    Category\n",
      "0      Fruit\n",
      "1  Vegetable\n",
      "2      Fruit\n",
      "3       Meat\n",
      "4  Vegetable\n",
      "5      Fruit\n",
      "6       Meat\n",
      "\n",
      "Number of Unique Categories: 3\n"
     ]
    }
   ],
   "source": [
    "import pandas as pd\n",
    "\n",
    "# Sample DataFrame with a column containing repeated elements\n",
    "data = {'Category': ['Fruit', 'Vegetable', 'Fruit', 'Meat', 'Vegetable', 'Fruit', 'Meat']}\n",
    "\n",
    "df = pd.DataFrame(data)\n",
    "\n",
    "# Displaying the original DataFrame\n",
    "print(\"Original DataFrame:\")\n",
    "print(df)\n",
    "\n",
    "# Counting the number of unique elements in the 'Category' column\n",
    "num_unique_categories = df['Category'].nunique()\n",
    "\n",
    "# Displaying the number of unique elements\n",
    "print(\"\\nNumber of Unique Categories:\", num_unique_categories)\n"
   ]
  },
  {
   "cell_type": "markdown",
   "metadata": {},
   "source": [
    "<a id=\"multindex\"></a>\n",
    "## 5. Multi Index"
   ]
  },
  {
   "cell_type": "markdown",
   "metadata": {},
   "source": [
    "- MultiIndex: Used to create a hierarchical index for a DataFrame. This implies that the DataFrame's index can have multiple levels instead of just a single level."
   ]
  },
  {
   "cell_type": "markdown",
   "metadata": {},
   "source": [
    "<a id=\"create_3dtable\"></a>\n",
    "### 5.1 Creating a 3D hierarchical table using MultiIndex or other methods."
   ]
  },
  {
   "cell_type": "markdown",
   "metadata": {},
   "source": [
    "<a id=\"3dtable_multiindex\"></a>\n",
    "#### 5.1.1 Creating a hierarchical table with a MultiIndex "
   ]
  },
  {
   "cell_type": "code",
   "execution_count": 334,
   "metadata": {},
   "outputs": [
    {
     "name": "stdout",
     "output_type": "stream",
     "text": [
      "California  2000    10000\n",
      "            2010    15000\n",
      "New York    2000    20000\n",
      "            2010    25000\n",
      "Texas       2000    30000\n",
      "            2010    35000\n",
      "dtype: int64\n"
     ]
    }
   ],
   "source": [
    "import pandas as pd\n",
    "\n",
    "index = [('California', 2000),('California', 2010),\n",
    "         ('New York', 2000),('New York', 2010),\n",
    "         ('Texas', 2000),('Texas', 2010)]\n",
    "\n",
    "populations = [10000,15000,\n",
    "               20000,25000,\n",
    "               30000,35000]\n",
    "\n",
    "index = pd.MultiIndex.from_tuples(index)\n",
    "pop = pd.Series(populations, index=index)\n",
    "pop = pop.reindex(index)\n",
    "\n",
    "print(pop)\n"
   ]
  },
  {
   "cell_type": "markdown",
   "metadata": {},
   "source": [
    "<a id=\"3dtable_dataframe\"></a>\n",
    "#### 5.1.2 Creating a hierarchical table with a DataFrame \n",
    "\n",
    "The concept involves adding an index in 2D, considering the existing columns as 1D, resulting in a total of 3D structure."
   ]
  },
  {
   "cell_type": "code",
   "execution_count": 335,
   "metadata": {},
   "outputs": [
    {
     "name": "stdout",
     "output_type": "stream",
     "text": [
      "       income    profit\n",
      "a 1  0.434272  0.849378\n",
      "  2  0.930367  0.951611\n",
      "b 1  0.874657  0.133630\n",
      "  2  0.160487  0.983924\n"
     ]
    }
   ],
   "source": [
    "import pandas as pd\n",
    "import numpy as np\n",
    "df = pd.DataFrame(np.random.rand(4, 2),\n",
    "                  index=[['a', 'a', 'b', 'b'],\n",
    "                         [1, 2, 1, 2]],columns=['income', 'profit'])\n",
    "print(df)"
   ]
  },
  {
   "cell_type": "markdown",
   "metadata": {},
   "source": [
    "<a id=\"3dtable_dictionary\"></a>\n",
    "#### 5.1.3 Creating a hierarchical table with a dictionary \n",
    "\n",
    "The approach involves structuring the data in a dictionary, organizing it with nested dictionaries to achieve a hierarchical arrangement."
   ]
  },
  {
   "cell_type": "code",
   "execution_count": 336,
   "metadata": {},
   "outputs": [
    {
     "name": "stdout",
     "output_type": "stream",
     "text": [
      "California  2000    10000\n",
      "            2010    15000\n",
      "Texas       2000    20000\n",
      "            2010    25000\n",
      "New York    2000    30000\n",
      "            2010    35000\n",
      "dtype: int64\n"
     ]
    }
   ],
   "source": [
    "import pandas as pd\n",
    "data = {('California', 2000): 10000,('California', 2010):15000,\n",
    "        ('Texas', 2000): 20000,('Texas', 2010): 25000,\n",
    "        ('New York', 2000): 30000,('New York', 2010): 35000}\n",
    "df = pd.Series(data)\n",
    "print(df)\n"
   ]
  },
  {
   "cell_type": "markdown",
   "metadata": {},
   "source": [
    "<a id=\"searching_3dtable\"></a>\n",
    "### 5.2 Searching in the 3D Table by Year"
   ]
  },
  {
   "cell_type": "code",
   "execution_count": 337,
   "metadata": {},
   "outputs": [
    {
     "name": "stdout",
     "output_type": "stream",
     "text": [
      "California    15000\n",
      "New York      25000\n",
      "Texas         35000\n",
      "dtype: int64\n"
     ]
    }
   ],
   "source": [
    "import pandas as pd\n",
    "\n",
    "index = [('California', 2000),('California', 2010),\n",
    "         ('New York', 2000),('New York', 2010),\n",
    "         ('Texas', 2000),('Texas', 2010)]\n",
    "\n",
    "populations = [10000,15000,\n",
    "               20000,25000,\n",
    "               30000,35000]\n",
    "\n",
    "index = pd.MultiIndex.from_tuples(index)\n",
    "pop = pd.Series(populations, index=index)\n",
    "pop = pop.reindex(index)\n",
    "\n",
    "print(pop[:, 2010])\n"
   ]
  },
  {
   "cell_type": "markdown",
   "metadata": {},
   "source": [
    "<a id=\"backto_regularformate\"></a>\n",
    "### 5.3 Transforming the hierarchical table to a regular format using the unstack method."
   ]
  },
  {
   "cell_type": "code",
   "execution_count": 338,
   "metadata": {},
   "outputs": [
    {
     "name": "stdout",
     "output_type": "stream",
     "text": [
      "             2000   2010\n",
      "California  10000  15000\n",
      "New York    20000  25000\n",
      "Texas       30000  35000\n"
     ]
    }
   ],
   "source": [
    "import pandas as pd\n",
    "\n",
    "index = [('California', 2000),('California', 2010),\n",
    "         ('New York', 2000),('New York', 2010),\n",
    "         ('Texas', 2000),('Texas', 2010)]\n",
    "\n",
    "populations = [10000,15000,\n",
    "               20000,25000,\n",
    "               30000,35000]\n",
    "\n",
    "index = pd.MultiIndex.from_tuples(index)\n",
    "pop = pd.Series(populations, index=index)\n",
    "pop = pop.reindex(index)\n",
    "\n",
    "print(pop.unstack())\n"
   ]
  },
  {
   "cell_type": "markdown",
   "metadata": {},
   "source": [
    "<a id=\"add_more_columns\"></a>\n",
    "### 5.4 Adding one more column to the DataFrame"
   ]
  },
  {
   "cell_type": "code",
   "execution_count": 339,
   "metadata": {},
   "outputs": [
    {
     "name": "stdout",
     "output_type": "stream",
     "text": [
      "California  2000    10000\n",
      "            2010    15000\n",
      "New York    2000    20000\n",
      "            2010    25000\n",
      "Texas       2000    30000\n",
      "            2010    35000\n",
      "dtype: int64\n",
      "                 total  under18\n",
      "California 2000  10000  9267089\n",
      "           2010  15000  9284094\n",
      "New York   2000  20000  4687374\n",
      "           2010  25000  4318033\n",
      "Texas      2000  30000  5906301\n",
      "           2010  35000  6879014\n"
     ]
    }
   ],
   "source": [
    "import pandas as pd\n",
    "\n",
    "index = [('California', 2000),('California', 2010),\n",
    "         ('New York', 2000),('New York', 2010),\n",
    "         ('Texas', 2000),('Texas', 2010)]\n",
    "\n",
    "populations = [10000,15000,\n",
    "               20000,25000,\n",
    "               30000,35000]\n",
    "\n",
    "index = pd.MultiIndex.from_tuples(index)\n",
    "pop = pd.Series(populations, index=index)\n",
    "pop = pop.reindex(index)\n",
    "\n",
    "pop_df = pd.DataFrame({'total': pop,\n",
    "                       'under18':[9267089, 9284094,4687374,\n",
    "                                  4318033,5906301, 6879014]})\n",
    "\n",
    "print(pop)\n",
    "print(pop_df)\n"
   ]
  },
  {
   "cell_type": "markdown",
   "metadata": {},
   "source": [
    "<a id=\"complicated_3dtable\"></a>\n",
    "### 5.5 Examples of Complicated Tables with MultiIndex"
   ]
  },
  {
   "cell_type": "code",
   "execution_count": 340,
   "metadata": {},
   "outputs": [
    {
     "name": "stdout",
     "output_type": "stream",
     "text": [
      "subject     Bob      Guido       Sue     \n",
      "type         HR Temp    HR Temp   HR Temp\n",
      "year visit                               \n",
      "2013 1     -1.0  1.0  -0.0  0.0 -1.0  1.0\n",
      "     2      0.0 -1.0  -2.0 -1.0 -0.0  1.0\n",
      "2014 1     -0.0  0.0   0.0 -1.0 -0.0  0.0\n",
      "     2      0.0 -0.0   1.0 -1.0 -0.0  2.0\n"
     ]
    }
   ],
   "source": [
    "import pandas as pd\n",
    "import numpy  as np\n",
    "\n",
    "index = pd.MultiIndex.from_product([[2013, 2014],[1, 2]],\n",
    "                                   names=['year', 'visit'])\n",
    "\n",
    "columns = pd.MultiIndex.from_product([['Bob', 'Guido', 'Sue'],\n",
    "                                      ['HR', 'Temp']],\n",
    "                                    names=['subject', 'type'])\n",
    "data = np.round(np.random.randn(4, 6))\n",
    "health_data = pd.DataFrame(data, index=index, columns=columns)\n",
    "print(health_data)"
   ]
  },
  {
   "cell_type": "code",
   "execution_count": 341,
   "metadata": {},
   "outputs": [
    {
     "name": "stdout",
     "output_type": "stream",
     "text": [
      "year  visit\n",
      "2013  1       -1.0\n",
      "      2        0.0\n",
      "2014  1       -0.0\n",
      "      2        1.0\n",
      "Name: (Guido, HR), dtype: float64\n"
     ]
    }
   ],
   "source": [
    "import pandas as pd\n",
    "import numpy  as np\n",
    "\n",
    "index = pd.MultiIndex.from_product([[2013, 2014],[1, 2]],\n",
    "                                   names=['year', 'visit'])\n",
    "\n",
    "columns = pd.MultiIndex.from_product([['Bob', 'Guido', 'Sue'],\n",
    "                                      ['HR', 'Temp']],\n",
    "                                    names=['subject', 'type'])\n",
    "data = np.round(np.random.randn(4, 6))\n",
    "health_data = pd.DataFrame(data, index=index, columns=columns)\n",
    "\n",
    "print(health_data['Guido', 'HR'])\n"
   ]
  },
  {
   "cell_type": "code",
   "execution_count": 342,
   "metadata": {},
   "outputs": [
    {
     "name": "stdout",
     "output_type": "stream",
     "text": [
      "year  visit\n",
      "2013  1       -2.0\n",
      "      2       -0.0\n",
      "2014  1       -1.0\n",
      "      2       -0.0\n",
      "Name: (Bob, HR), dtype: float64\n"
     ]
    }
   ],
   "source": [
    "import pandas as pd\n",
    "import numpy  as np\n",
    "\n",
    "index = pd.MultiIndex.from_product([[2013, 2014],[1, 2]],\n",
    "                                   names=['year', 'visit'])\n",
    "\n",
    "columns = pd.MultiIndex.from_product([['Bob', 'Guido', 'Sue'],\n",
    "                                      ['HR', 'Temp']],\n",
    "                                    names=['subject', 'type'])\n",
    "data = np.round(np.random.randn(4, 6))\n",
    "health_data = pd.DataFrame(data, index=index, columns=columns)\n",
    "\n",
    "print(health_data.loc[:, ('Bob', 'HR')])\n"
   ]
  },
  {
   "cell_type": "code",
   "execution_count": 343,
   "metadata": {},
   "outputs": [
    {
     "name": "stdout",
     "output_type": "stream",
     "text": [
      "subject     Bob Guido  Sue\n",
      "type         HR    HR   HR\n",
      "year visit                \n",
      "2013 1      1.0   2.0 -0.0\n",
      "2014 1     -0.0  -1.0 -1.0\n"
     ]
    }
   ],
   "source": [
    "import pandas as pd\n",
    "import numpy  as np\n",
    "\n",
    "index = pd.MultiIndex.from_product([[2013, 2014],[1, 2]],\n",
    "                                   names=['year', 'visit'])\n",
    "\n",
    "columns = pd.MultiIndex.from_product([['Bob', 'Guido', 'Sue'],\n",
    "                                      ['HR', 'Temp']],\n",
    "                                    names=['subject', 'type'])\n",
    "data = np.round(np.random.randn(4, 6))\n",
    "health_data = pd.DataFrame(data, index=index, columns=columns)\n",
    "  \n",
    "idx = pd.IndexSlice\n",
    "print(health_data.loc[idx[:, 1], idx[:, 'HR']])"
   ]
  },
  {
   "cell_type": "markdown",
   "metadata": {},
   "source": [
    "<a id=\"string\"></a>\n",
    "## 6. String in pandas"
   ]
  },
  {
   "cell_type": "markdown",
   "metadata": {},
   "source": [
    "* Pandas handles strings through various methods, offering a range of functionalities for string manipulation. \n",
    "* It's important to note that you can access the data as a series and then use the str class, which contains numerous functions for applying operations element-wise and returning the result for each element."
   ]
  },
  {
   "cell_type": "code",
   "execution_count": 344,
   "metadata": {},
   "outputs": [
    {
     "name": "stdout",
     "output_type": "stream",
     "text": [
      "0    5\n",
      "1    4\n",
      "2    4\n",
      "3    2\n",
      "4    2\n",
      "dtype: int64\n",
      "0     True\n",
      "1    False\n",
      "2    False\n",
      "3    False\n",
      "4    False\n",
      "dtype: bool\n",
      "0    False\n",
      "1    False\n",
      "2     True\n",
      "3    False\n",
      "4    False\n",
      "dtype: bool\n",
      "0    2\n",
      "1   -1\n",
      "2   -1\n",
      "3   -1\n",
      "4   -1\n",
      "dtype: int64\n",
      "0   -1\n",
      "1   -1\n",
      "2    1\n",
      "3   -1\n",
      "4   -1\n",
      "dtype: int64\n"
     ]
    }
   ],
   "source": [
    "import pandas as pd\n",
    "data = ['peter', 'Paul', 'MARY', '15' , '  ' ]\n",
    "print( pd.Series(data).str.len()) # length\n",
    "print( pd.Series(data).str.startswith('p'))# is it start with \"p\"\n",
    "print( pd.Series(data).str.endswith('Y')) #does is end with \"r\"\n",
    "print( pd.Series(data).str.find('t')) # find this letter\n",
    "print( pd.Series(data).str.rfind('A'))# find it from right\n"
   ]
  },
  {
   "cell_type": "code",
   "execution_count": 345,
   "metadata": {},
   "outputs": [
    {
     "name": "stdout",
     "output_type": "stream",
     "text": [
      "0                   peter\n",
      "1                    Paul\n",
      "2                    MARY\n",
      "3                      15\n",
      "4                        \n",
      "dtype: object\n",
      "0    peter                                         ...\n",
      "1    Paul                                          ...\n",
      "2    MARY                                          ...\n",
      "3    15                                            ...\n",
      "4                                                  ...\n",
      "dtype: object\n",
      "0      peter   \n",
      "1       Paul   \n",
      "2       MARY   \n",
      "3        15    \n",
      "4              \n",
      "dtype: object\n",
      "0    peter\n",
      "1    0Paul\n",
      "2    0MARY\n",
      "3    00015\n",
      "4    000  \n",
      "dtype: object\n"
     ]
    }
   ],
   "source": [
    "import pandas as pd\n",
    "data = ['peter', 'Paul', 'MARY', '15' , '  ' ]\n",
    "print( pd.Series(data).str.rjust(20))# adjust from right\n",
    "print( pd.Series(data).str.ljust(50))# adjust from left\n",
    "print( pd.Series(data).str.center(10))# make it center \n",
    "print( pd.Series(data).str.zfill(5))# fill zeros\n"
   ]
  },
  {
   "cell_type": "code",
   "execution_count": 346,
   "metadata": {},
   "outputs": [
    {
     "name": "stdout",
     "output_type": "stream",
     "text": [
      "0    False\n",
      "1    False\n",
      "2     True\n",
      "3    False\n",
      "4    False\n",
      "dtype: bool\n",
      "0     True\n",
      "1    False\n",
      "2    False\n",
      "3    False\n",
      "4    False\n",
      "dtype: bool\n",
      "0    False\n",
      "1     True\n",
      "2    False\n",
      "3    False\n",
      "4    False\n",
      "dtype: bool\n",
      "0    False\n",
      "1    False\n",
      "2    False\n",
      "3    False\n",
      "4     True\n",
      "dtype: bool\n",
      "0    False\n",
      "1    False\n",
      "2    False\n",
      "3     True\n",
      "4    False\n",
      "dtype: bool\n",
      "0     True\n",
      "1     True\n",
      "2     True\n",
      "3    False\n",
      "4    False\n",
      "dtype: bool\n",
      "0     True\n",
      "1     True\n",
      "2     True\n",
      "3     True\n",
      "4    False\n",
      "dtype: bool\n",
      "0    False\n",
      "1    False\n",
      "2    False\n",
      "3     True\n",
      "4    False\n",
      "dtype: bool\n",
      "0    False\n",
      "1    False\n",
      "2    False\n",
      "3     True\n",
      "4    False\n",
      "dtype: bool\n",
      "0    PETER\n",
      "1     PAUL\n",
      "2     MARY\n",
      "3       15\n",
      "4         \n",
      "dtype: object\n",
      "0    Peter\n",
      "1     Paul\n",
      "2     Mary\n",
      "3       15\n",
      "4         \n",
      "dtype: object\n",
      "0    peter\n",
      "1     paul\n",
      "2     mary\n",
      "3       15\n",
      "4         \n",
      "dtype: object\n",
      "0    PETER\n",
      "1     pAUL\n",
      "2     mary\n",
      "3       15\n",
      "4         \n",
      "dtype: object\n"
     ]
    }
   ],
   "source": [
    "import pandas as pd\n",
    "data = ['peter', 'Paul', 'MARY', '15' , '  ' ]\n",
    "print( pd.Series(data).str.isupper())# is it all calpital\n",
    "print( pd.Series(data).str.islower())# is it lower ? \n",
    "print( pd.Series(data).str.istitle())# is like like \"This\"\n",
    "print( pd.Series(data).str.isspace())# is it all spaces ? \n",
    "print( pd.Series(data).str.isdigit())# is it numbers ?\n",
    "print( pd.Series(data).str.isalpha())# is it all letters ?\n",
    "print( pd.Series(data).str.isalnum())# is it not got any spaces ? \n",
    "print( pd.Series(data).str.isdecimal())# is it decimals ? \n",
    "print( pd.Series(data).str.isnumeric()) # is it number\n",
    "print( pd.Series(data).str.upper())# make it capital\n",
    "print( pd.Series(data).str.capitalize())# make it like 'This'\n",
    "print( pd.Series(data).str.lower())# make it lower\n",
    "print( pd.Series(data).str.swapcase())# switch capital & small\n"
   ]
  },
  {
   "cell_type": "markdown",
   "metadata": {},
   "source": [
    "<a id=\"date&time\"></a>\n",
    "## 7. Date & Time"
   ]
  },
  {
   "cell_type": "markdown",
   "metadata": {},
   "source": [
    "<a id=\"write_date\"></a>\n",
    "### 7.1 Write Date in Pandas"
   ]
  },
  {
   "cell_type": "markdown",
   "metadata": {},
   "source": [
    "* In Pandas, dates are typically represented in the format of year, month, day, hour, minute, and second. \n",
    "* This format allows for easy access to individual components such as year, month, day, hour, minute, and second."
   ]
  },
  {
   "cell_type": "code",
   "execution_count": 347,
   "metadata": {},
   "outputs": [
    {
     "name": "stdout",
     "output_type": "stream",
     "text": [
      "2018-07-04 00:00:00\n"
     ]
    }
   ],
   "source": [
    "import pandas as pd\n",
    "\n",
    "x = pd.to_datetime(\"4th of July, 2018\")\n",
    " \n",
    "print(x)\n"
   ]
  },
  {
   "cell_type": "markdown",
   "metadata": {},
   "source": [
    "<a id=\"date_range\"></a>\n",
    "### 7.2 Range between past and future dates"
   ]
  },
  {
   "cell_type": "code",
   "execution_count": 348,
   "metadata": {},
   "outputs": [
    {
     "name": "stdout",
     "output_type": "stream",
     "text": [
      "2018-07-04 00:00:00\n",
      "DatetimeIndex(['2018-07-04', '2018-07-05', '2018-07-06', '2018-07-07',\n",
      "               '2018-07-08', '2018-07-09', '2018-07-10', '2018-07-11',\n",
      "               '2018-07-12', '2018-07-13', '2018-07-14', '2018-07-15',\n",
      "               '2018-07-16', '2018-07-17', '2018-07-18', '2018-07-19',\n",
      "               '2018-07-20', '2018-07-21', '2018-07-22', '2018-07-23'],\n",
      "              dtype='datetime64[ns]', freq=None)\n",
      "DatetimeIndex(['2018-07-04', '2018-07-03', '2018-07-02', '2018-07-01',\n",
      "               '2018-06-30', '2018-06-29', '2018-06-28', '2018-06-27',\n",
      "               '2018-06-26', '2018-06-25', '2018-06-24', '2018-06-23',\n",
      "               '2018-06-22', '2018-06-21', '2018-06-20', '2018-06-19',\n",
      "               '2018-06-18', '2018-06-17', '2018-06-16', '2018-06-15'],\n",
      "              dtype='datetime64[ns]', freq=None)\n"
     ]
    }
   ],
   "source": [
    "import pandas as pd\n",
    "import numpy as np\n",
    "x = pd.to_datetime(\"4th of July, 2018\")\n",
    " \n",
    "y = x + pd.to_timedelta(np.arange(20),'D')\n",
    "z = x - pd.to_timedelta(np.arange(20),'D')\n",
    "\n",
    "print(x)\n",
    "print(y)\n",
    "print(z)\n"
   ]
  },
  {
   "cell_type": "markdown",
   "metadata": {},
   "source": [
    "<a id=\"date_tables\"></a>\n",
    "### 7.3 Write Dates & Tables "
   ]
  },
  {
   "cell_type": "markdown",
   "metadata": {},
   "source": [
    "<a id=\"date_tables_create\"></a>\n",
    "#### 7.3.1 Creating a Table for Dates"
   ]
  },
  {
   "cell_type": "code",
   "execution_count": 349,
   "metadata": {},
   "outputs": [
    {
     "name": "stdout",
     "output_type": "stream",
     "text": [
      "2014-07-04    0\n",
      "2014-08-04    1\n",
      "2015-07-04    2\n",
      "2015-08-04    3\n",
      "dtype: int64\n"
     ]
    }
   ],
   "source": [
    "import pandas as pd\n",
    "index = pd.DatetimeIndex(['2014-07-04', '2014-08-04',\n",
    "                          '2015-07-04','2015-08-04'])\n",
    "data = pd.Series([0, 1, 2, 3], index=index)\n",
    "print(data)"
   ]
  },
  {
   "cell_type": "markdown",
   "metadata": {},
   "source": [
    "<a id=\"date_tables_filter\"></a>\n",
    "#### 7.3.2 Filtering based on dates: days, months, or years"
   ]
  },
  {
   "cell_type": "code",
   "execution_count": 350,
   "metadata": {},
   "outputs": [
    {
     "name": "stdout",
     "output_type": "stream",
     "text": [
      "2011-03-12    0\n",
      "2012-08-21    1\n",
      "dtype: int64\n"
     ]
    }
   ],
   "source": [
    "import pandas as pd\n",
    "index = pd.DatetimeIndex(['2011-03-12', '2012-08-21',\n",
    "                          '2013-07-11','2014-11-08'])\n",
    "data = pd.Series([0, 1, 2, 3], index=index)\n",
    "print(data['2011-01-01':'2012-12-31'])"
   ]
  },
  {
   "cell_type": "code",
   "execution_count": 351,
   "metadata": {},
   "outputs": [
    {
     "name": "stdout",
     "output_type": "stream",
     "text": [
      "2012-08-21    1\n",
      "dtype: int64\n"
     ]
    }
   ],
   "source": [
    "import pandas as pd\n",
    "index = pd.DatetimeIndex(['2011-03-12', '2012-08-21',\n",
    "                          '2013-07-11','2014-11-08'])\n",
    "\n",
    "data = pd.Series([0, 1, 2, 3], index=index)\n",
    "print(data['2012'])\n"
   ]
  },
  {
   "cell_type": "code",
   "execution_count": 352,
   "metadata": {},
   "outputs": [
    {
     "name": "stdout",
     "output_type": "stream",
     "text": [
      "2012-08-21    1\n",
      "dtype: int64\n"
     ]
    }
   ],
   "source": [
    "import pandas as pd\n",
    "index = pd.DatetimeIndex(['2011-03-12', '2012-08-21',\n",
    "                          '2013-07-11','2014-11-08'])\n",
    "\n",
    "data = pd.Series([0, 1, 2, 3], index=index)\n",
    "print(data['2012-08'])"
   ]
  },
  {
   "cell_type": "markdown",
   "metadata": {},
   "source": [
    "<a id=\"date_tables_range\"></a>\n",
    "#### 7.3.3 Creating a table for dates with a range between two dates or starting from a specific day."
   ]
  },
  {
   "cell_type": "code",
   "execution_count": 353,
   "metadata": {},
   "outputs": [
    {
     "name": "stdout",
     "output_type": "stream",
     "text": [
      "DatetimeIndex(['2011-12-25', '2011-12-26', '2011-12-27', '2011-12-28',\n",
      "               '2011-12-29', '2011-12-30', '2011-12-31', '2012-01-01',\n",
      "               '2012-01-02', '2012-01-03', '2012-01-04', '2012-01-05',\n",
      "               '2012-01-06', '2012-01-07', '2012-01-08'],\n",
      "              dtype='datetime64[ns]', freq='D')\n"
     ]
    }
   ],
   "source": [
    "import pandas as pd\n",
    "data = pd.date_range('2011-12-25', '2012-01-08')\n",
    "print(data)"
   ]
  },
  {
   "cell_type": "code",
   "execution_count": 354,
   "metadata": {},
   "outputs": [
    {
     "name": "stdout",
     "output_type": "stream",
     "text": [
      "DatetimeIndex(['2011-12-25', '2011-12-26', '2011-12-27', '2011-12-28',\n",
      "               '2011-12-29', '2011-12-30', '2011-12-31', '2012-01-01'],\n",
      "              dtype='datetime64[ns]', freq='D')\n"
     ]
    }
   ],
   "source": [
    "import pandas as pd\n",
    "data = pd.date_range('2011-12-25', periods=8)\n",
    "print(data)"
   ]
  },
  {
   "cell_type": "code",
   "execution_count": 355,
   "metadata": {},
   "outputs": [
    {
     "name": "stdout",
     "output_type": "stream",
     "text": [
      "DatetimeIndex(['2011-12-25 00:00:00', '2011-12-25 01:00:00',\n",
      "               '2011-12-25 02:00:00', '2011-12-25 03:00:00',\n",
      "               '2011-12-25 04:00:00', '2011-12-25 05:00:00',\n",
      "               '2011-12-25 06:00:00', '2011-12-25 07:00:00'],\n",
      "              dtype='datetime64[ns]', freq='H')\n"
     ]
    }
   ],
   "source": [
    "import pandas as pd\n",
    "data = pd.date_range('2011-12-25', periods=8, freq='H')\n",
    "print(data)"
   ]
  },
  {
   "cell_type": "markdown",
   "metadata": {},
   "source": [
    "<a id=\"date_tables_range_hours\"></a>\n",
    "#### 7.3.4 Creating a table for dates with a range specified by hours only, excluding dates."
   ]
  },
  {
   "cell_type": "code",
   "execution_count": 356,
   "metadata": {},
   "outputs": [
    {
     "name": "stdout",
     "output_type": "stream",
     "text": [
      "TimedeltaIndex(['0 days 00:00:00', '0 days 01:00:00', '0 days 02:00:00',\n",
      "                '0 days 03:00:00', '0 days 04:00:00', '0 days 05:00:00',\n",
      "                '0 days 06:00:00', '0 days 07:00:00', '0 days 08:00:00',\n",
      "                '0 days 09:00:00'],\n",
      "               dtype='timedelta64[ns]', freq='H')\n"
     ]
    }
   ],
   "source": [
    "import pandas as pd\n",
    "data = pd.timedelta_range(0, periods=10, freq='H')\n",
    "print(data)\n"
   ]
  },
  {
   "cell_type": "code",
   "execution_count": 357,
   "metadata": {},
   "outputs": [
    {
     "name": "stdout",
     "output_type": "stream",
     "text": [
      "TimedeltaIndex(['0 days 00:00:00', '0 days 02:30:40', '0 days 05:01:20',\n",
      "                '0 days 07:32:00', '0 days 10:02:40', '0 days 12:33:20',\n",
      "                '0 days 15:04:00', '0 days 17:34:40', '0 days 20:05:20'],\n",
      "               dtype='timedelta64[ns]', freq='9040S')\n"
     ]
    }
   ],
   "source": [
    "import pandas as pd\n",
    "data = pd.timedelta_range(0, periods=9, freq=\"2H30T40S\")\n",
    "print(data)\n"
   ]
  },
  {
   "cell_type": "code",
   "execution_count": 358,
   "metadata": {},
   "outputs": [
    {
     "name": "stdout",
     "output_type": "stream",
     "text": [
      "DatetimeIndex(['2018-07-02', '2018-07-03', '2018-07-04', '2018-07-05',\n",
      "               '2018-07-06'],\n",
      "              dtype='datetime64[ns]', freq='B')\n"
     ]
    }
   ],
   "source": [
    "import pandas as pd\n",
    "from pandas.tseries.offsets import BDay\n",
    "data = pd.date_range('2018-07-01', periods=5, freq=BDay())\n",
    "\n",
    "print(data)\n"
   ]
  },
  {
   "cell_type": "markdown",
   "metadata": {},
   "source": [
    "<a id=\"files\"></a>\n",
    "## 8. File Handling (CSV files)"
   ]
  },
  {
   "cell_type": "markdown",
   "metadata": {},
   "source": [
    "The **CSV**  (Comma-Separated Values) file --> is a text file format that uses commas to separate values"
   ]
  },
  {
   "cell_type": "markdown",
   "metadata": {},
   "source": [
    "<a id=\"read_files\"></a>\n",
    "### 8.1 Read CSV or Excel file\n",
    ">  (Comma-Separated Values) is a text file format that uses commas to separate values"
   ]
  },
  {
   "cell_type": "code",
   "execution_count": 359,
   "metadata": {},
   "outputs": [
    {
     "name": "stdout",
     "output_type": "stream",
     "text": [
      "   sepal_length  sepal_width  petal_length  petal_width        class\n",
      "0           4.9          3.0           1.4          0.2  Iris-setosa\n",
      "1           4.7          3.2           1.3          0.2  Iris-setosa\n",
      "2           4.6          3.1           1.5          0.2  Iris-setosa\n",
      "3           5.0          3.6           1.4          0.2  Iris-setosa\n",
      "4           5.4          3.9           1.7          0.4  Iris-setosa\n",
      "5           4.6          3.4           1.4          0.3  Iris-setosa\n",
      "6           5.0          3.4           1.5          0.2  Iris-setosa\n",
      "7           4.4          2.9           1.4          0.2  Iris-setosa\n",
      "8           4.9          3.1           1.5          0.1  Iris-setosa\n",
      "9           5.4          3.7           1.5          0.2  Iris-setosa\n"
     ]
    }
   ],
   "source": [
    "iris = 'http://archive.ics.uci.edu/ml/machine-learning-databases/iris/iris.data'\n",
    "df = pd.read_csv(iris, sep=',')\n",
    "df.columns = [\"sepal_length\", \"sepal_width\", \"petal_length\", \"petal_width\", \"class\"]\n",
    "print(df.head(10))"
   ]
  },
  {
   "cell_type": "code",
   "execution_count": 360,
   "metadata": {},
   "outputs": [
    {
     "name": "stdout",
     "output_type": "stream",
     "text": [
      "  Unnamed: 0  Math  Physics  French  Chemistry\n",
      "0          a     1        6      11         16\n",
      "1          b     2        7      12         17\n",
      "2          c     3        8      13         18\n",
      "3          d     4        9      14         19\n",
      "4          e     5       10      15         20\n",
      "  Unnamed: 0  Math  Physics  French  Chemistry\n",
      "0          a     1        6      11         16\n",
      "1          b     2        7      12         17\n",
      "2          c     3        8      13         18\n",
      "3          d     4        9      14         19\n",
      "4          e     5       10      15         20\n"
     ]
    }
   ],
   "source": [
    "import pandas as pd\n",
    "\n",
    "grades1 = pd.read_csv('dataframe1.csv')\n",
    "grades2 = pd.read_excel('dataframe1.xlsx')\n",
    "\n",
    "print(grades1)\n",
    "print(grades2)\n"
   ]
  },
  {
   "cell_type": "markdown",
   "metadata": {},
   "source": [
    "<a id=\"save_df\"></a>\n",
    "### 8.2 Save DF as CSV or Excel file"
   ]
  },
  {
   "cell_type": "code",
   "execution_count": 361,
   "metadata": {},
   "outputs": [
    {
     "name": "stdout",
     "output_type": "stream",
     "text": [
      "   Math  Physics  French  Chemistry\n",
      "a     1        6      11         16\n",
      "b     2        7      12         17\n",
      "c     3        8      13         18\n",
      "d     4        9      14         19\n",
      "e     5       10      15         20\n"
     ]
    }
   ],
   "source": [
    "import pandas as pd\n",
    "w = pd.Series({'a':1 ,'b':2 ,'c':3 ,'d':4 ,'e':5})\n",
    "x = pd.Series({'a':6 ,'b':7 ,'c':8 ,'d':9 ,'e':10})\n",
    "y = pd.Series({'a':11 ,'b':12 ,'c':13 ,'d':14 ,'e':15})\n",
    "z = pd.Series({'a':16 ,'b':17 ,'c':18 ,'d':19 ,'e':20})\n",
    "grades = pd.DataFrame({'Math':w,'Physics':x,'French':y,'Chemistry':z})\n",
    "\n",
    "print(grades)\n",
    "grades.to_csv('dataframe1.csv')\n"
   ]
  },
  {
   "cell_type": "code",
   "execution_count": 362,
   "metadata": {},
   "outputs": [
    {
     "name": "stdout",
     "output_type": "stream",
     "text": [
      "   Math  Physics  French  Chemistry\n",
      "a     1        6      11         16\n",
      "b     2        7      12         17\n",
      "c     3        8      13         18\n",
      "d     4        9      14         19\n",
      "e     5       10      15         20\n"
     ]
    }
   ],
   "source": [
    "import pandas as pd\n",
    "\n",
    "w = pd.Series({'a':1 ,'b':2 ,'c':3 ,'d':4 ,'e':5})\n",
    "x = pd.Series({'a':6 ,'b':7 ,'c':8 ,'d':9 ,'e':10})\n",
    "y = pd.Series({'a':11 ,'b':12 ,'c':13 ,'d':14 ,'e':15})\n",
    "z = pd.Series({'a':16 ,'b':17 ,'c':18 ,'d':19 ,'e':20})\n",
    "\n",
    "grades = pd.DataFrame({'Math':w,'Physics':x,'French':y,'Chemistry':z})\n",
    "\n",
    "print(grades)\n",
    "grades.to_excel('dataframe1.xlsx',sheet_name ='Sheet1')\n"
   ]
  },
  {
   "cell_type": "markdown",
   "metadata": {},
   "source": [
    "<a id=\"methods_reading_data\"></a>\n",
    "### 8.3 Applying different methods while reading the DataFrame "
   ]
  },
  {
   "cell_type": "markdown",
   "metadata": {},
   "source": [
    "<a id=\"specify_index\"></a>\n",
    "#### 8.3.1 Specify one column to be the index column "
   ]
  },
  {
   "cell_type": "code",
   "execution_count": 363,
   "metadata": {},
   "outputs": [
    {
     "name": "stdout",
     "output_type": "stream",
     "text": [
      "     Unnamed: 0  Physics  French  Chemistry\n",
      "Math                                       \n",
      "1             a        6      11         16\n",
      "2             b        7      12         17\n",
      "3             c        8      13         18\n",
      "4             d        9      14         19\n",
      "5             e       10      15         20\n"
     ]
    }
   ],
   "source": [
    "import pandas as pd\n",
    "data=pd.read_csv(\"dataframe1.csv\",  index_col= \"Math\")\n",
    "print(data)\n"
   ]
  },
  {
   "cell_type": "markdown",
   "metadata": {},
   "source": [
    "<a id=\"skip_rows\"></a>\n",
    "#### 8.3.2 Skip some rows "
   ]
  },
  {
   "cell_type": "markdown",
   "metadata": {},
   "source": [
    "> Example for reading data and displaying from a CSV file:\n",
    "- In this example, we skip the first three rows in the CSV file since they contain comments that I want to keep in the CSV file. Adjust the number accordingly based on your specific file."
   ]
  },
  {
   "cell_type": "code",
   "execution_count": 364,
   "metadata": {},
   "outputs": [
    {
     "name": "stdout",
     "output_type": "stream",
     "text": [
      "         Physics     French  Chemistry\n",
      "count   5.000000   5.000000   5.000000\n",
      "mean    8.000000  13.000000  18.000000\n",
      "std     1.581139   1.581139   1.581139\n",
      "min     6.000000  11.000000  16.000000\n",
      "25%     7.000000  12.000000  17.000000\n",
      "50%     8.000000  13.000000  18.000000\n",
      "75%     9.000000  14.000000  19.000000\n",
      "max    10.000000  15.000000  20.000000\n"
     ]
    }
   ],
   "source": [
    "import pandas as pd\n",
    "filename= \"pima-indians-diabetes.csv\"\n",
    "names = ['preg', 'plas', 'pres', 'skin', 'test', 'mass', 'pedi', 'age', 'class']\n",
    "df = pd.read_csv(filename, skiprows=9, names = names)\n",
    "# df.head(10)\n",
    "description = data.describe()\n",
    "print(description)"
   ]
  },
  {
   "cell_type": "markdown",
   "metadata": {},
   "source": [
    "<a id=\"classify_data\"></a>\n",
    "#### 8.3.3 Classify Data "
   ]
  },
  {
   "cell_type": "markdown",
   "metadata": {},
   "source": [
    "> Example for classifying this data based on class (0,0) using groupby."
   ]
  },
  {
   "cell_type": "code",
   "execution_count": 365,
   "metadata": {},
   "outputs": [
    {
     "name": "stdout",
     "output_type": "stream",
     "text": [
      "class\n",
      "0    496\n",
      "1    263\n",
      "dtype: int64\n"
     ]
    }
   ],
   "source": [
    "# Class Distribution\n",
    "import pandas as pd\n",
    "filename= \"pima-indians-diabetes.csv\"\n",
    "names = ['preg', 'plas', 'pres', 'skin', 'test', 'mass', 'pedi', 'age', 'class']\n",
    "data = pd.read_csv(filename, skiprows=9, names = names)\n",
    "class_counts = data.groupby('class').size()\n",
    "print(class_counts)\n"
   ]
  },
  {
   "cell_type": "markdown",
   "metadata": {},
   "source": [
    "<a id=\"corr_skew\"></a>\n",
    "#### 8.3.4 Correlation and Skew "
   ]
  },
  {
   "cell_type": "markdown",
   "metadata": {},
   "source": [
    "* Example for correlation of reading data from a file and skew:\n",
    "    * A positive skew indicates that the distribution is skewed to the right, with more values above the mean than below the mean. \n",
    "    * Conversely, a negative skew indicates that the distribution is skewed to the left, with more values below the mean than above the mean."
   ]
  },
  {
   "cell_type": "code",
   "execution_count": 366,
   "metadata": {},
   "outputs": [
    {
     "name": "stdout",
     "output_type": "stream",
     "text": [
      "           preg      plas      pres      skin      test      mass      pedi  \\\n",
      "preg   1.000000  0.127728  0.149506 -0.074168 -0.067703  0.019442 -0.027012   \n",
      "plas   0.127728  1.000000  0.154069  0.056797  0.327046  0.224216  0.135667   \n",
      "pres   0.149506  0.154069  1.000000  0.207468  0.089140  0.289950  0.048191   \n",
      "skin  -0.074168  0.056797  0.207468  1.000000  0.433753  0.392981  0.183119   \n",
      "test  -0.067703  0.327046  0.089140  0.433753  1.000000  0.198878  0.190445   \n",
      "mass   0.019442  0.224216  0.289950  0.392981  0.198878  1.000000  0.133216   \n",
      "pedi  -0.027012  0.135667  0.048191  0.183119  0.190445  0.133216  1.000000   \n",
      "age    0.549304  0.257701  0.240014 -0.120604 -0.051139  0.035393  0.033239   \n",
      "class  0.225405  0.464388  0.067412  0.068956  0.124995  0.293990  0.167127   \n",
      "\n",
      "            age     class  \n",
      "preg   0.549304  0.225405  \n",
      "plas   0.257701  0.464388  \n",
      "pres   0.240014  0.067412  \n",
      "skin  -0.120604  0.068956  \n",
      "test  -0.051139  0.124995  \n",
      "mass   0.035393  0.293990  \n",
      "pedi   0.033239  0.167127  \n",
      "age    1.000000  0.235132  \n",
      "class  0.235132  1.000000  \n",
      "preg     0.905962\n",
      "plas     0.162860\n",
      "pres    -1.850360\n",
      "skin     0.115403\n",
      "test     2.266363\n",
      "mass    -0.436700\n",
      "pedi     1.828278\n",
      "age      1.131371\n",
      "class    0.646393\n",
      "dtype: float64\n"
     ]
    }
   ],
   "source": [
    "import pandas as pd\n",
    "filename= \"pima-indians-diabetes.csv\"\n",
    "names = ['preg', 'plas', 'pres', 'skin', 'test', 'mass', 'pedi', 'age', 'class']\n",
    "data = pd.read_csv(filename, skiprows=9, names = names)\n",
    "correlations = data.corr(method='pearson')\n",
    "print(correlations)\n",
    "skew = data.skew()\n",
    "print(skew)"
   ]
  },
  {
   "cell_type": "markdown",
   "metadata": {},
   "source": [
    "&nbsp;\n",
    "<a id='resources'></a>\n",
    "## The Key Resources :\n",
    "--------------------------\n",
    "- Codes and examples in this notebook based heavily on [Hesham Asem Python Playlist for ML](https://www.youtube.com/watch?v=BbuyR2HDn0U&list=PL6-3IRz2XF5UM-FWfQeF1_YhMMa12Eg3s). "
   ]
  }
 ],
 "metadata": {
  "kernelspec": {
   "display_name": "base",
   "language": "python",
   "name": "python3"
  },
  "language_info": {
   "codemirror_mode": {
    "name": "ipython",
    "version": 3
   },
   "file_extension": ".py",
   "mimetype": "text/x-python",
   "name": "python",
   "nbconvert_exporter": "python",
   "pygments_lexer": "ipython3",
   "version": "3.12.0"
  }
 },
 "nbformat": 4,
 "nbformat_minor": 2
}
